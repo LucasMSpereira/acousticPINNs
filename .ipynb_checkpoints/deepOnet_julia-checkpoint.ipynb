{
 "cells": [
  {
   "cell_type": "markdown",
   "id": "ec45f09d",
   "metadata": {},
   "source": [
    "## Packages"
   ]
  },
  {
   "cell_type": "code",
   "execution_count": 1,
   "id": "ba6feb9d",
   "metadata": {},
   "outputs": [],
   "source": [
    "using NeuralOperators, CUDA, HDF5, Flux"
   ]
  },
  {
   "cell_type": "markdown",
   "id": "3bf561b2",
   "metadata": {},
   "source": [
    "## Define Device"
   ]
  },
  {
   "cell_type": "code",
   "execution_count": 2,
   "id": "43450983",
   "metadata": {},
   "outputs": [
    {
     "name": "stderr",
     "output_type": "stream",
     "text": [
      "\u001b[36m\u001b[1m[ \u001b[22m\u001b[39m\u001b[36m\u001b[1mInfo: \u001b[22m\u001b[39mTraining on GPU\n"
     ]
    },
    {
     "data": {
      "text/plain": [
       "gpu (generic function with 1 method)"
      ]
     },
     "execution_count": 2,
     "metadata": {},
     "output_type": "execute_result"
    }
   ],
   "source": [
    "if has_cuda()\n",
    "    @info \"Training on GPU\"\n",
    "    device = gpu\n",
    "else\n",
    "    @info \"Training on CPU\"\n",
    "    device = cpu\n",
    "end"
   ]
  },
  {
   "cell_type": "markdown",
   "id": "44b60c78",
   "metadata": {},
   "source": [
    "## Get data"
   ]
  },
  {
   "cell_type": "code",
   "execution_count": 3,
   "id": "42eafec4",
   "metadata": {},
   "outputs": [
    {
     "data": {
      "text/plain": [
       "391036×4 Matrix{Float64}:\n",
       " -1.61352  -1.84881   -1.71718  0.107731\n",
       " -1.56241  -1.84881   -1.71718  0.107731\n",
       " -1.51129  -1.84881   -1.71718  0.107731\n",
       " -1.46018  -1.84881   -1.71718  0.107731\n",
       " -1.40906  -1.84881   -1.71718  0.107731\n",
       " -1.35794  -1.84881   -1.71718  0.107731\n",
       " -1.30683  -1.84881   -1.71718  0.107731\n",
       " -1.25571  -1.84881   -1.71718  0.107731\n",
       " -1.2046   -1.84881   -1.71718  0.107731\n",
       " -1.15348  -1.84881   -1.71718  0.107731\n",
       " -1.10237  -1.84881   -1.71718  0.107731\n",
       " -1.05125  -1.84881   -1.71718  0.107731\n",
       " -1.00014  -1.84881   -1.71718  0.107731\n",
       "  ⋮                             \n",
       "  1.5173    0.712423   1.71718  0.0468045\n",
       "  1.55796   0.712423   1.71718  0.0532265\n",
       "  1.59862   0.712423   1.71718  0.053102\n",
       "  1.63928   0.712423   1.71718  0.0497845\n",
       "  1.67994   0.712423   1.71718  0.0468581\n",
       "  1.7206    0.712423   1.71718  0.045986\n",
       "  1.76126   0.712423   1.71718  0.0475291\n",
       "  1.80192   0.712423   1.71718  0.0500725\n",
       "  1.84258   0.712423   1.71718  0.0519384\n",
       "  1.88324   0.712423   1.71718  0.0528655\n",
       "  1.9239    0.712423   1.71718  0.053352\n",
       "  1.96456   0.712423   1.71718  0.0542554"
      ]
     },
     "execution_count": 3,
     "metadata": {},
     "output_type": "execute_result"
    }
   ],
   "source": [
    "dataset = []\n",
    "h5open(\"./dataset.h5\", \"r\") do f\n",
    "    # read standardized [x y t p]ₙ data\n",
    "    datasetName = \"standardData\"\n",
    "    # or read unit normalized [x y t p]ₙ data\n",
    "#     datasetName = \"unitData\"\n",
    "    datasets = HDF5.get_datasets(f)\n",
    "    for d in datasets\n",
    "        if HDF5.name(d)[2 : end] == datasetName\n",
    "            global dataset = HDF5.read(d)\n",
    "        end\n",
    "    end\n",
    "end\n",
    "dataset"
   ]
  },
  {
   "cell_type": "markdown",
   "id": "0f03894f",
   "metadata": {},
   "source": [
    "## Organize data"
   ]
  },
  {
   "cell_type": "code",
   "execution_count": 4,
   "id": "021d9298",
   "metadata": {},
   "outputs": [],
   "source": [
    "# initial conditions u(x, 0)\n",
    "initialTrain = dataset[1 : 3371, 4] # there are 3371 nodes in the 2D FEA mesh\n",
    "# solutions u(x, t_end)\n",
    "endTrain = dataset[(end - 3370) : end, 4]\n",
    "# values for validation\n",
    "initialVal = dataset[(end - 300) : end, 4] |> device\n",
    "endVal = dataset[(end - 300) : end, 4] |> device\n",
    "# 2D FEA mesh nodal positions\n",
    "coords = dataset[1 : 3371, 1:2] |> device\n",
    "# training data\n",
    "dataTrain = [(initialTrain, endTrain, coords)] |> device;"
   ]
  },
  {
   "cell_type": "markdown",
   "id": "8393b464",
   "metadata": {},
   "source": [
    "## Model definition"
   ]
  },
  {
   "cell_type": "code",
   "execution_count": 5,
   "id": "47769c60",
   "metadata": {},
   "outputs": [
    {
     "data": {
      "text/plain": [
       "DeepONet with\n",
       "branch net: (Chain(Dense(32 => 64, σ), Dense(64 => 72, σ)))\n",
       "Trunk net: (Chain(Dense(24 => 64, tanh), Dense(64 => 72, tanh)))\n"
      ]
     },
     "execution_count": 5,
     "metadata": {},
     "output_type": "execute_result"
    }
   ],
   "source": [
    "# architecture of branch network (functions)\n",
    "branch = Chain(Dense(32, 64, σ), Dense(64, 72, σ))\n",
    "# architecture of trunk network (coordinates)\n",
    "trunk = Chain(Dense(24, 64, tanh), Dense(64, 72, tanh))\n",
    "model = DeepONet(branch, trunk) |> device"
   ]
  },
  {
   "cell_type": "markdown",
   "id": "6fc76687",
   "metadata": {},
   "source": [
    "## Optimization"
   ]
  },
  {
   "cell_type": "code",
   "execution_count": 6,
   "id": "0bb6ea40",
   "metadata": {},
   "outputs": [
    {
     "name": "stderr",
     "output_type": "stream",
     "text": [
      "\u001b[33m\u001b[1m┌ \u001b[22m\u001b[39m\u001b[33m\u001b[1mWarning: \u001b[22m\u001b[39mThe macro `@epochs` will be removed from Flux 0.14.\n",
      "\u001b[33m\u001b[1m│ \u001b[22m\u001b[39mAs an alternative, you can write a simple `for i in 1:epochs` loop.\n",
      "\u001b[33m\u001b[1m│ \u001b[22m\u001b[39m  caller = eval at boot.jl:368 [inlined]\n",
      "\u001b[33m\u001b[1m└ \u001b[22m\u001b[39m\u001b[90m@ Core .\\boot.jl:368\u001b[39m\n"
     ]
    },
    {
     "ename": "LoadError",
     "evalue": "UndefVarError: epochs not defined",
     "output_type": "error",
     "traceback": [
      "UndefVarError: epochs not defined",
      "",
      "Stacktrace:",
      " [1] top-level scope",
      "   @ C:\\Users\\kaoid\\.julia\\packages\\ProgressLogging\\6KXlp\\src\\ProgressLogging.jl:464"
     ]
    }
   ],
   "source": [
    "opt = Adam(1e-3) # optimizer\n",
    "# loss definition\n",
    "loss(X, y, sensor) = Flux.Losses.mse(m(X, sensor), y)\n",
    "# progress callback\n",
    "evalcb() = @show(loss(initialVal, endVal, coords))\n",
    "# train the model\n",
    "for epoch in 1:2\n",
    "    Flux.train!(loss, params(m), dataTrain, opt, cb = evalcb)\n",
    "end"
   ]
  },
  {
   "cell_type": "markdown",
   "id": "f9425ec6",
   "metadata": {},
   "source": [
    "## Model performance"
   ]
  },
  {
   "cell_type": "code",
   "execution_count": null,
   "id": "b1ae923b",
   "metadata": {},
   "outputs": [],
   "source": [
    "# predictions for validation data\n",
    "ỹ = m(initialVal |> device, coords |> device)\n",
    "# absolute errors in validation\n",
    "diffvec = vec(abs.(cpu(endVal) .- cpu(ỹ)))\n",
    "# mean absolute error in validation\n",
    "print(mean(diffvec))"
   ]
  }
 ],
 "metadata": {
  "kernelspec": {
   "display_name": "Julia 1.8.5",
   "language": "julia",
   "name": "julia-1.8"
  },
  "language_info": {
   "file_extension": ".jl",
   "mimetype": "application/julia",
   "name": "julia",
   "version": "1.8.5"
  }
 },
 "nbformat": 4,
 "nbformat_minor": 5
}
