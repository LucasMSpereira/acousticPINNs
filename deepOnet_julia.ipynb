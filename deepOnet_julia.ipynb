{
 "cells": [
  {
   "attachments": {},
   "cell_type": "markdown",
   "id": "ec45f09d",
   "metadata": {},
   "source": [
    "## Packages"
   ]
  },
  {
   "cell_type": "code",
   "execution_count": 22,
   "id": "ba6feb9d",
   "metadata": {},
   "outputs": [],
   "source": [
    "using NeuralOperators, CUDA, HDF5, Flux"
   ]
  },
  {
   "attachments": {},
   "cell_type": "markdown",
   "id": "8c4cbf2c",
   "metadata": {},
   "source": [
    "## Define Device"
   ]
  },
  {
   "cell_type": "code",
   "execution_count": 23,
   "id": "95a89155",
   "metadata": {},
   "outputs": [
    {
     "name": "stderr",
     "output_type": "stream",
     "text": [
      "┌ Info: Training on GPU\n",
      "└ @ Main c:\\Users\\kaoid\\My Drive\\Estudo\\Poli\\Disciplinas\\PINNs\\acousticPINNs\\deepOnet_julia.ipynb:2\n"
     ]
    }
   ],
   "source": [
    "if has_cuda()\n",
    "    @info \"Training on GPU\"\n",
    "    device = gpu\n",
    "else\n",
    "    @info \"Training on CPU\"\n",
    "    device = cpu\n",
    "end;"
   ]
  },
  {
   "attachments": {},
   "cell_type": "markdown",
   "id": "44b60c78",
   "metadata": {},
   "source": [
    "## Get data"
   ]
  },
  {
   "cell_type": "code",
   "execution_count": 24,
   "id": "42eafec4",
   "metadata": {},
   "outputs": [
    {
     "data": {
      "text/plain": [
       "391036×4 Matrix{Float64}:\n",
       " -1.61352  -1.84881   -1.71718  0.107731\n",
       " -1.56241  -1.84881   -1.71718  0.107731\n",
       " -1.51129  -1.84881   -1.71718  0.107731\n",
       " -1.46018  -1.84881   -1.71718  0.107731\n",
       " -1.40906  -1.84881   -1.71718  0.107731\n",
       " -1.35794  -1.84881   -1.71718  0.107731\n",
       " -1.30683  -1.84881   -1.71718  0.107731\n",
       " -1.25571  -1.84881   -1.71718  0.107731\n",
       " -1.2046   -1.84881   -1.71718  0.107731\n",
       " -1.15348  -1.84881   -1.71718  0.107731\n",
       "  ⋮                             \n",
       "  1.63928   0.712423   1.71718  0.0497845\n",
       "  1.67994   0.712423   1.71718  0.0468581\n",
       "  1.7206    0.712423   1.71718  0.045986\n",
       "  1.76126   0.712423   1.71718  0.0475291\n",
       "  1.80192   0.712423   1.71718  0.0500725\n",
       "  1.84258   0.712423   1.71718  0.0519384\n",
       "  1.88324   0.712423   1.71718  0.0528655\n",
       "  1.9239    0.712423   1.71718  0.053352\n",
       "  1.96456   0.712423   1.71718  0.0542554"
      ]
     },
     "metadata": {},
     "output_type": "display_data"
    }
   ],
   "source": [
    "dataset = []\n",
    "h5open(\"./dataset.h5\", \"r\") do f\n",
    "    # read standardized [x y t p]ₙ data\n",
    "    datasetName = \"standardData\"\n",
    "    # or read unit normalized [x y t p]ₙ data\n",
    "#     datasetName = \"unitData\"\n",
    "    datasets = HDF5.get_datasets(f)\n",
    "    for d in datasets\n",
    "        if HDF5.name(d)[2 : end] == datasetName\n",
    "            global dataset = HDF5.read(d)\n",
    "        end\n",
    "    end\n",
    "end\n",
    "dataset"
   ]
  },
  {
   "attachments": {},
   "cell_type": "markdown",
   "id": "0f03894f",
   "metadata": {},
   "source": [
    "## Organize data"
   ]
  },
  {
   "cell_type": "code",
   "execution_count": 25,
   "id": "021d9298",
   "metadata": {},
   "outputs": [],
   "source": [
    "# initial conditions u(x, 0)\n",
    "initialTrain = dataset[1 : 3371, 4]' # there are 3371 nodes in the 2D FEA mesh\n",
    "# solutions u(x, t_end)\n",
    "endTrain = dataset[(end - 3370) : end, 4]\n",
    "# values for validation\n",
    "initialVal = dataset[(end - 300) : end, 4]' |> device\n",
    "endVal = dataset[(end - 300) : end, 4] |> device\n",
    "# 2D FEA mesh nodal positions\n",
    "coords = dataset[1 : 3371, 1:2]' |> device\n",
    "# training data\n",
    "dataTrain = [(initialTrain, endTrain, coords)] |> device;"
   ]
  },
  {
   "attachments": {},
   "cell_type": "markdown",
   "id": "8393b464",
   "metadata": {},
   "source": [
    "## Model definition"
   ]
  },
  {
   "cell_type": "code",
   "execution_count": 26,
   "id": "47769c60",
   "metadata": {},
   "outputs": [
    {
     "data": {
      "text/plain": [
       "DeepONet with\n",
       "branch net: (Chain(Dense(3371 => 64, σ), Dense(64 => 72, σ)))\n",
       "Trunk net: (Chain(Dense(3371 => 64, tanh), Dense(64 => 72, tanh)))\n"
      ]
     },
     "metadata": {},
     "output_type": "display_data"
    }
   ],
   "source": [
    "# architecture of branch network (functions)\n",
    "branch = Chain(Dense(3371, 64, σ), Dense(64, 72, σ))\n",
    "# architecture of trunk network (coordinates)\n",
    "trunk = Chain(Dense(3371, 64, tanh), Dense(64, 72, tanh))\n",
    "model = DeepONet(branch, trunk) |> device"
   ]
  },
  {
   "attachments": {},
   "cell_type": "markdown",
   "id": "6fc76687",
   "metadata": {},
   "source": [
    "## Optimization"
   ]
  },
  {
   "cell_type": "code",
   "execution_count": 27,
   "id": "0bb6ea40",
   "metadata": {},
   "outputs": [
    {
     "ename": "DimensionMismatch",
     "evalue": "DimensionMismatch: layer Dense(3371 => 64, σ) expects size(input, 1) == 3371, but got 1×3371 adjoint(::CuArray{Float32, 1, CUDA.Mem.DeviceBuffer}) with eltype Float32",
     "output_type": "error",
     "traceback": [
      "DimensionMismatch: layer Dense(3371 => 64, σ) expects size(input, 1) == 3371, but got 1×3371 adjoint(::CuArray{Float32, 1, CUDA.Mem.DeviceBuffer}) with eltype Float32\n",
      "\n",
      "Stacktrace:\n",
      "  [1] _size_check(layer::Dense{typeof(σ), CuArray{Float32, 2, CUDA.Mem.DeviceBuffer}, CuArray{Float32, 1, CUDA.Mem.DeviceBuffer}}, x::LinearAlgebra.Adjoint{Float32, CuArray{Float32, 1, CUDA.Mem.DeviceBuffer}}, ::Pair{Int64, Int64})\n",
      "    @ Flux C:\\Users\\kaoid\\.julia\\packages\\Flux\\uCLgc\\src\\layers\\basic.jl:195\n",
      "  [2] rrule\n",
      "    @ C:\\Users\\kaoid\\.julia\\packages\\Flux\\uCLgc\\src\\layers\\basic.jl:198 [inlined]\n",
      "  [3] rrule\n",
      "    @ C:\\Users\\kaoid\\.julia\\packages\\ChainRulesCore\\a4mIA\\src\\rules.jl:134 [inlined]\n",
      "  [4] chain_rrule\n",
      "    @ C:\\Users\\kaoid\\.julia\\packages\\Zygote\\SuKWp\\src\\compiler\\chainrules.jl:223 [inlined]\n",
      "  [5] macro expansion\n",
      "    @ C:\\Users\\kaoid\\.julia\\packages\\Zygote\\SuKWp\\src\\compiler\\interface2.jl:0 [inlined]\n",
      "  [6] _pullback\n",
      "    @ C:\\Users\\kaoid\\.julia\\packages\\Zygote\\SuKWp\\src\\compiler\\interface2.jl:9 [inlined]\n",
      "  [7] _pullback\n",
      "    @ C:\\Users\\kaoid\\.julia\\packages\\Flux\\uCLgc\\src\\layers\\basic.jl:171 [inlined]\n",
      "  [8] _pullback(ctx::Zygote.Context{true}, f::Dense{typeof(σ), CuArray{Float32, 2, CUDA.Mem.DeviceBuffer}, CuArray{Float32, 1, CUDA.Mem.DeviceBuffer}}, args::LinearAlgebra.Adjoint{Float32, CuArray{Float32, 1, CUDA.Mem.DeviceBuffer}})\n",
      "    @ Zygote C:\\Users\\kaoid\\.julia\\packages\\Zygote\\SuKWp\\src\\compiler\\interface2.jl:0\n",
      "  [9] macro expansion\n",
      "    @ C:\\Users\\kaoid\\.julia\\packages\\Flux\\uCLgc\\src\\layers\\basic.jl:53 [inlined]\n",
      " [10] _pullback\n",
      "    @ C:\\Users\\kaoid\\.julia\\packages\\Flux\\uCLgc\\src\\layers\\basic.jl:53 [inlined]\n",
      " [11] _pullback(::Zygote.Context{true}, ::typeof(Flux._applychain), ::Tuple{Dense{typeof(σ), CuArray{Float32, 2, CUDA.Mem.DeviceBuffer}, CuArray{Float32, 1, CUDA.Mem.DeviceBuffer}}, Dense{typeof(σ), CuArray{Float32, 2, CUDA.Mem.DeviceBuffer}, CuArray{Float32, 1, CUDA.Mem.DeviceBuffer}}}, ::LinearAlgebra.Adjoint{Float32, CuArray{Float32, 1, CUDA.Mem.DeviceBuffer}})\n",
      "    @ Zygote C:\\Users\\kaoid\\.julia\\packages\\Zygote\\SuKWp\\src\\compiler\\interface2.jl:0\n",
      " [12] _pullback\n",
      "    @ C:\\Users\\kaoid\\.julia\\packages\\Flux\\uCLgc\\src\\layers\\basic.jl:51 [inlined]\n",
      " [13] _pullback\n",
      "    @ C:\\Users\\kaoid\\.julia\\packages\\NeuralOperators\\2tV4C\\src\\DeepONet\\DeepONet.jl:122 [inlined]\n",
      " [14] _pullback(::Zygote.Context{true}, ::DeepONet{Chain{Tuple{Dense{typeof(σ), CuArray{Float32, 2, CUDA.Mem.DeviceBuffer}, CuArray{Float32, 1, CUDA.Mem.DeviceBuffer}}, Dense{typeof(σ), CuArray{Float32, 2, CUDA.Mem.DeviceBuffer}, CuArray{Float32, 1, CUDA.Mem.DeviceBuffer}}}}, Chain{Tuple{Dense{typeof(tanh), CuArray{Float32, 2, CUDA.Mem.DeviceBuffer}, CuArray{Float32, 1, CUDA.Mem.DeviceBuffer}}, Dense{typeof(tanh), CuArray{Float32, 2, CUDA.Mem.DeviceBuffer}, CuArray{Float32, 1, CUDA.Mem.DeviceBuffer}}}}}, ::LinearAlgebra.Adjoint{Float32, CuArray{Float32, 1, CUDA.Mem.DeviceBuffer}}, ::LinearAlgebra.Adjoint{Float32, CuArray{Float32, 2, CUDA.Mem.DeviceBuffer}})\n",
      "    @ Zygote C:\\Users\\kaoid\\.julia\\packages\\Zygote\\SuKWp\\src\\compiler\\interface2.jl:0\n",
      " [15] _pullback\n",
      "    @ c:\\Users\\kaoid\\My Drive\\Estudo\\Poli\\Disciplinas\\PINNs\\acousticPINNs\\deepOnet_julia.ipynb:3 [inlined]\n",
      " [16] _pullback(::Zygote.Context{true}, ::typeof(loss), ::LinearAlgebra.Adjoint{Float32, CuArray{Float32, 1, CUDA.Mem.DeviceBuffer}}, ::CuArray{Float32, 1, CUDA.Mem.DeviceBuffer}, ::LinearAlgebra.Adjoint{Float32, CuArray{Float32, 2, CUDA.Mem.DeviceBuffer}})\n",
      "    @ Zygote C:\\Users\\kaoid\\.julia\\packages\\Zygote\\SuKWp\\src\\compiler\\interface2.jl:0\n",
      " [17] _apply\n",
      "    @ .\\boot.jl:816 [inlined]\n",
      " [18] adjoint\n",
      "    @ C:\\Users\\kaoid\\.julia\\packages\\Zygote\\SuKWp\\src\\lib\\lib.jl:203 [inlined]\n",
      " [19] _pullback\n",
      "    @ C:\\Users\\kaoid\\.julia\\packages\\ZygoteRules\\OgCVT\\src\\adjoint.jl:66 [inlined]\n",
      " [20] _pullback\n",
      "    @ C:\\Users\\kaoid\\.julia\\packages\\Flux\\uCLgc\\src\\optimise\\train.jl:143 [inlined]\n",
      " [21] _pullback(::Zygote.Context{true}, ::Flux.Optimise.var\"#37#40\"{typeof(loss), Tuple{LinearAlgebra.Adjoint{Float32, CuArray{Float32, 1, CUDA.Mem.DeviceBuffer}}, CuArray{Float32, 1, CUDA.Mem.DeviceBuffer}, LinearAlgebra.Adjoint{Float32, CuArray{Float32, 2, CUDA.Mem.DeviceBuffer}}}})\n",
      "    @ Zygote C:\\Users\\kaoid\\.julia\\packages\\Zygote\\SuKWp\\src\\compiler\\interface2.jl:0\n",
      " [22] pullback(f::Function, ps::Zygote.Params{Zygote.Buffer{Any, Vector{Any}}})\n",
      "    @ Zygote C:\\Users\\kaoid\\.julia\\packages\\Zygote\\SuKWp\\src\\compiler\\interface.jl:384\n",
      " [23] withgradient(f::Function, args::Zygote.Params{Zygote.Buffer{Any, Vector{Any}}})\n",
      "    @ Zygote C:\\Users\\kaoid\\.julia\\packages\\Zygote\\SuKWp\\src\\compiler\\interface.jl:132\n",
      " [24] macro expansion\n",
      "    @ C:\\Users\\kaoid\\.julia\\packages\\Flux\\uCLgc\\src\\optimise\\train.jl:142 [inlined]\n",
      " [25] macro expansion\n",
      "    @ C:\\Users\\kaoid\\.julia\\packages\\ProgressLogging\\6KXlp\\src\\ProgressLogging.jl:328 [inlined]\n",
      " [26] train!(loss::Function, ps::Zygote.Params{Zygote.Buffer{Any, Vector{Any}}}, data::Vector{Tuple{LinearAlgebra.Adjoint{Float32, CuArray{Float32, 1, CUDA.Mem.DeviceBuffer}}, CuArray{Float32, 1, CUDA.Mem.DeviceBuffer}, LinearAlgebra.Adjoint{Float32, CuArray{Float32, 2, CUDA.Mem.DeviceBuffer}}}}, opt::Adam; cb::typeof(evalcb))\n",
      "    @ Flux.Optimise C:\\Users\\kaoid\\.julia\\packages\\Flux\\uCLgc\\src\\optimise\\train.jl:140\n",
      " [27] top-level scope\n",
      "    @ c:\\Users\\kaoid\\My Drive\\Estudo\\Poli\\Disciplinas\\PINNs\\acousticPINNs\\deepOnet_julia.ipynb:8"
     ]
    }
   ],
   "source": [
    "opt = Adam(1e-3) # optimizer\n",
    "# loss definition\n",
    "loss(X, y, sensor) = Flux.Losses.mse(model(X, sensor), y)\n",
    "# progress callback\n",
    "evalcb() = @show(loss(initialVal, endVal, coords))\n",
    "# train the model\n",
    "for epoch in 1:2\n",
    "    Flux.train!(loss, Flux.params(model), dataTrain, opt, cb = evalcb)\n",
    "end"
   ]
  },
  {
   "attachments": {},
   "cell_type": "markdown",
   "id": "f9425ec6",
   "metadata": {},
   "source": [
    "## Model performance"
   ]
  },
  {
   "cell_type": "code",
   "execution_count": 28,
   "id": "b1ae923b",
   "metadata": {},
   "outputs": [
    {
     "ename": "UndefVarError",
     "evalue": "UndefVarError: m not defined",
     "output_type": "error",
     "traceback": [
      "UndefVarError: m not defined\n",
      "\n",
      "Stacktrace:\n",
      " [1] top-level scope\n",
      "   @ c:\\Users\\kaoid\\My Drive\\Estudo\\Poli\\Disciplinas\\PINNs\\acousticPINNs\\deepOnet_julia.ipynb:2"
     ]
    }
   ],
   "source": [
    "# predictions for validation data\n",
    "ỹ = m(initialVal |> device, coords |> device)\n",
    "# absolute errors in validation\n",
    "diffvec = vec(abs.(cpu(endVal) .- cpu(ỹ)))\n",
    "# mean absolute error in validation\n",
    "print(mean(diffvec))"
   ]
  }
 ],
 "metadata": {
  "kernelspec": {
   "display_name": "Julia 1.8.5",
   "language": "julia",
   "name": "julia-1.8"
  },
  "language_info": {
   "file_extension": ".jl",
   "mimetype": "application/julia",
   "name": "julia",
   "version": "1.8.5"
  }
 },
 "nbformat": 4,
 "nbformat_minor": 5
}
