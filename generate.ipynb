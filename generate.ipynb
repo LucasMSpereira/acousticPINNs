{
 "cells": [
  {
   "cell_type": "markdown",
   "id": "c778a125",
   "metadata": {},
   "source": [
    "# Packages"
   ]
  },
  {
   "cell_type": "code",
   "execution_count": 1,
   "id": "1b609df6",
   "metadata": {},
   "outputs": [],
   "source": [
    "using FinEtools, FinEtoolsAcoustics, LinearAlgebra, StatsBase"
   ]
  },
  {
   "cell_type": "markdown",
   "id": "53410bdc",
   "metadata": {},
   "source": [
    "# Initial setup"
   ]
  },
  {
   "cell_type": "code",
   "execution_count": 2,
   "id": "9633257f",
   "metadata": {},
   "outputs": [
    {
     "name": "stdout",
     "output_type": "stream",
     "text": [
      "reachSteps = 78\n",
      "Final time: 1.545E-2 seconds.\n"
     ]
    }
   ],
   "source": [
    "rho = 1.21 * phun(\"kg/m^3\") # mass density\n",
    "c  = 343.0 * phun(\"m/s\") # sound speed\n",
    "bulk =  c ^ 2 * rho\n",
    "frequency = 500.0 # frequency of the incident wave, Hz\n",
    "omega = 2 * pi * frequency\n",
    "dt = 1.0 / frequency / 10\n",
    "reachTime = 5.3/c # time to reach inferior boundary (seconds)\n",
    "reachSteps = ceil(Int, reachTime/dt)\n",
    "@show reachSteps; # same time, but in number of steps\n",
    "tfinal = reachSteps * dt\n",
    "println(\"Final time: $(sciNotation(reachTime, 3)) seconds.\")\n",
    "nsteps = round(tfinal / dt) + 1;"
   ]
  },
  {
   "cell_type": "markdown",
   "id": "cc2a4d2c",
   "metadata": {},
   "source": [
    "# Mesh"
   ]
  },
  {
   "cell_type": "code",
   "execution_count": 3,
   "id": "7d148536",
   "metadata": {},
   "outputs": [
    {
     "name": "stdout",
     "output_type": "stream",
     "text": [
      "3371 nodes\n",
      "3168 elements\n",
      "262938 dataset points (using Q4)\n"
     ]
    }
   ],
   "source": [
    "# list of meshes\n",
    "Meshes = Array{Tuple{FENodeSet, AbstractFESet}, 1}()\n",
    "# Q4 discretization of large rectangular domain divisions\n",
    "push!(Meshes, Q4quadrilateral([0.0 0.0; 1.2 2.6], 12, 26)) # 1\n",
    "push!(Meshes, Q4quadrilateral([0.0 2.6; 1.6 5.45], 15, 30)) # 2\n",
    "push!(Meshes, Q4quadrilateral([1.35 0.0; 4.05 2.6], 30, 24)) # 3\n",
    "push!(Meshes, Q4quadrilateral([1.6 2.6; 4.05 5.8], 25, 26)) # 4\n",
    "push!(Meshes, Q4quadrilateral([4.25 1.2; 5.25 4.5], 10, 35)) # 5\n",
    "push!(Meshes, Q4quadrilateral([4.05 4.5; 5.25 5.3], 12, 8)) # 6\n",
    "push!(Meshes, Q4quadrilateral([4.25 5.3; 5.25 5.85], 10, 4)) # 7\n",
    "push!(Meshes, Q4quadrilateral([5.25 1.2; 7.0 3.92], 22, 25)) # 8\n",
    "# merge meshes\n",
    "fens, outputfes = mergenmeshes(Meshes, 0.05)\n",
    "# concatenate connectivities\n",
    "fes = cat(outputfes[5], cat(outputfes[6], cat(outputfes[7], outputfes[8])))\n",
    "fes = cat(outputfes[1], cat(outputfes[2], cat(outputfes[3], cat(outputfes[4], fes))))\n",
    "println(\"$(size(fens.xyz, 1)) nodes\")\n",
    "println(\"$(size(fes.conn, 1)) elements\")\n",
    "println(\"$(size(fens.xyz, 1) * (reachSteps)) dataset points (using Q4)\")"
   ]
  },
  {
   "cell_type": "markdown",
   "id": "499a3362",
   "metadata": {},
   "source": [
    "# Subdomain selection"
   ]
  },
  {
   "cell_type": "code",
   "execution_count": 4,
   "id": "e08e8db4",
   "metadata": {},
   "outputs": [
    {
     "data": {
      "text/plain": [
       "NodalField{ComplexF64}(ComplexF64[0.0 + 0.0im; 0.0 + 0.0im; … ; 0.0 + 0.0im; 0.0 + 0.0im;;], [0; 0; … ; 0; 0;;], Bool[0; 0; … ; 0; 0;;], ComplexF64[0.0 + 0.0im; 0.0 + 0.0im; … ; 0.0 + 0.0im; 0.0 + 0.0im;;], 0)"
      ]
     },
     "metadata": {},
     "output_type": "display_data"
    }
   ],
   "source": [
    "# Identify boundary finite element set\n",
    "bfes = meshboundary(fes)\n",
    "# In case there are any unconnected nodes, remove them, and renumber the elements.\n",
    "connected = findunconnnodes(fens, fes)\n",
    "fens, new_numbering = compactnodes(fens, connected)\n",
    "fess = renumberconn!(fes, new_numbering)\n",
    "# The geometry and the solution (pressure) fields\n",
    "geom = NodalField(fens.xyz)\n",
    "P = NodalField(zeros(FCplxFlt, size(fens.xyz, 1), 1))"
   ]
  },
  {
   "cell_type": "markdown",
   "id": "7966fc2a",
   "metadata": {},
   "source": [
    "# Visualize geometry"
   ]
  },
  {
   "cell_type": "code",
   "execution_count": 5,
   "id": "b150eafb",
   "metadata": {},
   "outputs": [
    {
     "data": {
      "text/plain": [
       "true"
      ]
     },
     "metadata": {},
     "output_type": "display_data"
    }
   ],
   "source": [
    "# Export three VTK files: one for the interior of the fluid, and one for the boundary\n",
    "vtkexportmesh(\"interior.vtk\", fes.conn, fens.xyz, FinEtools.MeshExportModule.VTK.Q4)"
   ]
  },
  {
   "cell_type": "markdown",
   "id": "6ea3ad22",
   "metadata": {},
   "source": [
    "# Setup discrete model"
   ]
  },
  {
   "cell_type": "code",
   "execution_count": 6,
   "id": "c694eac4",
   "metadata": {},
   "outputs": [
    {
     "data": {
      "text/plain": [
       "pointLoad (generic function with 1 method)"
      ]
     },
     "metadata": {},
     "output_type": "display_data"
    }
   ],
   "source": [
    "# Number the degrees of freedom in the pressure field.\n",
    "numberdofs!(P)\n",
    "# Create the finite element machine for the fluid.\n",
    "material = MatAcoustFluid(bulk, rho)\n",
    "femm  =  FEMMAcoust(IntegDomain(fes, GaussRule(3, 2)), material)\n",
    "# Use the machine calculate the acoustic stiffness and mass matrices.\n",
    "S  =  acousticstiffness(femm, geom, P)\n",
    "C  =  acousticmass(femm, geom, P)\n",
    "# \"damping\" mmatrix for the absorbing boundary conditions (ABCs)\n",
    "D  =  acousticABC(\n",
    "  FEMMAcoustSurf(IntegDomain(bfes, GaussRule(2, 2)), material), geom, P\n",
    ")\n",
    "loadNode = subset(fes, selectelem(fens, fes, withnodes = [2049, 2050, 2075, 2074]))\n",
    "dipfemm = FEMMAcoustSurf(IntegDomain(loadNode, GaussRule(2, 2)), material)\n",
    "# harmonic point load\n",
    "function pointLoad(dpdn, xyz, J, label, t)::Float64\n",
    "  dpdn[1] = -rho * 0.02 * sin(omega * t)\n",
    "end"
   ]
  },
  {
   "cell_type": "markdown",
   "id": "a7a05806",
   "metadata": {},
   "source": [
    "# Time stepping"
   ]
  },
  {
   "cell_type": "code",
   "execution_count": 7,
   "id": "38e7a4cd",
   "metadata": {},
   "outputs": [],
   "source": [
    "# Solve the transient acoustics equations.\n",
    "# The loop executes inside this local scope\n",
    "t = 0.0 # Initial time\n",
    "# initialize variable for dataset.\n",
    "# dataset is (N x 4) matrix with rows: [nodeX nodeY time nodalPressure]ₙ\n",
    "# N is the amount of samples: number of nodes * number of time steps\n",
    "data = Float32[0.0 0.0 0.0 0.0]\n",
    "pressureMat = zeros(Float32, (nnodes(P), 1))\n",
    "P1 = let\n",
    "  P0 = deepcopy(P)\n",
    "  P0.values .= 0.0 # initially all pressure is zero\n",
    "  vP0 = gathersysvec(P0)\n",
    "  vQ0 = zeros(eltype(vP0), size(vP0))\n",
    "  # The `P1` field will be the output of this computation:\n",
    "  # the final value of the pressure field\n",
    "  P1 = deepcopy(P0)\n",
    "  fi = ForceIntensity( # Initial load\n",
    "    FCplxFlt, 1, (dpdn, xyz, J, label) -> pointLoad(dpdn, xyz, J, label, t)\n",
    "  )\n",
    "  La0 = distribloads(dipfemm, geom, P1, fi, 2)\n",
    "  # This is the coefficient matrix that needs to be used in the solver. We are\n",
    "  # not being very careful here to save on computation: it might be best to\n",
    "  # factorize this matrix, and then use backward and forward solves inside\n",
    "  # the loop.\n",
    "  A = (2.0 / dt) * S + D + (dt / 2.0) * C\n",
    "  step = 0\n",
    "  while t <= tfinal\n",
    "    step += 1\n",
    "    global t += dt\n",
    "    # Update load\n",
    "    fi = ForceIntensity( # Initial load\n",
    "      FCplxFlt, 1, (dpdn, xyz, J, label) -> pointLoad(dpdn, xyz, J, label, t)\n",
    "    )\n",
    "    La1 = distribloads(dipfemm, geom, P1, fi, 2)\n",
    "    # Solve for the rate of the pressure\n",
    "    vQ1 = A \\ ((2 / dt) * (S * vQ0) - D * vQ0 - C * (2 * vP0 + (dt / 2) * vQ0) + La0 + La1)\n",
    "    \n",
    "    # Update the value of the pressure\n",
    "    vP1 = vP0 + (dt / 2) * (vQ0 + vQ1)\n",
    "    \n",
    "    # Swap variables for next step  \n",
    "    vP0 = deepcopy(vP1)\n",
    "    vQ0 = deepcopy(vQ1)\n",
    "    P1 = scattersysvec!(P1, vec(vP1))\n",
    "    P0 = deepcopy(P1)\n",
    "    La0 = deepcopy(La1)\n",
    "    # concatenate current pressure field to dataset.\n",
    "    global data = vcat(\n",
    "      data, hcat(fens.xyz, fill(t, size(fens.xyz, 1)), real.(P1.values) |> vec)\n",
    "    )\n",
    "    global pressureMat = hcat(pressureMat, real.(P1.values))\n",
    "  end\n",
    "  P1 # Return the final pressure\n",
    "end\n",
    "# discard matrix initializations\n",
    "data = data[2:end, :]\n",
    "pressureMat = pressureMat[:, 2:end];"
   ]
  },
  {
   "attachments": {},
   "cell_type": "markdown",
   "id": "051c6849",
   "metadata": {},
   "source": [
    "# Export pressure fields"
   ]
  },
  {
   "cell_type": "code",
   "execution_count": 8,
   "id": "46717ee3",
   "metadata": {},
   "outputs": [
    {
     "data": {
      "text/plain": [
       "true"
      ]
     },
     "metadata": {},
     "output_type": "display_data"
    }
   ],
   "source": [
    "File = \"./wavePropagation.vtk\"\n",
    "# vtkexportmesh(File, fes.conn, geom.values, FinEtools.MeshExportModule.VTK.Q4; scalars = [( \"realP\", pressureMat),])\n",
    "vtkexportmesh(File, fes.conn, geom.values, FinEtools.MeshExportModule.VTK.Q4; scalars = [( \"realP\", pressureMat),])\n",
    "# @async run(`\"paraview.exe\" $(readdir(pwd(); join = true)[end])`)"
   ]
  },
  {
   "attachments": {},
   "cell_type": "markdown",
   "id": "064cb910",
   "metadata": {},
   "source": [
    "# Data properties"
   ]
  },
  {
   "cell_type": "code",
   "execution_count": 12,
   "id": "cc7f9a58",
   "metadata": {},
   "outputs": [
    {
     "name": "stdout",
     "output_type": "stream",
     "text": [
      "(data[:, i] |> unique) |> length = 309\n",
      "Summary Stats:\n",
      "Length:         262938\n",
      "Missing Count:  0\n",
      "Mean:           3.156618\n",
      "Minimum:        0.000000\n",
      "1st Quartile:   1.493333\n",
      "Median:         3.060000\n",
      "3rd Quartile:   4.750000\n",
      "Maximum:        7.000000\n",
      "Standard deviation: 1.9564E0\n",
      "258492/262938 (98.3%) non-zero elements./n\n",
      "\n",
      "(data[:, i] |> unique) |> length = 370\n",
      "Summary Stats:\n",
      "Length:         262938\n",
      "Missing Count:  0\n",
      "Mean:           2.829628\n",
      "Minimum:        0.000000\n",
      "1st Quartile:   1.625000\n",
      "Median:         2.790000\n",
      "3rd Quartile:   4.025000\n",
      "Maximum:        5.850000\n",
      "Standard deviation: 1.5305E0\n",
      "259506/262938 (98.7%) non-zero elements./n\n",
      "\n",
      "(data[:, i] |> unique) |> length = 78\n",
      "Summary Stats:\n",
      "Length:         262938\n",
      "Missing Count:  0\n",
      "Mean:           0.007900\n",
      "Minimum:        0.000200\n",
      "1st Quartile:   0.004000\n",
      "Median:         0.007900\n",
      "3rd Quartile:   0.011800\n",
      "Maximum:        0.015600\n",
      "Standard deviation: 4.503E-3\n",
      "262938/262938 (100.0%) non-zero elements./n\n",
      "\n",
      "(data[:, i] |> unique) |> length = 262938\n"
     ]
    },
    {
     "name": "stdout",
     "output_type": "stream",
     "text": [
      "Summary Stats:\n",
      "Length:         262938\n",
      "Missing Count:  0\n",
      "Mean:           -0.000000\n",
      "Minimum:        -0.000036\n",
      "1st Quartile:   -0.000000\n",
      "Median:         -0.000000\n",
      "3rd Quartile:   0.000000\n",
      "Maximum:        0.000028\n",
      "Standard deviation: 3.0706E-6\n",
      "262938/262938 (100.0%) non-zero elements./n\n",
      "\n"
     ]
    }
   ],
   "source": [
    "for i in 1:4\n",
    "  @show data[:, i] |> unique |> length\n",
    "  statsum(data[:, i])\n",
    "  println()\n",
    "end"
   ]
  },
  {
   "cell_type": "code",
   "execution_count": 10,
   "id": "94b3d2f1",
   "metadata": {},
   "outputs": [],
   "source": []
  }
 ],
 "metadata": {
  "kernelspec": {
   "display_name": "Julia 1.8.5",
   "language": "julia",
   "name": "julia-1.8"
  },
  "language_info": {
   "file_extension": ".jl",
   "mimetype": "application/julia",
   "name": "julia",
   "version": "1.8.5"
  }
 },
 "nbformat": 4,
 "nbformat_minor": 5
}
