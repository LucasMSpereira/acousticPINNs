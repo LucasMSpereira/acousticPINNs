{
 "cells": [
  {
   "cell_type": "markdown",
   "id": "c778a125",
   "metadata": {},
   "source": [
    "# Packages"
   ]
  },
  {
   "cell_type": "code",
   "execution_count": null,
   "id": "1b609df6",
   "metadata": {},
   "outputs": [],
   "source": [
    "using FinEtools, FinEtoolsAcoustics, LinearAlgebra"
   ]
  },
  {
   "cell_type": "markdown",
   "id": "53410bdc",
   "metadata": {},
   "source": [
    "# Initial setup"
   ]
  },
  {
   "cell_type": "code",
   "execution_count": null,
   "id": "9633257f",
   "metadata": {},
   "outputs": [],
   "source": [
    "rho = 1.21 * phun(\"kg/m^3\") # mass density\n",
    "c  = 343.0 * phun(\"m/s\") # sound speed\n",
    "bulk =  c ^ 2 * rho\n",
    "frequency = 500.0 # frequency of the incident wave, Hz\n",
    "omega = 2 * pi * frequency\n",
    "dt = 1.0 / frequency / 20\n",
    "tfinal = 5 * dt\n",
    "nsteps = round(tfinal / dt) + 1"
   ]
  },
  {
   "cell_type": "markdown",
   "id": "cc2a4d2c",
   "metadata": {},
   "source": [
    "# Mesh"
   ]
  },
  {
   "cell_type": "code",
   "execution_count": 58,
   "id": "7d148536",
   "metadata": {},
   "outputs": [
    {
     "data": {
      "text/plain": [
       "FESetQ4([(1, 2, 15, 14), (14, 15, 28, 27), (27, 28, 41, 40), (40, 41, 54, 53), (53, 54, 67, 66), (66, 67, 80, 79), (79, 80, 93, 92), (92, 93, 106, 105), (105, 106, 119, 118), (118, 119, 132, 131)  …  (3208, 3209, 3238, 3237), (3237, 3238, 3267, 3266), (3266, 3267, 3296, 3295), (3295, 3296, 3325, 3324), (3324, 3325, 3354, 3353), (3353, 3354, 3383, 3382), (3382, 3383, 3411, 3410), (3410, 3411, 3439, 3438), (3438, 3439, 3467, 3466), (3466, 3467, 3495, 3494)], [0, 0, 0, 0, 0, 0, 0, 0, 0, 0  …  0, 0, 0, 0, 0, 0, 0, 0, 0, 0], nothing)"
      ]
     },
     "metadata": {},
     "output_type": "display_data"
    }
   ],
   "source": [
    "# list of meshes\n",
    "Meshes = Array{Tuple{FENodeSet, AbstractFESet}, 1}()\n",
    "# Q4 discretization of large rectangular domain divisions\n",
    "push!(Meshes, Q4quadrilateral([0.0 0.0; 1.2 2.6], 12, 26)) # 1\n",
    "push!(Meshes, Q4quadrilateral([1.6 5.0; 4.05 5.35], 29, 3)) # 2\n",
    "push!(Meshes, Q4quadrilateral([0.0 2.6; 4.05 5.0], 40, 24)) # 3\n",
    "push!(Meshes, Q4quadrilateral([1.35 0.0; 4.05 2.6], 27, 26)) # 4\n",
    "push!(Meshes, Q4quadrilateral([4.25 4.85; 5.25 5.35], 10, 4)) # 5\n",
    "push!(Meshes, Q4quadrilateral([4.05 3.12; 5.25 4.85], 12, 17)) # 6\n",
    "push!(Meshes, Q4quadrilateral([4.25 1.2; 5.25 3.12], 10, 18)) # 7\n",
    "push!(Meshes, Q4quadrilateral([5.25 1.2; 8.0 3.95], 28, 28)) # 8\n",
    "# merge meshes\n",
    "fens, outputfes = mergenmeshes(Meshes, 0.03)\n",
    "# concatenate connectivities\n",
    "fes = cat(outputfes[5], cat(outputfes[6], cat(outputfes[7], outputfes[8])))\n",
    "fes = cat(outputfes[1], cat(outputfes[2], cat(outputfes[3], cat(outputfes[4], fes))))"
   ]
  },
  {
   "cell_type": "markdown",
   "id": "499a3362",
   "metadata": {},
   "source": [
    "# Subdomain selection"
   ]
  },
  {
   "cell_type": "code",
   "execution_count": 49,
   "id": "e08e8db4",
   "metadata": {},
   "outputs": [
    {
     "data": {
      "text/plain": [
       "NodalField{ComplexF64}(ComplexF64[0.0 + 0.0im; 0.0 + 0.0im; … ; 0.0 + 0.0im; 0.0 + 0.0im;;], [0; 0; … ; 0; 0;;], Bool[0; 0; … ; 0; 0;;], ComplexF64[0.0 + 0.0im; 0.0 + 0.0im; … ; 0.0 + 0.0im; 0.0 + 0.0im;;], 0)"
      ]
     },
     "metadata": {},
     "output_type": "display_data"
    }
   ],
   "source": [
    "# Identify boundary finite element set\n",
    "bfes = meshboundary(fes)\n",
    "# In case there are any unconnected nodes, remove them, and renumber the elements.\n",
    "connected = findunconnnodes(fens, fes)\n",
    "fens, new_numbering = compactnodes(fens, connected);\n",
    "fess = renumberconn!(fes, new_numbering);\n",
    "# The geometry and the solution (pressure) fields\n",
    "geom = NodalField(fens.xyz)\n",
    "P = NodalField(zeros(FCplxFlt, size(fens.xyz, 1), 1))"
   ]
  },
  {
   "cell_type": "markdown",
   "id": "7966fc2a",
   "metadata": {},
   "source": [
    "# Visualize geometry"
   ]
  },
  {
   "cell_type": "code",
   "execution_count": 60,
   "id": "b150eafb",
   "metadata": {},
   "outputs": [
    {
     "data": {
      "text/plain": [
       "true"
      ]
     },
     "metadata": {},
     "output_type": "display_data"
    }
   ],
   "source": [
    "# Export three VTK files: one for the interior of the fluid, and one for the boundary\n",
    "vtkexportmesh(\"interior.vtk\", fes.conn, fens.xyz, FinEtools.MeshExportModule.VTK.Q4)"
   ]
  },
  {
   "cell_type": "markdown",
   "id": "6ea3ad22",
   "metadata": {},
   "source": [
    "# Setup discrete model"
   ]
  },
  {
   "cell_type": "code",
   "execution_count": 61,
   "id": "c694eac4",
   "metadata": {},
   "outputs": [
    {
     "ename": "UndefVarError",
     "evalue": "UndefVarError: louter not defined",
     "output_type": "error",
     "traceback": [
      "UndefVarError: louter not defined\n",
      "\n",
      "Stacktrace:\n",
      " [1] top-level scope\n",
      "   @ c:\\Users\\kaoid\\My Drive\\Estudo\\Poli\\Disciplinas\\PINNs\\acousticPINNs\\generate.ipynb:10"
     ]
    }
   ],
   "source": [
    "# Number the degrees of freedom in the pressure field.\n",
    "numberdofs!(P)\n",
    "# Create the finite element machine for the fluid.\n",
    "material = MatAcoustFluid(bulk, rho)\n",
    "femm  =  FEMMAcoust(IntegDomain(fes, GaussRule(3, 2)), material)\n",
    "# Use the machine calculate the acoustic stiffness and mass matrices.\n",
    "S  =  acousticstiffness(femm, geom, P)\n",
    "C  =  acousticmass(femm, geom, P)\n",
    "# harmonic point load\n",
    "pointLoad(dpdn, xyz, J, label, t)::Float32 = dpdn[1] = -rho * 0.02 * sin(omega * t)"
   ]
  },
  {
   "cell_type": "markdown",
   "id": "a7a05806",
   "metadata": {},
   "source": [
    "# Time stepping"
   ]
  },
  {
   "cell_type": "code",
   "execution_count": null,
   "id": "38e7a4cd",
   "metadata": {},
   "outputs": [],
   "source": [
    "# Solve the transient acoustics equations.\n",
    "# Refer to [1] for details of the formulation.\n",
    "# The loop executes inside this local scope\n",
    "P1 = let\n",
    "    P0 = deepcopy(P)\n",
    "    P0.values .= 0.0 # initially all pressure is zero\n",
    "    vP0 = gathersysvec(P0)\n",
    "    vQ0 = zeros(eltype(vP0), size(vP0))\n",
    "    # The `P1` field will be the output of this computation:\n",
    "    # the final value of the pressure field\n",
    "    P1 = deepcopy(P0)\n",
    "    t = 0.0 # Initial time\n",
    "    fi  =  ForceIntensity( # Initial load\n",
    "      FCplxFlt, 1, (dpdn, xyz, J, label) -> pointLoad(dpdn, xyz, J, label, t)\n",
    "    )\n",
    "    # This is the coefficient matrix that needs to be used in the solver. We are\n",
    "    # not being very careful here to save on computation: it might be best to\n",
    "    # factorize this matrix, and then use backward and forward solves inside\n",
    "    # the loop.\n",
    "    A = (2.0 / dt) * S + D + (dt / 2.0) * C\n",
    "    step = 0\n",
    "    while t <= tfinal\n",
    "        step += 1\n",
    "        println(\"Time $t ($(step)/$(round(tfinal / dt) + 1))\")\n",
    "        t += dt\n",
    "        # Update load\n",
    "        fi  = ForceIntensity(FCplxFlt, 1, (dpdn, xyz, J, label) -> pointLoad(dpdn, xyz, J, label, t))\n",
    "        # Solve for the rate of the pressure\n",
    "        vQ1 = A \\ ((2 / dt) * (S * vQ0) - D * vQ0 - C * (2 * vP0 + (dt / 2) * vQ0) + La0 + La1)\n",
    "        \n",
    "        # Update the value of the pressure\n",
    "        vP1 = vP0 + (dt / 2) * (vQ0 + vQ1)\n",
    "        \n",
    "        # Swap variables for next step  \n",
    "        vP0 = deepcopy(vP1)\n",
    "        vQ0 = deepcopy(vQ1)\n",
    "        P1 = scattersysvec!(P1, vec(vP1))\n",
    "        P0 = deepcopy(P1)\n",
    "        La0 = deepcopy(La1)\n",
    "    end\n",
    "    P1 # Return the final pressure\n",
    "end"
   ]
  },
  {
   "cell_type": "markdown",
   "id": "051c6849",
   "metadata": {},
   "source": [
    "# Visualize"
   ]
  },
  {
   "cell_type": "code",
   "execution_count": null,
   "id": "46717ee3",
   "metadata": {},
   "outputs": [],
   "source": [
    "File  =   \"sphere_dipole_P1.vtk\"\n",
    "vtkexportmesh(File, fes.conn, geom.values, FinEtools.MeshExportModule.VTK.H8; scalars = [( \"realP\", real.(P1.values)),])"
   ]
  }
 ],
 "metadata": {
  "kernelspec": {
   "display_name": "Julia 1.8.5",
   "language": "julia",
   "name": "julia-1.8"
  },
  "language_info": {
   "file_extension": ".jl",
   "mimetype": "application/julia",
   "name": "julia",
   "version": "1.8.5"
  }
 },
 "nbformat": 4,
 "nbformat_minor": 5
}
