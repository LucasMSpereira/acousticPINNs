{
 "cells": [
  {
   "cell_type": "markdown",
   "id": "c778a125",
   "metadata": {},
   "source": [
    "# Packages"
   ]
  },
  {
   "cell_type": "code",
   "execution_count": 2,
   "id": "1b609df6",
   "metadata": {},
   "outputs": [],
   "source": [
    "using FinEtools, FinEtoolsAcoustics, LinearAlgebra, StatsBase, HDF5"
   ]
  },
  {
   "cell_type": "markdown",
   "id": "53410bdc",
   "metadata": {},
   "source": [
    "# Initial setup"
   ]
  },
  {
   "cell_type": "code",
   "execution_count": 3,
   "id": "9633257f",
   "metadata": {},
   "outputs": [
    {
     "name": "stdout",
     "output_type": "stream",
     "text": [
      "Step takes 2.0E-4 s\n",
      "Total of 116.0 steps\n",
      "Final time: 2.3E-2 s\n"
     ]
    }
   ],
   "source": [
    "rho = 1.21 * phun(\"kg/m^3\") # mass density\n",
    "c  = 343.0 * phun(\"m/s\") # sound speed\n",
    "bulk =  c ^ 2 * rho\n",
    "frequency = 500.0 # frequency of the incident wave, Hz\n",
    "omega = 2 * pi * frequency\n",
    "dt = 1.0 / frequency / 10\n",
    "tfinal = 115 * dt\n",
    "nsteps = round(tfinal / dt) + 1\n",
    "println(\"Step takes $(sciNotation(dt, 3)) s\")\n",
    "println(\"Total of $nsteps steps\")\n",
    "println(\"Final time: $(sciNotation(tfinal, 3)) s\")"
   ]
  },
  {
   "cell_type": "markdown",
   "id": "cc2a4d2c",
   "metadata": {},
   "source": [
    "# Mesh"
   ]
  },
  {
   "attachments": {},
   "cell_type": "markdown",
   "id": "297db6e9",
   "metadata": {},
   "source": [
    "Geometry"
   ]
  },
  {
   "cell_type": "code",
   "execution_count": 4,
   "id": "7d148536",
   "metadata": {},
   "outputs": [
    {
     "name": "stdout",
     "output_type": "stream",
     "text": [
      "3371 nodes\n",
      "3168 elements\n",
      "391036 dataset points (using Q4)\n"
     ]
    }
   ],
   "source": [
    "# list of meshes\n",
    "Meshes = Array{Tuple{FENodeSet, AbstractFESet}, 1}()\n",
    "# Q4 discretization of large rectangular domain divisions\n",
    "push!(Meshes, Q4quadrilateral([0.0 0.0; 1.2 2.6], 12, 26)) # 1\n",
    "push!(Meshes, Q4quadrilateral([0.0 2.6; 1.6 5.45], 15, 30)) # 2\n",
    "push!(Meshes, Q4quadrilateral([1.35 0.0; 4.05 2.6], 30, 24)) # 3\n",
    "push!(Meshes, Q4quadrilateral([1.6 2.6; 4.05 5.8], 25, 26)) # 4\n",
    "push!(Meshes, Q4quadrilateral([4.25 1.2; 5.25 4.5], 10, 35)) # 5\n",
    "push!(Meshes, Q4quadrilateral([4.05 4.5; 5.25 5.3], 12, 8)) # 6\n",
    "push!(Meshes, Q4quadrilateral([4.25 5.3; 5.25 5.85], 10, 4)) # 7\n",
    "push!(Meshes, Q4quadrilateral([5.25 1.2; 7.0 3.92], 22, 25)) # 8\n",
    "# merge meshes\n",
    "fens, outputfes = mergenmeshes(Meshes, 0.05)\n",
    "# concatenate connectivities\n",
    "fes = cat(outputfes[5], cat(outputfes[6], cat(outputfes[7], outputfes[8])))\n",
    "fes = cat(outputfes[1], cat(outputfes[2], cat(outputfes[3], cat(outputfes[4], fes))))\n",
    "println(\"$(size(fens.xyz, 1)) nodes\")\n",
    "println(\"$(size(fes.conn, 1)) elements\")\n",
    "println(\"$(round(Int, size(fens.xyz, 1) * nsteps)) dataset points (using Q4)\")"
   ]
  },
  {
   "attachments": {},
   "cell_type": "markdown",
   "id": "499a3362",
   "metadata": {},
   "source": [
    "Subdomain selection"
   ]
  },
  {
   "cell_type": "code",
   "execution_count": 5,
   "id": "e08e8db4",
   "metadata": {},
   "outputs": [],
   "source": [
    "# Identify boundary finite element set\n",
    "bfes = meshboundary(fes)\n",
    "# In case there are any unconnected nodes, remove them, and renumber the elements.\n",
    "connected = findunconnnodes(fens, fes)\n",
    "fens, new_numbering = compactnodes(fens, connected)\n",
    "fess = renumberconn!(fes, new_numbering)\n",
    "# The geometry and the solution (pressure) fields\n",
    "geom = NodalField(fens.xyz)\n",
    "P = NodalField(zeros(FCplxFlt, size(fens.xyz, 1), 1));"
   ]
  },
  {
   "attachments": {},
   "cell_type": "markdown",
   "id": "7966fc2a",
   "metadata": {},
   "source": [
    "Visualize domain"
   ]
  },
  {
   "cell_type": "code",
   "execution_count": 6,
   "id": "b150eafb",
   "metadata": {},
   "outputs": [],
   "source": [
    "# Export three VTK files: one for the interior of the fluid, and one for the boundary\n",
    "vtkexportmesh(\"interior.vtk\", fes.conn, fens.xyz, FinEtools.MeshExportModule.VTK.Q4);"
   ]
  },
  {
   "attachments": {},
   "cell_type": "markdown",
   "id": "6ea3ad22",
   "metadata": {},
   "source": [
    "# Discrete model"
   ]
  },
  {
   "attachments": {},
   "cell_type": "markdown",
   "id": "093ebb7b",
   "metadata": {},
   "source": [
    "Setup"
   ]
  },
  {
   "cell_type": "code",
   "execution_count": 7,
   "id": "c694eac4",
   "metadata": {},
   "outputs": [],
   "source": [
    "# Number the degrees of freedom in the pressure field.\n",
    "numberdofs!(P)\n",
    "# Create the finite element machine for the fluid.\n",
    "material = MatAcoustFluid(bulk, rho)\n",
    "femm  =  FEMMAcoust(IntegDomain(fes, GaussRule(3, 2)), material)\n",
    "# Use the machine calculate the acoustic stiffness and mass matrices.\n",
    "S  =  acousticstiffness(femm, geom, P)\n",
    "C  =  acousticmass(femm, geom, P)\n",
    "# \"damping\" matrix for the absorbing boundary conditions (ABCs)\n",
    "D  =  acousticABC(\n",
    "  FEMMAcoustSurf(IntegDomain(bfes, GaussRule(2, 2)), material), geom, P\n",
    ")\n",
    "loadNode = subset(fes, selectelem(fens, fes, withnodes = [2049, 2050, 2075, 2074]))\n",
    "dipfemm = FEMMAcoustSurf(IntegDomain(loadNode, GaussRule(2, 2)), material)\n",
    "# harmonic point load\n",
    "function pointLoad(dpdn, xyz, J, label, t)::Float64\n",
    "  dpdn[1] = -rho * 0.02 * sin(omega * t)\n",
    "end;"
   ]
  },
  {
   "attachments": {},
   "cell_type": "markdown",
   "id": "a7a05806",
   "metadata": {},
   "source": [
    "Solution"
   ]
  },
  {
   "cell_type": "code",
   "execution_count": 8,
   "id": "38e7a4cd",
   "metadata": {},
   "outputs": [],
   "source": [
    "# Solve the transient acoustics equations.\n",
    "# The loop executes inside this local scope\n",
    "t = 0.0 # Initial time\n",
    "# initialize variable for dataset.\n",
    "# dataset is (N x 4) matrix with rows: [nodeX nodeY time nodalPressure]ₙ\n",
    "# N is the amount of samples: number of nodes * number of time steps\n",
    "data = Float32[0.0 0.0 0.0 0.0]\n",
    "pressureMat = zeros(Float32, (nnodes(P), 1))\n",
    "P1 = let\n",
    "  P0 = deepcopy(P)\n",
    "  P0.values .= 0.0 # initially all pressure is zero\n",
    "  vP0 = gathersysvec(P0)\n",
    "  vQ0 = zeros(eltype(vP0), size(vP0))\n",
    "  # The `P1` field will be the output of this computation:\n",
    "  # the final value of the pressure field\n",
    "  P1 = deepcopy(P0)\n",
    "  fi = ForceIntensity( # Initial load\n",
    "    FCplxFlt, 1, (dpdn, xyz, J, label) -> pointLoad(dpdn, xyz, J, label, t)\n",
    "  )\n",
    "  La0 = distribloads(dipfemm, geom, P1, fi, 2)\n",
    "  A = (2.0 / dt) * S + D + (dt / 2.0) * C\n",
    "  step = 0\n",
    "  while t <= tfinal\n",
    "    step += 1\n",
    "    global t += dt\n",
    "    # Update load\n",
    "    fi = ForceIntensity( # Initial load\n",
    "      FCplxFlt, 1, (dpdn, xyz, J, label) -> pointLoad(dpdn, xyz, J, label, t)\n",
    "    )\n",
    "    La1 = distribloads(dipfemm, geom, P1, fi, 2)\n",
    "    # Solve for the rate of the pressure\n",
    "    vQ1 = A \\ ((2 / dt) * (S * vQ0) - D * vQ0 - C * (2 * vP0 + (dt / 2) * vQ0) + La0 + La1)\n",
    "    \n",
    "    # Update the value of the pressure\n",
    "    vP1 = vP0 + (dt / 2) * (vQ0 + vQ1)\n",
    "    \n",
    "    # Swap variables for next step  \n",
    "    vP0 = deepcopy(vP1)\n",
    "    vQ0 = deepcopy(vQ1)\n",
    "    P1 = scattersysvec!(P1, vec(vP1))\n",
    "    P0 = deepcopy(P1)\n",
    "    La0 = deepcopy(La1)\n",
    "    # concatenate current pressure field to dataset.\n",
    "    global data = vcat(\n",
    "      data, hcat(fens.xyz, fill(t, size(fens.xyz, 1)), real.(P1.values) |> vec)\n",
    "    )\n",
    "    global pressureMat = hcat(pressureMat, real.(P1.values))\n",
    "  end\n",
    "  P1 # Return the final pressure\n",
    "end\n",
    "# discard matrix initializations\n",
    "data = data[2:end, :]\n",
    "pressureMat = pressureMat[:, 2:end];"
   ]
  },
  {
   "attachments": {},
   "cell_type": "markdown",
   "id": "051c6849",
   "metadata": {},
   "source": [
    "Export pressure fields"
   ]
  },
  {
   "cell_type": "code",
   "execution_count": 9,
   "id": "46717ee3",
   "metadata": {},
   "outputs": [],
   "source": [
    "for fileID in axes(pressureMat, 2)\n",
    "  vtkexportmesh(\n",
    "    \"./vtkFiles/wavePropagation$fileID.vtk\",\n",
    "    fes.conn, geom.values, FinEtools.MeshExportModule.VTK.Q4;\n",
    "    scalars = [( \"pressure\", pressureMat[:, fileID] |> vec)]\n",
    "  )\n",
    "end;"
   ]
  },
  {
   "attachments": {},
   "cell_type": "markdown",
   "id": "064cb910",
   "metadata": {},
   "source": [
    "# Data"
   ]
  },
  {
   "attachments": {},
   "cell_type": "markdown",
   "id": "534e2516",
   "metadata": {},
   "source": [
    "Summary statistics"
   ]
  },
  {
   "cell_type": "code",
   "execution_count": 10,
   "id": "cc7f9a58",
   "metadata": {},
   "outputs": [
    {
     "name": "stdout",
     "output_type": "stream",
     "text": [
      "(data[:, i] |> unique) |> length = 309"
     ]
    },
    {
     "name": "stdout",
     "output_type": "stream",
     "text": [
      "\n",
      "Summary Stats:\n",
      "Length:         391036\n",
      "Missing Count:  0\n",
      "Mean:           3.156618\n",
      "Minimum:        0.000000\n",
      "1st Quartile:   1.493333\n",
      "Median:         3.060000\n",
      "3rd Quartile:   4.750000\n",
      "Maximum:        7.000000\n",
      "Standard deviation: 1.9564E0\n",
      "384424/391036 (98.3%) non-zero elements./n\n",
      "\n",
      "(data[:, i] |> unique) |> length = 370\n",
      "Summary Stats:\n",
      "Length:         391036\n",
      "Missing Count:  0\n",
      "Mean:           2.829628\n",
      "Minimum:        0.000000\n",
      "1st Quartile:   1.625000\n",
      "Median:         2.790000\n",
      "3rd Quartile:   4.025000\n",
      "Maximum:        5.850000\n",
      "Standard deviation: 1.5305E0\n",
      "385932/391036 (98.7%) non-zero elements./n\n",
      "\n"
     ]
    },
    {
     "name": "stdout",
     "output_type": "stream",
     "text": [
      "(data[:, i] |> unique) |> length = 116\n",
      "Summary Stats:\n",
      "Length:         391036\n",
      "Missing Count:  0\n",
      "Mean:           0.011700\n",
      "Minimum:        0.000200\n",
      "1st Quartile:   0.005950\n",
      "Median:         0.011700\n",
      "3rd Quartile:   0.017450\n",
      "Maximum:        0.023200\n",
      "Standard deviation: 6.697E-3\n",
      "391036/391036 (100.0%) non-zero elements./n\n",
      "\n",
      "(data[:, i] |> unique) |> length = 391036\n",
      "Summary Stats:\n",
      "Length:         391036\n",
      "Missing Count:  0\n",
      "Mean:           -0.000000\n",
      "Minimum:        -0.000036\n",
      "1st Quartile:   -0.000001\n",
      "Median:         -0.000000\n",
      "3rd Quartile:   0.000000\n",
      "Maximum:        0.000028\n",
      "Standard deviation: 3.2227E-6\n",
      "391036/391036 (100.0%) non-zero elements./n\n",
      "\n"
     ]
    }
   ],
   "source": [
    "for i in 1:4\n",
    "  @show data[:, i] |> unique |> length\n",
    "  statsum(data[:, i])\n",
    "  println()\n",
    "end"
   ]
  },
  {
   "attachments": {},
   "cell_type": "markdown",
   "id": "7483899c",
   "metadata": {},
   "source": [
    "Normalize"
   ]
  },
  {
   "cell_type": "code",
   "execution_count": 11,
   "id": "94b3d2f1",
   "metadata": {},
   "outputs": [
    {
     "data": {
      "text/plain": [
       "391036×4 Matrix{Float64}:\n",
       " 0.0        0.0       0.0  0.562352\n",
       " 0.0142857  0.0       0.0  0.562352\n",
       " 0.0285714  0.0       0.0  0.562352\n",
       " 0.0428571  0.0       0.0  0.562352\n",
       " 0.0571429  0.0       0.0  0.562352\n",
       " 0.0714286  0.0       0.0  0.562352\n",
       " 0.0857143  0.0       0.0  0.562352\n",
       " 0.1        0.0       0.0  0.562352\n",
       " 0.114286   0.0       0.0  0.562352\n",
       " 0.128571   0.0       0.0  0.562352\n",
       " ⋮                         \n",
       " 0.909091   0.670085  1.0  0.559429\n",
       " 0.920455   0.670085  1.0  0.559281\n",
       " 0.931818   0.670085  1.0  0.559237\n",
       " 0.943182   0.670085  1.0  0.559315\n",
       " 0.954545   0.670085  1.0  0.559443\n",
       " 0.965909   0.670085  1.0  0.559538\n",
       " 0.977273   0.670085  1.0  0.559584\n",
       " 0.988636   0.670085  1.0  0.559609\n",
       " 1.0        0.670085  1.0  0.559655"
      ]
     },
     "metadata": {},
     "output_type": "display_data"
    }
   ],
   "source": [
    "# standardize\n",
    "standardData = standardize(ZScoreTransform, data, dims = 1)\n",
    "# unit normalization\n",
    "unitData = standardize(UnitRangeTransform, data, dims = 1)"
   ]
  },
  {
   "attachments": {},
   "cell_type": "markdown",
   "id": "f65d5907",
   "metadata": {},
   "source": [
    "Summary statistics of standardized data"
   ]
  },
  {
   "cell_type": "code",
   "execution_count": 16,
   "id": "03ed8d26",
   "metadata": {},
   "outputs": [
    {
     "name": "stdout",
     "output_type": "stream",
     "text": [
      "Summary Stats:\n",
      "Length:         391036\n",
      "Missing Count:  0\n",
      "Mean:           0.000000\n",
      "Minimum:        -1.613522\n",
      "1st Quartile:   -0.850197\n",
      "Median:         -0.049387\n",
      "3rd Quartile:   0.814466\n",
      "Maximum:        1.964565\n",
      "Standard deviation: 1.0E0\n",
      "391036/391036 (100.0%) non-zero elements./n\n",
      "Summary Stats:\n",
      "Length:         391036\n",
      "Missing Count:  0\n",
      "Mean:           0.000000\n",
      "Minimum:        -1.848812\n",
      "1st Quartile:   -0.787075\n",
      "Median:         -0.025892\n",
      "3rd Quartile:   0.781028\n",
      "Maximum:        1.973439\n",
      "Standard deviation: 1.0E0\n",
      "391036/391036 (100.0%) non-zero elements./n\n",
      "Summary Stats:\n",
      "Length:         391036\n",
      "Missing Count:  0\n",
      "Mean:           0.000000\n",
      "Minimum:        -1.717181\n",
      "1st Quartile:   -0.858590\n",
      "Median:         0.000000\n",
      "3rd Quartile:   0.858590\n",
      "Maximum:        1.717181\n",
      "Standard deviation: 1.0E0\n",
      "391036/391036 (100.0%) non-zero elements./n\n",
      "Summary Stats:\n",
      "Length:         391036\n",
      "Missing Count:  0\n",
      "Mean:           -0.000000\n",
      "Minimum:        -11.039268\n",
      "1st Quartile:   -0.059022\n",
      "Median:         0.107731\n",
      "3rd Quartile:   0.109575\n",
      "Maximum:        8.782824\n",
      "Standard deviation: 1.0E0\n",
      "391036/391036 (100.0%) non-zero elements./n\n"
     ]
    }
   ],
   "source": [
    "mapslices(statsum, standardData; dims = [1]);"
   ]
  },
  {
   "attachments": {},
   "cell_type": "markdown",
   "id": "b754a1c7",
   "metadata": {},
   "source": [
    "Save in HDF5"
   ]
  },
  {
   "cell_type": "code",
   "execution_count": 13,
   "id": "ceafa672",
   "metadata": {},
   "outputs": [],
   "source": [
    "# create file\n",
    "h5open(\"./dataset.h5\", \"w\") do dataFile\n",
    "  dataFile[\"data\"] = data # [x y t p]ₙ data\n",
    "  dataFile[\"unitData\"] = unitData # unit normalized [x y t p]ₙ data\n",
    "  # standardized [x y t p]ₙ data\n",
    "  dataFile[\"standardData\"] = standardData\n",
    "  # [p₁ p₂ ... pₜ] evolution of pressure field\n",
    "  dataFile[\"pressureSteps\"] = pressureMat\n",
    "end;"
   ]
  },
  {
   "attachments": {},
   "cell_type": "markdown",
   "id": "b9bd59c3",
   "metadata": {},
   "source": [
    "Summary statistics of file"
   ]
  },
  {
   "cell_type": "code",
   "execution_count": 14,
   "id": "d88b0c98",
   "metadata": {},
   "outputs": [
    {
     "name": "stdout",
     "output_type": "stream",
     "text": [
      "(HDF5.name(field))[2:end] = \"data\"\n"
     ]
    },
    {
     "name": "stdout",
     "output_type": "stream",
     "text": [
      "size(d) = (391036, 4)"
     ]
    },
    {
     "name": "stdout",
     "output_type": "stream",
     "text": [
      "\n",
      "Summary Stats:\n",
      "Length:         1564144\n",
      "Missing Count:  0\n",
      "Mean:           1.499486\n",
      "Minimum:        -0.000036\n",
      "1st Quartile:   0.000006\n",
      "Median:         0.022600\n",
      "3rd Quartile:   2.880000\n",
      "Maximum:        7.000000\n",
      "Standard deviation: 1.946E0\n",
      "1552428/1564144 (99.3%) non-zero elements./n\n",
      "\n",
      "(HDF5.name(field))[2:end] = \"pressureSteps\"\n",
      "size(d) = (3371, 116)\n",
      "Summary Stats:\n",
      "Length:         391036\n",
      "Missing Count:  0\n",
      "Mean:           -0.000000\n",
      "Minimum:        -0.000036\n",
      "1st Quartile:   -0.000001\n",
      "Median:         -0.000000\n",
      "3rd Quartile:   0.000000\n",
      "Maximum:        0.000028\n",
      "Standard deviation: 3.2227E-6\n",
      "391036/391036 (100.0%) non-zero elements./n\n",
      "\n",
      "(HDF5.name(field))[2:end] = \"standardData\"\n",
      "size(d) = (391036, 4)"
     ]
    },
    {
     "name": "stdout",
     "output_type": "stream",
     "text": [
      "\n",
      "Summary Stats:\n",
      "Length:         1564144\n",
      "Missing Count:  0\n",
      "Mean:           0.000000\n",
      "Minimum:        -11.039268\n",
      "1st Quartile:   -0.716293\n",
      "Median:         0.091213\n",
      "3rd Quartile:   0.661119\n",
      "Maximum:        8.782824\n",
      "Standard deviation: 10.0E-1\n",
      "1564144/1564144 (100.0%) non-zero elements./n\n",
      "\n",
      "(HDF5.name(field))[2:end] = \"unitData\"\n",
      "size(d) = (391036, 4)\n",
      "Summary Stats:\n",
      "Length:         1564144\n",
      "Missing Count:  0\n",
      "Mean:           0.497890\n",
      "Minimum:        0.000000\n",
      "1st Quartile:   0.319934\n",
      "Median:         0.550344\n",
      "3rd Quartile:   0.635714\n",
      "Maximum:        1.000000\n",
      "Standard deviation: 2.4484E-1"
     ]
    },
    {
     "name": "stdout",
     "output_type": "stream",
     "text": [
      "\n",
      "1549056/1564144 (99.0%) non-zero elements./n\n",
      "\n"
     ]
    }
   ],
   "source": [
    "h5open(\"./dataset.h5\", \"r\") do f\n",
    "  for field in HDF5.get_datasets(f)\n",
    "    @show HDF5.name(field)[2 : end]\n",
    "    d = HDF5.read(field)\n",
    "    @show size(d)\n",
    "    statsum(d)\n",
    "    println()\n",
    "  end\n",
    "end"
   ]
  }
 ],
 "metadata": {
  "kernelspec": {
   "display_name": "Julia 1.8.5",
   "language": "julia",
   "name": "julia-1.8"
  },
  "language_info": {
   "file_extension": ".jl",
   "mimetype": "application/julia",
   "name": "julia",
   "version": "1.8.5"
  }
 },
 "nbformat": 4,
 "nbformat_minor": 5
}
