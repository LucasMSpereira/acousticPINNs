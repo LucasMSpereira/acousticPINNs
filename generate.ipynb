{
 "cells": [
  {
   "cell_type": "markdown",
   "id": "c778a125",
   "metadata": {},
   "source": [
    "# Packages"
   ]
  },
  {
   "cell_type": "code",
   "execution_count": 129,
   "id": "1b609df6",
   "metadata": {},
   "outputs": [],
   "source": [
    "using FinEtools, FinEtoolsAcoustics, LinearAlgebra"
   ]
  },
  {
   "cell_type": "markdown",
   "id": "53410bdc",
   "metadata": {},
   "source": [
    "# Initial setup"
   ]
  },
  {
   "cell_type": "code",
   "execution_count": 130,
   "id": "9633257f",
   "metadata": {},
   "outputs": [
    {
     "name": "stdout",
     "output_type": "stream",
     "text": [
      "reachSteps = 154.51895043731776\n",
      "Final time: 1.545E-2 seconds.\n"
     ]
    }
   ],
   "source": [
    "rho = 1.21 * phun(\"kg/m^3\") # mass density\n",
    "c  = 343.0 * phun(\"m/s\") # sound speed\n",
    "bulk =  c ^ 2 * rho\n",
    "frequency = 500.0 # frequency of the incident wave, Hz\n",
    "omega = 2 * pi * frequency\n",
    "dt = 1.0 / frequency / 20\n",
    "reachTime = 5.3/c # time to reach inferior boundary (seconds)\n",
    "reachSteps = reachTime/dt\n",
    "@show reachSteps; # same time, but in number of steps\n",
    "tfinal = reachSteps * dt\n",
    "println(\"Final time: $(sciNotation(reachTime, 3)) seconds.\")\n",
    "nsteps = round(tfinal / dt) + 1;"
   ]
  },
  {
   "cell_type": "markdown",
   "id": "cc2a4d2c",
   "metadata": {},
   "source": [
    "# Mesh"
   ]
  },
  {
   "cell_type": "code",
   "execution_count": 131,
   "id": "7d148536",
   "metadata": {},
   "outputs": [
    {
     "data": {
      "text/plain": [
       "FESetQ4([(1, 2, 15, 14), (14, 15, 28, 27), (27, 28, 41, 40), (40, 41, 54, 53), (53, 54, 67, 66), (66, 67, 80, 79), (79, 80, 93, 92), (92, 93, 106, 105), (105, 106, 119, 118), (118, 119, 132, 131)  …  (3150, 3151, 3173, 3172), (3172, 3173, 3195, 3194), (3194, 3195, 3217, 3216), (3216, 3217, 3239, 3238), (3238, 3239, 3261, 3260), (3260, 3261, 3283, 3282), (3282, 3283, 3305, 3304), (3304, 3305, 3327, 3326), (3326, 3327, 3349, 3348), (3348, 3349, 3371, 3370)], [0, 0, 0, 0, 0, 0, 0, 0, 0, 0  …  0, 0, 0, 0, 0, 0, 0, 0, 0, 0], nothing)"
      ]
     },
     "metadata": {},
     "output_type": "display_data"
    }
   ],
   "source": [
    "# list of meshes\n",
    "Meshes = Array{Tuple{FENodeSet, AbstractFESet}, 1}()\n",
    "# Q4 discretization of large rectangular domain divisions\n",
    "push!(Meshes, Q4quadrilateral([0.0 0.0; 1.2 2.6], 12, 26)) # 1\n",
    "push!(Meshes, Q4quadrilateral([0.0 2.6; 1.6 5.45], 15, 30)) # 2\n",
    "push!(Meshes, Q4quadrilateral([1.35 0.0; 4.05 2.6], 30, 24)) # 3\n",
    "push!(Meshes, Q4quadrilateral([1.6 2.6; 4.05 5.8], 25, 26)) # 4\n",
    "push!(Meshes, Q4quadrilateral([4.25 1.2; 5.25 4.5], 10, 35)) # 5\n",
    "push!(Meshes, Q4quadrilateral([4.05 4.5; 5.25 5.3], 12, 8)) # 6\n",
    "push!(Meshes, Q4quadrilateral([4.25 5.3; 5.25 5.85], 10, 4)) # 7\n",
    "push!(Meshes, Q4quadrilateral([5.25 1.2; 7.0 3.92], 22, 25)) # 8\n",
    "# merge meshes\n",
    "fens, outputfes = mergenmeshes(Meshes, 0.05)\n",
    "# concatenate connectivities\n",
    "fes = cat(outputfes[5], cat(outputfes[6], cat(outputfes[7], outputfes[8])))\n",
    "fes = cat(outputfes[1], cat(outputfes[2], cat(outputfes[3], cat(outputfes[4], fes))))"
   ]
  },
  {
   "cell_type": "markdown",
   "id": "499a3362",
   "metadata": {},
   "source": [
    "# Subdomain selection"
   ]
  },
  {
   "cell_type": "code",
   "execution_count": 132,
   "id": "e08e8db4",
   "metadata": {},
   "outputs": [
    {
     "data": {
      "text/plain": [
       "NodalField{ComplexF64}(ComplexF64[0.0 + 0.0im; 0.0 + 0.0im; … ; 0.0 + 0.0im; 0.0 + 0.0im;;], [0; 0; … ; 0; 0;;], Bool[0; 0; … ; 0; 0;;], ComplexF64[0.0 + 0.0im; 0.0 + 0.0im; … ; 0.0 + 0.0im; 0.0 + 0.0im;;], 0)"
      ]
     },
     "metadata": {},
     "output_type": "display_data"
    }
   ],
   "source": [
    "# Identify boundary finite element set\n",
    "bfes = meshboundary(fes)\n",
    "# In case there are any unconnected nodes, remove them, and renumber the elements.\n",
    "connected = findunconnnodes(fens, fes)\n",
    "fens, new_numbering = compactnodes(fens, connected)\n",
    "fess = renumberconn!(fes, new_numbering)\n",
    "# The geometry and the solution (pressure) fields\n",
    "geom = NodalField(fens.xyz)\n",
    "P = NodalField(zeros(FCplxFlt, size(fens.xyz, 1), 1))"
   ]
  },
  {
   "cell_type": "markdown",
   "id": "7966fc2a",
   "metadata": {},
   "source": [
    "# Visualize geometry"
   ]
  },
  {
   "cell_type": "code",
   "execution_count": 133,
   "id": "b150eafb",
   "metadata": {},
   "outputs": [
    {
     "data": {
      "text/plain": [
       "true"
      ]
     },
     "metadata": {},
     "output_type": "display_data"
    }
   ],
   "source": [
    "# Export three VTK files: one for the interior of the fluid, and one for the boundary\n",
    "vtkexportmesh(\"interior.vtk\", fes.conn, fens.xyz, FinEtools.MeshExportModule.VTK.Q4)"
   ]
  },
  {
   "cell_type": "markdown",
   "id": "6ea3ad22",
   "metadata": {},
   "source": [
    "# Setup discrete model"
   ]
  },
  {
   "cell_type": "code",
   "execution_count": 134,
   "id": "c694eac4",
   "metadata": {},
   "outputs": [
    {
     "data": {
      "text/plain": [
       "pointLoad (generic function with 1 method)"
      ]
     },
     "metadata": {},
     "output_type": "display_data"
    }
   ],
   "source": [
    "# Number the degrees of freedom in the pressure field.\n",
    "numberdofs!(P)\n",
    "# Create the finite element machine for the fluid.\n",
    "material = MatAcoustFluid(bulk, rho)\n",
    "femm  =  FEMMAcoust(IntegDomain(fes, GaussRule(3, 2)), material)\n",
    "# Use the machine calculate the acoustic stiffness and mass matrices.\n",
    "S  =  acousticstiffness(femm, geom, P)\n",
    "C  =  acousticmass(femm, geom, P)\n",
    "# \"damping\" mmatrix for the absorbing boundary conditions (ABCs)\n",
    "D  =  acousticABC(\n",
    "  FEMMAcoustSurf(IntegDomain(bfes, GaussRule(2, 2)), material), geom, P\n",
    ")\n",
    "loadNode = subset(fes, selectelem(fens, fes, withnodes = [2049, 2050, 2075, 2074]))\n",
    "dipfemm = FEMMAcoustSurf(IntegDomain(loadNode, GaussRule(2, 2)), material)\n",
    "# harmonic point load\n",
    "function pointLoad(dpdn, xyz, J, label, t)::Float64\n",
    "  dpdn[1] = -rho * 0.02 * sin(omega * t)\n",
    "end"
   ]
  },
  {
   "cell_type": "markdown",
   "id": "a7a05806",
   "metadata": {},
   "source": [
    "# Time stepping"
   ]
  },
  {
   "cell_type": "code",
   "execution_count": 135,
   "id": "38e7a4cd",
   "metadata": {},
   "outputs": [
    {
     "data": {
      "text/plain": [
       "NodalField{ComplexF64}(ComplexF64[8.109413528667914e-9 + 0.0im; 1.798248966290997e-8 + 0.0im; … ; -1.3478398006397103e-7 + 0.0im; -1.4253656765661308e-7 + 0.0im;;], [1; 2; … ; 3370; 3371;;], Bool[0; 0; … ; 0; 0;;], ComplexF64[0.0 + 0.0im; 0.0 + 0.0im; … ; 0.0 + 0.0im; 0.0 + 0.0im;;], 3371)"
      ]
     },
     "metadata": {},
     "output_type": "display_data"
    }
   ],
   "source": [
    "# Solve the transient acoustics equations.\n",
    "# Refer to [1] for details of the formulation.\n",
    "# The loop executes inside this local scope\n",
    "P1 = let\n",
    "    P0 = deepcopy(P)\n",
    "    P0.values .= 0.0 # initially all pressure is zero\n",
    "    vP0 = gathersysvec(P0)\n",
    "    vQ0 = zeros(eltype(vP0), size(vP0))\n",
    "    # The `P1` field will be the output of this computation:\n",
    "    # the final value of the pressure field\n",
    "    P1 = deepcopy(P0)\n",
    "    t = 0.0 # Initial time\n",
    "    fi = ForceIntensity( # Initial load\n",
    "      FCplxFlt, 1, (dpdn, xyz, J, label) -> pointLoad(dpdn, xyz, J, label, t)\n",
    "    )\n",
    "    La0 = distribloads(dipfemm, geom, P1, fi, 2)\n",
    "    # This is the coefficient matrix that needs to be used in the solver. We are\n",
    "    # not being very careful here to save on computation: it might be best to\n",
    "    # factorize this matrix, and then use backward and forward solves inside\n",
    "    # the loop.\n",
    "    A = (2.0 / dt) * S + D + (dt / 2.0) * C\n",
    "    step = 0\n",
    "    while t <= tfinal\n",
    "        step += 1\n",
    "        # println(\"Time $(sciNotation(t, 3)) ($(step)/$(round(tfinal / dt) + 1))\")\n",
    "        t += dt\n",
    "        # Update load\n",
    "        fi = ForceIntensity( # Initial load\n",
    "          FCplxFlt, 1, (dpdn, xyz, J, label) -> pointLoad(dpdn, xyz, J, label, t)\n",
    "        )\n",
    "        La1 = distribloads(dipfemm, geom, P1, fi, 2)\n",
    "        # Solve for the rate of the pressure\n",
    "        vQ1 = A \\ ((2 / dt) * (S * vQ0) - D * vQ0 - C * (2 * vP0 + (dt / 2) * vQ0) + La0 + La1)\n",
    "        \n",
    "        # Update the value of the pressure\n",
    "        vP1 = vP0 + (dt / 2) * (vQ0 + vQ1)\n",
    "        \n",
    "        # Swap variables for next step  \n",
    "        vP0 = deepcopy(vP1)\n",
    "        vQ0 = deepcopy(vQ1)\n",
    "        P1 = scattersysvec!(P1, vec(vP1))\n",
    "        P0 = deepcopy(P1)\n",
    "        La0 = deepcopy(La1)\n",
    "    end\n",
    "    P1 # Return the final pressure 95 25 330\n",
    "end"
   ]
  },
  {
   "cell_type": "markdown",
   "id": "051c6849",
   "metadata": {},
   "source": [
    "# Visualize"
   ]
  },
  {
   "cell_type": "code",
   "execution_count": 136,
   "id": "46717ee3",
   "metadata": {},
   "outputs": [
    {
     "data": {
      "text/plain": [
       "true"
      ]
     },
     "metadata": {},
     "output_type": "display_data"
    }
   ],
   "source": [
    "File = \"./wavePropagation.vtk\"\n",
    "vtkexportmesh(File, fes.conn, geom.values, FinEtools.MeshExportModule.VTK.Q4; scalars = [( \"realP\", real.(P1.values)),])\n",
    "# @async run(`\"paraview.exe\" $(readdir(pwd(); join = true)[end])`)"
   ]
  }
 ],
 "metadata": {
  "kernelspec": {
   "display_name": "Julia 1.8.5",
   "language": "julia",
   "name": "julia-1.8"
  },
  "language_info": {
   "file_extension": ".jl",
   "mimetype": "application/julia",
   "name": "julia",
   "version": "1.8.5"
  }
 },
 "nbformat": 4,
 "nbformat_minor": 5
}
