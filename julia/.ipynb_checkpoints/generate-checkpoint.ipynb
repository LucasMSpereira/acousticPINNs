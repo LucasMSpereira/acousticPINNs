{
 "cells": [
  {
   "cell_type": "markdown",
   "id": "c778a125",
   "metadata": {},
   "source": [
    "# Packages"
   ]
  },
  {
   "cell_type": "code",
   "execution_count": 1,
   "id": "1b609df6",
   "metadata": {},
   "outputs": [],
   "source": [
    "using FinEtools\n",
    "using FinEtoolsAcoustics\n",
    "using LinearAlgebra"
   ]
  },
  {
   "cell_type": "markdown",
   "id": "53410bdc",
   "metadata": {},
   "source": [
    "# Initial setup"
   ]
  },
  {
   "cell_type": "code",
   "execution_count": 3,
   "id": "9633257f",
   "metadata": {},
   "outputs": [],
   "source": [
    "rho = 1.21 * phun(\"kg/m^3\") # mass density\n",
    "c  = 343.0 * phun(\"m/s\") # sound speed\n",
    "bulk =  c ^ 2 * rho\n",
    "# P_amplitude = R * rho * a_amplitude # pressure amplitude\n",
    "frequency = 1200.0 # frequency of the incident wave, Hz\n",
    "omega = 2 * pi * frequency\n",
    "dt = 1.0 / frequency / 20\n",
    "tfinal = 90 * dt\n",
    "nsteps = round(tfinal / dt) + 1;"
   ]
  },
  {
   "cell_type": "markdown",
   "id": "cc2a4d2c",
   "metadata": {},
   "source": [
    "# Mesh"
   ]
  },
  {
   "cell_type": "code",
   "execution_count": 27,
   "id": "7d148536",
   "metadata": {},
   "outputs": [
    {
     "data": {
      "text/plain": [
       "FESetQ4([(3384, 3385, 3385, 3385), (3385, 3385, 3549, 3548), (3548, 3549, 3605, 3604), (3604, 3605, 3661, 3660), (3660, 3661, 3716, 3396), (3396, 3716, 3396, 3396), (3396, 3396, 3396, 3396), (3396, 3396, 3879, 3396), (3396, 3879, 3935, 3934), (3934, 3935, 3991, 3990)  …  (220, 221, 234, 233), (233, 234, 247, 246), (246, 247, 260, 259), (259, 260, 273, 272), (272, 273, 286, 285), (285, 286, 299, 298), (298, 299, 312, 311), (311, 312, 325, 324), (324, 325, 338, 337), (337, 338, 351, 350)], [0, 0, 0, 0, 0, 0, 0, 0, 0, 0  …  0, 0, 0, 0, 0, 0, 0, 0, 0, 0], nothing)"
      ]
     },
     "execution_count": 27,
     "metadata": {},
     "output_type": "execute_result"
    }
   ],
   "source": [
    "tolerance = 0.1 # tolerance for merging nodes\n",
    "# list of meshes\n",
    "Meshes = Array{Tuple{FENodeSet, AbstractFESet}, 1}()\n",
    "# Q4 discretization of large rectangular domain divisions\n",
    "push!(Meshes, Q4quadrilateral([0.0 0.0; 12 26], 12, 26)) # 1\n",
    "push!(Meshes, Q4quadrilateral([1.6 5.0; 4.05 5.35], 29, 3)) # 2\n",
    "push!(Meshes, Q4quadrilateral([0.0 2.6; 4.05 5.0], 81, 24)) # 3\n",
    "push!(Meshes, Q4quadrilateral([1.35 0.0; 4.05 2.6], 27, 26)) # 4\n",
    "push!(Meshes, Q4quadrilateral([4.25 4.85; 5.25 5.35], 10, 4)) # 5\n",
    "push!(Meshes, Q4quadrilateral([4.05 3.12; 5.25 4.85], 12, 17)) # 6\n",
    "push!(Meshes, Q4quadrilateral([4.25 1.2; 5.25 3.12], 10, 6)) # 7\n",
    "push!(Meshes, Q4quadrilateral([5.25 1.2; 8.0 3.95], 55, 55)) # 8\n",
    "# merge meshes\n",
    "fens, outputfes = mergenmeshes(Meshes, tolerance)\n",
    "# concatenate connectivities\n",
    "fes = cat(outputfes[4], cat(outputfes[3], cat(outputfes[2], outputfes[1])))\n",
    "fes = cat(outputfes[8], cat(outputfes[7], cat(outputfes[6], cat(outputfes[5], fes))))"
   ]
  },
  {
   "cell_type": "markdown",
   "id": "499a3362",
   "metadata": {},
   "source": [
    "# Subdomain selection"
   ]
  },
  {
   "cell_type": "code",
   "execution_count": 28,
   "id": "e08e8db4",
   "metadata": {},
   "outputs": [
    {
     "data": {
      "text/plain": [
       "NodalField{ComplexF64}(ComplexF64[0.0 + 0.0im; 0.0 + 0.0im; … ; 0.0 + 0.0im; 0.0 + 0.0im;;], [0; 0; … ; 0; 0;;], Bool[0; 0; … ; 0; 0;;], ComplexF64[0.0 + 0.0im; 0.0 + 0.0im; … ; 0.0 + 0.0im; 0.0 + 0.0im;;], 0)"
      ]
     },
     "execution_count": 28,
     "metadata": {},
     "output_type": "execute_result"
    }
   ],
   "source": [
    "# Identify boundary finite element set\n",
    "bfes  =  meshboundary(fes)\n",
    "# In case there are any unconnected nodes, remove them, and renumber the elements.\n",
    "connected = findunconnnodes(fens, fes)\n",
    "fens, new_numbering = compactnodes(fens, connected);\n",
    "fess = renumberconn!(fes, new_numbering);\n",
    "# The geometry and the solution (pressure) fields\n",
    "geom  =  NodalField(fens.xyz)\n",
    "P  =  NodalField(zeros(FCplxFlt, size(fens.xyz, 1), 1))"
   ]
  },
  {
   "cell_type": "markdown",
   "id": "7966fc2a",
   "metadata": {},
   "source": [
    "# Visualize geometry"
   ]
  },
  {
   "cell_type": "code",
   "execution_count": 29,
   "id": "b150eafb",
   "metadata": {},
   "outputs": [
    {
     "ename": "LoadError",
     "evalue": "AssertionError: numnodes == size(Connectivity, 2)",
     "output_type": "error",
     "traceback": [
      "AssertionError: numnodes == size(Connectivity, 2)",
      "",
      "Stacktrace:",
      " [1] vtkexportmesh(theFile::String, Connectivity::Vector{Tuple{Int64, Int64}}, Points::Matrix{Float64}, Cell_type::Int64; vectors::Nothing, scalars::Nothing)",
      "   @ FinEtools.MeshExportModule.VTK C:\\Users\\kaoid\\.julia\\packages\\FinEtools\\Nh8HL\\src\\MeshExportModule.jl:149",
      " [2] vtkexportmesh(theFile::String, Connectivity::Vector{Tuple{Int64, Int64}}, Points::Matrix{Float64}, Cell_type::Int64)",
      "   @ FinEtools.MeshExportModule.VTK C:\\Users\\kaoid\\.julia\\packages\\FinEtools\\Nh8HL\\src\\MeshExportModule.jl:126",
      " [3] top-level scope",
      "   @ In[29]:4"
     ]
    }
   ],
   "source": [
    "# Export three VTK files: one for the interior of the fluid, and two for the boundaries.\n",
    "# The boundaries on the symmetry planes are taken into account implicitly.\n",
    "vtkexportmesh(\"interior.vtk\", fes.conn, fens.xyz, FinEtools.MeshExportModule.VTK.Q4)\n",
    "vtkexportmesh(\"boundary.vtk\", bfes.conn, geom.values, FinEtools.MeshExportModule.VTK.Q4)"
   ]
  },
  {
   "cell_type": "markdown",
   "id": "6ea3ad22",
   "metadata": {},
   "source": [
    "# Setup discrete model"
   ]
  },
  {
   "cell_type": "code",
   "execution_count": null,
   "id": "c694eac4",
   "metadata": {},
   "outputs": [],
   "source": [
    "# Number the degrees of freedom in the pressure field.\n",
    "numberdofs!(P)\n",
    "# Create the finite element machine for the fluid.\n",
    "material = MatAcoustFluid(bulk,rho)\n",
    "femm  =  FEMMAcoust(IntegDomain(fes, GaussRule(3, 2)), material)\n",
    "# Use the machine calculate the acoustic stiffness and mass matrices.\n",
    "S  =  acousticstiffness(femm, geom, P);\n",
    "C  =  acousticmass(femm, geom, P);\n",
    "# Set up finite element machine needed for the absorbing boundary conditions.\n",
    "abcfemm  =  FEMMAcoustSurf(IntegDomain(subset(bfes, louter), GaussRule(2, 2)), material)\n",
    "# This is the \"damping\" mmatrix for the ABC.\n",
    "D  =  acousticABC(abcfemm, geom, P);\n",
    "# The sphere at the center is rigid and moves in a prescribed, harmonic,\n",
    "# fashion. That generates loading onto the fluid. We expect the loading to be\n",
    "# in the form of a dipole.\n",
    "function dipole(dpdn, xyz, J, label, t)\n",
    "    n = cross(J[:,1],J[:,2]);\n",
    "    n = vec(n/norm(n));\n",
    "    dpdn[1] = -rho*a_amplitude*sin(omega*t)*n[1]\n",
    "end\n",
    "# In order to evaluate the distributed pressure flux loading we need a surface\n",
    "# acoustic finite element model machine. We shall set it up for the interior\n",
    "# spherical surface.\n",
    "dipfemm  =  FEMMAcoustSurf(IntegDomain(subset(bfes, linner), GaussRule(2, 2)), material)"
   ]
  },
  {
   "cell_type": "markdown",
   "id": "a7a05806",
   "metadata": {},
   "source": [
    "# Time stepping"
   ]
  },
  {
   "cell_type": "code",
   "execution_count": null,
   "id": "38e7a4cd",
   "metadata": {},
   "outputs": [],
   "source": [
    "# Solve the transient acoustics equations. Refer to [1] for details of the\n",
    "# formulation. \n",
    "# The loop executes inside this local scope. \n",
    "P1 = let\n",
    "    P0 = deepcopy(P)\n",
    "    P0.values[:] .= 0.0; # initially all pressure is zero\n",
    "    vP0 = gathersysvec(P0);\n",
    "    vQ0 = zeros(eltype(vP0), size(vP0));\n",
    "    # The `P1` field will be the output of this computation: the final value of\n",
    "    # the pressure field\n",
    "    P1 = deepcopy(P0); \n",
    "    t = 0.0; # Initial time\n",
    "    # Compute the initial load due to the pressure gradient on the surface of\n",
    "    # the moving sphere.\n",
    "    fi  =  ForceIntensity(\n",
    "      FCplxFlt, 1, (dpdn, xyz, J, label) -> dipole(dpdn, xyz, J, label, t)\n",
    "    );\n",
    "    La0 = distribloads(dipfemm, geom, P1, fi, 2);\n",
    "    # This is the coefficient matrix that needs to be used in the solver. We are\n",
    "    # not being very careful here to save on computation: it might be best to\n",
    "    # factorize this matrix, and then use backward and forward solves inside\n",
    "    # the loop.\n",
    "    A = (2.0/dt)*S + D + (dt/2.)*C;\n",
    "    step = 0;\n",
    "    while t <= tfinal\n",
    "        step += 1;\n",
    "        println(\"Time $t ($(step)/$(round(tfinal/dt)+1))\")\n",
    "        t += dt;\n",
    "        # Compute the current load due to the pressure gradient on the surface of\n",
    "        # the moving sphere.\n",
    "        fi  = ForceIntensity(FCplxFlt, 1, (dpdn, xyz, J, label)->dipole(dpdn, xyz, J, label, t));\n",
    "        La1 = distribloads(dipfemm, geom, P1, fi, 2);\n",
    "        # Solve for the rate of the pressure\n",
    "        vQ1 = A\\((2/dt)*(S*vQ0)-D*vQ0-C*(2*vP0+(dt/2)*vQ0)+La0+La1);\n",
    "        \n",
    "        # Update the value of the pressure\n",
    "        vP1 = vP0 + (dt/2)*(vQ0+vQ1);\n",
    "        \n",
    "        # Swap variables for next step  \n",
    "        vP0 = vP1;\n",
    "        vQ0 = vQ1;\n",
    "        P1 = scattersysvec!(P1, vec(vP1));\n",
    "        P0 = P1;\n",
    "        La0 = La1;\n",
    "    end\n",
    "    P1 # Return the final pressure\n",
    "end"
   ]
  },
  {
   "cell_type": "markdown",
   "id": "051c6849",
   "metadata": {},
   "source": [
    "# Visualize"
   ]
  },
  {
   "cell_type": "code",
   "execution_count": null,
   "id": "46717ee3",
   "metadata": {},
   "outputs": [],
   "source": [
    "File  =   \"sphere_dipole_P1.vtk\"\n",
    "vtkexportmesh(File, fes.conn, geom.values, FinEtools.MeshExportModule.VTK.H8; scalars = [( \"realP\", real.(P1.values)),])"
   ]
  }
 ],
 "metadata": {
  "kernelspec": {
   "display_name": "Julia 1.8.5",
   "language": "julia",
   "name": "julia-1.8"
  },
  "language_info": {
   "file_extension": ".jl",
   "mimetype": "application/julia",
   "name": "julia",
   "version": "1.8.5"
  }
 },
 "nbformat": 4,
 "nbformat_minor": 5
}
