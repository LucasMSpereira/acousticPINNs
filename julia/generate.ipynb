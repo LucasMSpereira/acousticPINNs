{
 "cells": [
  {
   "attachments": {},
   "cell_type": "markdown",
   "id": "c778a125",
   "metadata": {},
   "source": [
    "# Packages"
   ]
  },
  {
   "cell_type": "code",
   "execution_count": 1,
   "id": "1b609df6",
   "metadata": {},
   "outputs": [],
   "source": [
    "using FinEtools, FinEtoolsAcoustics, LinearAlgebra, StatsBase, HDF5, Random\n",
    "cd(desktopPath) # change directory"
   ]
  },
  {
   "attachments": {},
   "cell_type": "markdown",
   "id": "53410bdc",
   "metadata": {},
   "source": [
    "# Initial setup"
   ]
  },
  {
   "cell_type": "code",
   "execution_count": 2,
   "id": "9633257f",
   "metadata": {},
   "outputs": [
    {
     "name": "stdout",
     "output_type": "stream",
     "text": [
      "Step takes 1.333E-4 s\n",
      "Total of 141 steps\n",
      "Final time: 1.867E-2 s\n"
     ]
    }
   ],
   "source": [
    "rho = 1.21 * phun(\"kg/m^3\") # mass density\n",
    "c  = 343.0 * phun(\"m/s\") # sound speed\n",
    "bulk =  c ^ 2 * rho\n",
    "frequency = 500.0 # frequency of the incident wave, Hz\n",
    "omega = 2 * pi * frequency\n",
    "dt = 1.0 / frequency / 15\n",
    "tfinal = 140 * dt\n",
    "nsteps = round(tfinal / dt) + 1\n",
    "println(\"Step takes $(sciNotation(dt, 3)) s\")\n",
    "println(\"Total of $(round(Int, nsteps)) steps\")\n",
    "println(\"Final time: $(sciNotation(tfinal, 3)) s\")"
   ]
  },
  {
   "attachments": {},
   "cell_type": "markdown",
   "id": "cc2a4d2c",
   "metadata": {},
   "source": [
    "# Mesh"
   ]
  },
  {
   "attachments": {},
   "cell_type": "markdown",
   "id": "297db6e9",
   "metadata": {},
   "source": [
    "Geometry"
   ]
  },
  {
   "cell_type": "code",
   "execution_count": 3,
   "id": "7d148536",
   "metadata": {},
   "outputs": [
    {
     "name": "stdout",
     "output_type": "stream",
     "text": [
      "3362 nodes\n",
      "3168 elements\n",
      "474042 dataset points (using Q4)\n"
     ]
    }
   ],
   "source": [
    "# list of meshes\n",
    "Meshes = Array{Tuple{FENodeSet, AbstractFESet}, 1}()\n",
    "# Q4 discretization of large rectangular domain divisions\n",
    "push!(Meshes, Q4quadrilateral([0.0 0.0; 1.2 2.6], 10, 26)) # 1\n",
    "push!(Meshes, Q4quadrilateral([0.0 2.6; 1.6 5.45], 13, 30)) # 2\n",
    "push!(Meshes, Q4quadrilateral([1.35 0.0; 4.05 2.6], 25, 24)) # 3\n",
    "push!(Meshes, Q4quadrilateral([1.6 2.6; 4.05 5.8], 23, 34)) # 4\n",
    "push!(Meshes, Q4quadrilateral([4.25 1.2; 5.25 4.5], 10, 35)) # 5\n",
    "push!(Meshes, Q4quadrilateral([4.05 4.5; 5.25 5.3], 12, 9)) # 6\n",
    "push!(Meshes, Q4quadrilateral([4.25 5.3; 5.25 5.85], 10, 4)) # 7\n",
    "push!(Meshes, Q4quadrilateral([5.25 1.2; 7.0 3.92], 22, 29)) # 8\n",
    "# merge meshes\n",
    "fens, outputfes = mergenmeshes(Meshes, 0.05)\n",
    "# concatenate connectivities\n",
    "fes = cat(outputfes[5], cat(outputfes[6], cat(outputfes[7], outputfes[8])))\n",
    "fes = cat(outputfes[1], cat(outputfes[2], cat(outputfes[3], cat(outputfes[4], fes))))\n",
    "println(\"$(size(fens.xyz, 1)) nodes\")\n",
    "println(\"$(size(fes.conn, 1)) elements\")\n",
    "println(\"$(round(Int, size(fens.xyz, 1) * nsteps)) dataset points (using Q4)\")"
   ]
  },
  {
   "attachments": {},
   "cell_type": "markdown",
   "id": "499a3362",
   "metadata": {},
   "source": [
    "Subdomain selection"
   ]
  },
  {
   "cell_type": "code",
   "execution_count": 4,
   "id": "e08e8db4",
   "metadata": {},
   "outputs": [],
   "source": [
    "# Identify boundary finite element set\n",
    "bfes = meshboundary(fes)\n",
    "# In case there are any unconnected nodes, remove them, and renumber the elements.\n",
    "connected = findunconnnodes(fens, fes)\n",
    "fens, new_numbering = compactnodes(fens, connected)\n",
    "fess = renumberconn!(fes, new_numbering)\n",
    "# The geometry and the solution (pressure) fields\n",
    "geom = NodalField(fens.xyz)\n",
    "P = NodalField(zeros(FCplxFlt, size(fens.xyz, 1), 1));"
   ]
  },
  {
   "attachments": {},
   "cell_type": "markdown",
   "id": "7966fc2a",
   "metadata": {},
   "source": [
    "Export domain"
   ]
  },
  {
   "cell_type": "code",
   "execution_count": 5,
   "id": "b150eafb",
   "metadata": {},
   "outputs": [],
   "source": [
    "# Export three VTK files: one for the interior of the fluid, and one for the boundary\n",
    "# vtkexportmesh(\"./vtkFiles/interior.vtk\", fes.conn, fens.xyz, FinEtools.MeshExportModule.VTK.Q4);"
   ]
  },
  {
   "attachments": {},
   "cell_type": "markdown",
   "id": "6ea3ad22",
   "metadata": {},
   "source": [
    "# Discrete model"
   ]
  },
  {
   "attachments": {},
   "cell_type": "markdown",
   "id": "093ebb7b",
   "metadata": {},
   "source": [
    "Setup"
   ]
  },
  {
   "cell_type": "code",
   "execution_count": 6,
   "id": "c694eac4",
   "metadata": {},
   "outputs": [],
   "source": [
    "# Number the degrees of freedom in the pressure field.\n",
    "numberdofs!(P)\n",
    "# Create the finite element machine for the fluid.\n",
    "material = MatAcoustFluid(bulk, rho)\n",
    "femm  =  FEMMAcoust(IntegDomain(fes, GaussRule(3, 2)), material)\n",
    "# Use the machine calculate the acoustic stiffness and mass matrices.\n",
    "S  =  acousticstiffness(femm, geom, P)\n",
    "C  =  acousticmass(femm, geom, P)\n",
    "# \"damping\" matrix for the absorbing boundary conditions (ABCs)\n",
    "D  =  acousticABC(\n",
    "  FEMMAcoustSurf(IntegDomain(bfes, GaussRule(2, 2)), material), geom, P\n",
    ")\n",
    "# node IDs for load positions\n",
    "loadNode = eachindex(fens) |> collect\n",
    "# loadPos = subset(fes, selectelem(fens, fes, withnodes = [2049, 2050, 2075, 2074]))\n",
    "# dipfemm = FEMMAcoustSurf(IntegDomain(loadNode, GaussRule(2, 2)), material)\n",
    "# harmonic point load\n",
    "function pointLoad(dpdn, xyz, J, label, t)::Float64\n",
    "  dpdn[1] = t == dt ? -rho * 0.02 : 0.0\n",
    "end;"
   ]
  },
  {
   "attachments": {},
   "cell_type": "markdown",
   "id": "e72ef753",
   "metadata": {},
   "source": [
    "Point selection"
   ]
  },
  {
   "cell_type": "code",
   "execution_count": 7,
   "id": "208b87d7",
   "metadata": {},
   "outputs": [
    {
     "name": "stdout",
     "output_type": "stream",
     "text": [
      "size(loadID) = (1000,)\n"
     ]
    },
    {
     "name": "stdout",
     "output_type": "stream",
     "text": [
      "size(y) = (1000, 4)\n",
      "HDF5 file contains 1004000 values across 1000000 samples.\n"
     ]
    }
   ],
   "source": [
    "ICamount = 1000 # amound of initial conditions\n",
    "# IDs of load elements (different initial conditions)\n",
    "loadID = (collect(1 : size(fes.conn, 1)) |> shuffle)[1 : ICamount]\n",
    "@show size(loadID)\n",
    "# sensors are chosen as the first node of each load element.\n",
    "# therefore: number of sensors = number of ICs\n",
    "\n",
    "# random points in random instants.\n",
    "# points y for evaluating solution G(u)(y).\n",
    "# inputs to trunk network.\n",
    "# matrix with rows [nodeID x y t]\n",
    "yAmount = 1000\n",
    "# IDs of chosen nodes\n",
    "yNodeID = (collect(1 : size(fens.xyz, 1)) |> shuffle)[1 : yAmount]\n",
    "y = hcat(\n",
    "  yNodeID,\n",
    "  fens.xyz[yNodeID, :],\n",
    "  rand(1:nsteps, yAmount)' |> vec\n",
    ")\n",
    "@show size(y)\n",
    "println(\"HDF5 file contains $(\n",
    "  4 * yAmount + ICamount * yAmount\n",
    ") values across $(ICamount * yAmount) samples.\")"
   ]
  },
  {
   "attachments": {},
   "cell_type": "markdown",
   "id": "a7a05806",
   "metadata": {},
   "source": [
    "Solution"
   ]
  },
  {
   "cell_type": "code",
   "execution_count": 8,
   "id": "38e7a4cd",
   "metadata": {},
   "outputs": [
    {
     "name": "stdout",
     "output_type": "stream",
     "text": [
      "Element 100/1000"
     ]
    },
    {
     "name": "stdout",
     "output_type": "stream",
     "text": [
      "\n",
      "Element 200/1000\n"
     ]
    },
    {
     "name": "stdout",
     "output_type": "stream",
     "text": [
      "Element 300/1000"
     ]
    },
    {
     "name": "stdout",
     "output_type": "stream",
     "text": [
      "\n",
      "Element 400/1000\n"
     ]
    },
    {
     "name": "stdout",
     "output_type": "stream",
     "text": [
      "Element 500/1000\n"
     ]
    },
    {
     "name": "stdout",
     "output_type": "stream",
     "text": [
      "Element 600/1000\n"
     ]
    },
    {
     "name": "stdout",
     "output_type": "stream",
     "text": [
      "Element 700/1000"
     ]
    },
    {
     "name": "stdout",
     "output_type": "stream",
     "text": [
      "\n",
      "Element 800/1000"
     ]
    },
    {
     "name": "stdout",
     "output_type": "stream",
     "text": [
      "\n",
      "Element 900/1000\n"
     ]
    },
    {
     "name": "stdout",
     "output_type": "stream",
     "text": [
      "Element 1000/1000"
     ]
    },
    {
     "name": "stdout",
     "output_type": "stream",
     "text": [
      "\n"
     ]
    }
   ],
   "source": [
    "# \n",
    "data = Dict(\n",
    "  # spatial-temporal points for evaluating G(u). trunk inputs\n",
    "  \"solEvalPoints\" => y,\n",
    "  # G(u)(y). Targets for DeepONet outputs.\n",
    "  # each row refers to an IC case; each column, to a point y\n",
    "  \"solutionValues\" => zeros(Float32, (ICamount, yAmount))\n",
    ")\n",
    "for (count, loadElementID) in enumerate(loadID)\n",
    "  evalPoints = 0\n",
    "  count % 100 == 0 && println(\"Element $count/$ICamount\")\n",
    "  # element to be loaded in current IC\n",
    "  dipfemm = FEMMAcoustSurf(IntegDomain(subset(fes, [loadElementID]), GaussRule(2, 2)), material)\n",
    "  t = 0.0 # Initial time\n",
    "  # Solve the transient acoustics equations.\n",
    "  # The loop executes inside the \"let\" local scope\n",
    "  P1 = let\n",
    "    P0 = deepcopy(P)\n",
    "    P0.values .= 0.0 # initially all pressure is zero\n",
    "    vP0 = gathersysvec(P0)\n",
    "    vQ0 = zeros(eltype(vP0), size(vP0))\n",
    "    # The `P1` field will be the output of this computation:\n",
    "    # the final value of the pressure field\n",
    "    P1 = deepcopy(P0)\n",
    "    fi = ForceIntensity( # Initial load\n",
    "      FCplxFlt, 1, (dpdn, xyz, J, label) -> pointLoad(dpdn, xyz, J, label, t)\n",
    "    )\n",
    "    La0 = distribloads(dipfemm, geom, P1, fi, 2)\n",
    "    A = (2.0 / dt) * S + D + (dt / 2.0) * C\n",
    "    step = 0\n",
    "    while t <= tfinal\n",
    "      step += 1\n",
    "      t += dt\n",
    "      # Update load\n",
    "      fi = ForceIntensity( # Initial load\n",
    "        FCplxFlt, 1, (dpdn, xyz, J, label) -> pointLoad(dpdn, xyz, J, label, t)\n",
    "      )\n",
    "      La1 = distribloads(dipfemm, geom, P1, fi, 2)\n",
    "      # Solve for the rate of the pressure\n",
    "      vQ1 = A \\ ((2 / dt) * (S * vQ0) - D * vQ0 - C * (2 * vP0 + (dt / 2) * vQ0) + La0 + La1)\n",
    "      # Update the value of the pressure\n",
    "      vP1 = vP0 + (dt / 2) * (vQ0 + vQ1)\n",
    "      # Swap variables for next step  \n",
    "      vP0 = deepcopy(vP1); vQ0 = deepcopy(vQ1)\n",
    "      P1 = scattersysvec!(P1, vec(vP1))\n",
    "      P0 = deepcopy(P1); La0 = deepcopy(La1)\n",
    "      # find rows in data[\"solEvalPoints\"] that refer to current timestep\n",
    "      yRows = findall(k -> k[4] == step, eachrow(data[\"solEvalPoints\"]))\n",
    "      evalPoints += length(yRows)\n",
    "      # read pressure values in nodes of interest in current timestep, and\n",
    "      # use those values to populate the row of data[\"solutionValues\"]\n",
    "      # referring to the current IC case\n",
    "      data[\"solutionValues\"][count, yRows] .= (real.(P1.values) |> vec)[Int.(data[\"solEvalPoints\"][yRows, 1])]\n",
    "    end\n",
    "    P1\n",
    "  end\n",
    "end"
   ]
  },
  {
   "attachments": {},
   "cell_type": "markdown",
   "id": "064cb910",
   "metadata": {},
   "source": [
    "# Data"
   ]
  },
  {
   "attachments": {},
   "cell_type": "markdown",
   "id": "7483899c",
   "metadata": {},
   "source": [
    "Normalize"
   ]
  },
  {
   "cell_type": "code",
   "execution_count": 9,
   "id": "94b3d2f1",
   "metadata": {},
   "outputs": [],
   "source": [
    "standardData = copy(data)\n",
    "unitData = copy(data)\n",
    "# standardize\n",
    "standardData[\"solEvalPoints\"] = Float32.(copy(data[\"solEvalPoints\"]))\n",
    "standardData[\"solEvalPoints\"][:, 2:4] = standardize(ZScoreTransform, data[\"solEvalPoints\"][:, 2:4], dims = 1)\n",
    "standardData[\"solutionValues\"] = Float32.(standardize(ZScoreTransform, data[\"solutionValues\"]))\n",
    "# unit normalization\n",
    "unitData[\"solEvalPoints\"] = Float32.(copy(data[\"solEvalPoints\"]))\n",
    "unitData[\"solEvalPoints\"][:, 2:4] = standardize(UnitRangeTransform, data[\"solEvalPoints\"][:, 2:4], dims = 1)\n",
    "unitData[\"solutionValues\"] = Float32.(standardize(UnitRangeTransform, data[\"solutionValues\"]));"
   ]
  },
  {
   "attachments": {},
   "cell_type": "markdown",
   "id": "b754a1c7",
   "metadata": {},
   "source": [
    "Save in HDF5"
   ]
  },
  {
   "cell_type": "code",
   "execution_count": 10,
   "id": "ceafa672",
   "metadata": {},
   "outputs": [],
   "source": [
    "# create files for versions of dataset: raw, standardized, and unit normalized\n",
    "for (source, name) in [(data, \"data\") (standardData, \"standardData\") (unitData, \"unitData\")]\n",
    "  h5open(\"./vtkFiles/$name.h5\", \"w\") do dataFile\n",
    "    for (key, value) in source\n",
    "      dataFile[key] = value\n",
    "    end\n",
    "  end\n",
    "end;"
   ]
  },
  {
   "attachments": {},
   "cell_type": "markdown",
   "id": "b9bd59c3",
   "metadata": {},
   "source": [
    "Summary statistics of file"
   ]
  },
  {
   "cell_type": "code",
   "execution_count": 11,
   "id": "d88b0c98",
   "metadata": {},
   "outputs": [
    {
     "name": "stdout",
     "output_type": "stream",
     "text": [
      "########      data      ########\n"
     ]
    },
    {
     "name": "stdout",
     "output_type": "stream",
     "text": [
      "\n",
      "solEvalPoints\n"
     ]
    },
    {
     "name": "stdout",
     "output_type": "stream",
     "text": [
      "size(d) = (1000, 4)"
     ]
    },
    {
     "name": "stdout",
     "output_type": "stream",
     "text": [
      "\n",
      "Summary Stats:\n",
      "Length:         4000\n",
      "Missing Count:  0\n",
      "Mean:           432.918457\n",
      "Minimum:        0.000000\n",
      "1st Quartile:   2.984783\n",
      "Median:         6.681818\n",
      "3rd Quartile:   133.000000\n",
      "Maximum:        3355.000000\n",
      "Standard deviation: 8.604E2\n",
      "3974/4000 (99.4%) non-zero elements./n\n",
      "\n",
      "solutionValues\n"
     ]
    },
    {
     "name": "stdout",
     "output_type": "stream",
     "text": [
      "size(d) = (1000, 1000)\n"
     ]
    },
    {
     "name": "stdout",
     "output_type": "stream",
     "text": [
      "Summary Stats:\n",
      "Length:         1000000\n",
      "Missing Count:  0\n",
      "Mean:           -0.000000\n",
      "Minimum:        -0.000011\n",
      "1st Quartile:   -0.000000\n",
      "Median:         -0.000000\n",
      "3rd Quartile:   0.000000\n",
      "Maximum:        0.000001\n",
      "Standard deviation: 3.0764E-7\n",
      "938531/1000000 (93.9%) non-zero elements./n\n",
      "\n",
      "########      standardData      ########\n",
      "\n",
      "solEvalPoints\n",
      "size(d) = (1000, 4)\n",
      "Summary Stats:\n",
      "Length:         4000\n",
      "Missing Count:  0\n",
      "Mean:           414.234253\n",
      "Minimum:        -1.965692\n",
      "1st Quartile:   -0.546699\n",
      "Median:         0.506430\n",
      "3rd Quartile:   1.916054\n",
      "Maximum:        3355.000000\n",
      "Standard deviation: 8.6865E2\n",
      "4000/4000 (100.0%) non-zero elements./n\n",
      "\n",
      "solutionValues\n",
      "size(d) = (1000, 1000)"
     ]
    },
    {
     "name": "stdout",
     "output_type": "stream",
     "text": [
      "\n",
      "Summary Stats:\n",
      "Length:         1000000\n",
      "Missing Count:  0\n",
      "Mean:           0.000000\n",
      "Minimum:        -24.877476\n",
      "1st Quartile:   -0.206125\n",
      "Median:         0.406408\n",
      "3rd Quartile:   0.488069\n",
      "Maximum:        3.733751\n",
      "Standard deviation: 9.995E-1\n",
      "1000000/1000000 (100.0%) non-zero elements./n\n",
      "\n",
      "########      unitData      ########\n",
      "\n",
      "solEvalPoints\n",
      "size(d) = (1000, 4)\n",
      "Summary Stats:\n",
      "Length:         4000\n",
      "Missing Count:  0\n",
      "Mean:           414.599640\n",
      "Minimum:        0.000000\n",
      "1st Quartile:   0.333392\n",
      "Median:         0.628571\n",
      "3rd Quartile:   1.250000\n",
      "Maximum:        3355.000000\n",
      "Standard deviation: 8.6847E2\n",
      "3970/4000 (99.2%) non-zero elements./n\n",
      "\n",
      "solutionValues\n",
      "size(d) = (1000, 1000)\n",
      "Summary Stats:\n",
      "Length:         1000000\n",
      "Missing Count:  0\n",
      "Mean:           0.823737\n",
      "Minimum:        0.000000\n",
      "1st Quartile:   0.785687\n",
      "Median:         0.837336\n",
      "3rd Quartile:   0.885045\n",
      "Maximum:        1.000000\n"
     ]
    },
    {
     "name": "stdout",
     "output_type": "stream",
     "text": [
      "Standard deviation: 9.8351E-2\n",
      "998998/1000000 (99.9%) non-zero elements./n\n",
      "\n"
     ]
    }
   ],
   "source": [
    "for name in [\"data\" \"standardData\" \"unitData\"]\n",
    "  println(\"########      $name      ########\")\n",
    "  h5open(\"./vtkFiles/$name.h5\", \"r\") do f\n",
    "    for field in HDF5.get_datasets(f)\n",
    "      println(\"\\n\", HDF5.name(field)[2 : end])\n",
    "      d = HDF5.read(field)\n",
    "      @show size(d)\n",
    "      statsum(d)\n",
    "    end\n",
    "  end\n",
    "  println()\n",
    "end;"
   ]
  }
 ],
 "metadata": {
  "kernelspec": {
   "display_name": "Julia 1.9.0",
   "language": "julia",
   "name": "julia-1.9"
  },
  "language_info": {
   "file_extension": ".jl",
   "mimetype": "application/julia",
   "name": "julia",
   "version": "1.9.0"
  }
 },
 "nbformat": 4,
 "nbformat_minor": 5
}
