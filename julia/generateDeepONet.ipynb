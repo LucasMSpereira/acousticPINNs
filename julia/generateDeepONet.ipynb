{
 "cells": [
  {
   "attachments": {},
   "cell_type": "markdown",
   "id": "c778a125",
   "metadata": {},
   "source": [
    "# Packages"
   ]
  },
  {
   "cell_type": "code",
   "execution_count": 1,
   "id": "1b609df6",
   "metadata": {},
   "outputs": [],
   "source": [
    "using FinEtools, FinEtoolsAcoustics, LinearAlgebra, StatsBase, HDF5, Random\n",
    "cd(desktopPath) # change directory"
   ]
  },
  {
   "attachments": {},
   "cell_type": "markdown",
   "id": "53410bdc",
   "metadata": {},
   "source": [
    "# Initial setup"
   ]
  },
  {
   "cell_type": "code",
   "execution_count": 2,
   "id": "9633257f",
   "metadata": {},
   "outputs": [
    {
     "name": "stdout",
     "output_type": "stream",
     "text": [
      "Step takes 1.333E-4 s\n",
      "Total of 141 steps\n",
      "Final time: 1.867E-2 s\n"
     ]
    }
   ],
   "source": [
    "rho = 1.21 * phun(\"kg/m^3\") # mass density\n",
    "c  = 343.0 * phun(\"m/s\") # sound speed\n",
    "bulk =  c ^ 2 * rho\n",
    "frequency = 500.0 # frequency of the incident wave, Hz\n",
    "omega = 2 * pi * frequency\n",
    "dt = 1.0 / frequency / 15\n",
    "tfinal = 140 * dt\n",
    "nsteps = round(tfinal / dt) + 1\n",
    "println(\"Step takes $(sciNotation(dt, 3)) s\")\n",
    "println(\"Total of $(round(Int, nsteps)) steps\")\n",
    "println(\"Final time: $(sciNotation(tfinal, 3)) s\")"
   ]
  },
  {
   "attachments": {},
   "cell_type": "markdown",
   "id": "cc2a4d2c",
   "metadata": {},
   "source": [
    "# Mesh"
   ]
  },
  {
   "attachments": {},
   "cell_type": "markdown",
   "id": "297db6e9",
   "metadata": {},
   "source": [
    "Geometry"
   ]
  },
  {
   "cell_type": "code",
   "execution_count": 3,
   "id": "7d148536",
   "metadata": {},
   "outputs": [
    {
     "name": "stdout",
     "output_type": "stream",
     "text": [
      "3362 nodes\n",
      "3168 elements\n"
     ]
    }
   ],
   "source": [
    "# list of meshes\n",
    "Meshes = Array{Tuple{FENodeSet, AbstractFESet}, 1}()\n",
    "# Q4 discretization of large rectangular domain divisions\n",
    "push!(Meshes, Q4quadrilateral([0.0 0.0; 1.2 2.6], 10, 26)) # 1\n",
    "push!(Meshes, Q4quadrilateral([0.0 2.6; 1.6 5.45], 13, 30)) # 2\n",
    "push!(Meshes, Q4quadrilateral([1.35 0.0; 4.05 2.6], 25, 24)) # 3\n",
    "push!(Meshes, Q4quadrilateral([1.6 2.6; 4.05 5.8], 23, 34)) # 4\n",
    "push!(Meshes, Q4quadrilateral([4.25 1.2; 5.25 4.5], 10, 35)) # 5\n",
    "push!(Meshes, Q4quadrilateral([4.05 4.5; 5.25 5.3], 12, 9)) # 6\n",
    "push!(Meshes, Q4quadrilateral([4.25 5.3; 5.25 5.85], 10, 4)) # 7\n",
    "push!(Meshes, Q4quadrilateral([5.25 1.2; 7.0 3.92], 22, 29)) # 8\n",
    "# merge meshes\n",
    "fens, outputfes = mergenmeshes(Meshes, 0.05)\n",
    "# concatenate connectivities\n",
    "fes = cat(outputfes[5], cat(outputfes[6], cat(outputfes[7], outputfes[8])))\n",
    "fes = cat(outputfes[1], cat(outputfes[2], cat(outputfes[3], cat(outputfes[4], fes))))\n",
    "println(\"$(size(fens.xyz, 1)) nodes\")\n",
    "println(\"$(size(fes.conn, 1)) elements\")"
   ]
  },
  {
   "attachments": {},
   "cell_type": "markdown",
   "id": "499a3362",
   "metadata": {},
   "source": [
    "Subdomain selection"
   ]
  },
  {
   "cell_type": "code",
   "execution_count": 4,
   "id": "e08e8db4",
   "metadata": {},
   "outputs": [],
   "source": [
    "# Identify boundary finite element set\n",
    "bfes = meshboundary(fes)\n",
    "# In case there are any unconnected nodes, remove them, and renumber the elements.\n",
    "connected = findunconnnodes(fens, fes)\n",
    "fens, new_numbering = compactnodes(fens, connected)\n",
    "fess = renumberconn!(fes, new_numbering)\n",
    "# The geometry and the solution (pressure) fields\n",
    "geom = NodalField(fens.xyz)\n",
    "P = NodalField(zeros(FCplxFlt, size(fens.xyz, 1), 1));"
   ]
  },
  {
   "attachments": {},
   "cell_type": "markdown",
   "id": "7966fc2a",
   "metadata": {},
   "source": [
    "Export domain"
   ]
  },
  {
   "cell_type": "code",
   "execution_count": 5,
   "id": "b150eafb",
   "metadata": {},
   "outputs": [],
   "source": [
    "# Export three VTK files: one for the interior of the fluid, and one for the boundary\n",
    "# vtkexportmesh(\"./vtkFiles/interior.vtk\", fes.conn, fens.xyz, FinEtools.MeshExportModule.VTK.Q4);"
   ]
  },
  {
   "attachments": {},
   "cell_type": "markdown",
   "id": "6ea3ad22",
   "metadata": {},
   "source": [
    "# Discrete model"
   ]
  },
  {
   "attachments": {},
   "cell_type": "markdown",
   "id": "093ebb7b",
   "metadata": {},
   "source": [
    "Setup"
   ]
  },
  {
   "cell_type": "code",
   "execution_count": 6,
   "id": "c694eac4",
   "metadata": {},
   "outputs": [],
   "source": [
    "# Number the degrees of freedom in the pressure field.\n",
    "numberdofs!(P)\n",
    "# Create the finite element machine for the fluid.\n",
    "material = MatAcoustFluid(bulk, rho)\n",
    "femm  =  FEMMAcoust(IntegDomain(fes, GaussRule(3, 2)), material)\n",
    "# Use the machine calculate the acoustic stiffness and mass matrices.\n",
    "S  =  acousticstiffness(femm, geom, P)\n",
    "C  =  acousticmass(femm, geom, P)\n",
    "# \"damping\" matrix for the absorbing boundary conditions (ABCs)\n",
    "D  =  acousticABC(\n",
    "  FEMMAcoustSurf(IntegDomain(bfes, GaussRule(2, 2)), material), geom, P\n",
    ")\n",
    "# node IDs for load positions\n",
    "loadNode = eachindex(fens) |> collect\n",
    "# initial condition as load in nodes of an element\n",
    "function pointLoad(dpdn, xyz, J, label, t)::Float64\n",
    "  dpdn[1] = t == dt ? -rho * 0.02 : 0.0\n",
    "end;"
   ]
  },
  {
   "attachments": {},
   "cell_type": "markdown",
   "id": "e72ef753",
   "metadata": {},
   "source": [
    "Point selection"
   ]
  },
  {
   "cell_type": "code",
   "execution_count": 7,
   "id": "208b87d7",
   "metadata": {},
   "outputs": [
    {
     "name": "stdout",
     "output_type": "stream",
     "text": [
      "size(loadID) = (1000,)\n"
     ]
    },
    {
     "name": "stdout",
     "output_type": "stream",
     "text": [
      "size(y) = (1000, 4)\n",
      "HDF5 file contains 1004000 values across 1000000 samples.\n"
     ]
    }
   ],
   "source": [
    "ICamount = 1000 # amound of initial conditions\n",
    "# IDs of load elements (different initial conditions)\n",
    "loadID = (collect(1 : size(fes.conn, 1)) |> shuffle)[1 : ICamount]\n",
    "@show size(loadID)\n",
    "# sensors are chosen as the first node of each load element.\n",
    "# therefore: number of sensors = number of ICs\n",
    "\n",
    "# random points in random instants.\n",
    "# points y for evaluating solution G(u)(y).\n",
    "# inputs to trunk network.\n",
    "# matrix with rows [nodeID x y t]\n",
    "yAmount = 1000\n",
    "# IDs of chosen nodes\n",
    "yNodeID = (collect(1 : size(fens.xyz, 1)) |> shuffle)[1 : yAmount]\n",
    "y = hcat(\n",
    "  yNodeID,\n",
    "  fens.xyz[yNodeID, :],\n",
    "  rand(1:nsteps, yAmount)' |> vec\n",
    ")\n",
    "@show size(y)\n",
    "println(\"HDF5 file contains $(\n",
    "  4 * yAmount + ICamount * yAmount\n",
    ") values across $(ICamount * yAmount) samples.\")"
   ]
  },
  {
   "attachments": {},
   "cell_type": "markdown",
   "id": "a7a05806",
   "metadata": {},
   "source": [
    "Solution"
   ]
  },
  {
   "cell_type": "code",
   "execution_count": 8,
   "id": "38e7a4cd",
   "metadata": {},
   "outputs": [
    {
     "name": "stdout",
     "output_type": "stream",
     "text": [
      "Element 100/1000"
     ]
    },
    {
     "name": "stdout",
     "output_type": "stream",
     "text": [
      "\n",
      "Element 200/1000\n"
     ]
    },
    {
     "name": "stdout",
     "output_type": "stream",
     "text": [
      "Element 300/1000"
     ]
    },
    {
     "name": "stdout",
     "output_type": "stream",
     "text": [
      "\n",
      "Element 400/1000\n"
     ]
    },
    {
     "name": "stdout",
     "output_type": "stream",
     "text": [
      "Element 500/1000"
     ]
    },
    {
     "name": "stdout",
     "output_type": "stream",
     "text": [
      "\n",
      "Element 600/1000\n"
     ]
    },
    {
     "name": "stdout",
     "output_type": "stream",
     "text": [
      "Element 700/1000\n"
     ]
    },
    {
     "name": "stdout",
     "output_type": "stream",
     "text": [
      "Element 800/1000"
     ]
    },
    {
     "name": "stdout",
     "output_type": "stream",
     "text": [
      "\n",
      "Element 900/1000"
     ]
    },
    {
     "name": "stdout",
     "output_type": "stream",
     "text": [
      "\n",
      "Element 1000/1000\n"
     ]
    }
   ],
   "source": [
    "# dictionary for dataset\n",
    "data = Dict(\n",
    "  # spatial-temporal points for evaluating G(u). trunk inputs\n",
    "  \"solEvalPoints\" => y,\n",
    "  # G(u)(y). Targets for DeepONet outputs.\n",
    "  # each row refers to an IC case; each column, to a point y\n",
    "  \"solsVals\" => zeros(Float32, (ICamount, yAmount))\n",
    ")\n",
    "for (count, loadElementID) in enumerate(loadID)\n",
    "  evalPoints = 0\n",
    "  count % 100 == 0 && println(\"Element $count/$ICamount\")\n",
    "  # element to be loaded in current IC\n",
    "  dipfemm = FEMMAcoustSurf(IntegDomain(subset(fes, [loadElementID]), GaussRule(2, 2)), material)\n",
    "  t = 0.0 # Initial time\n",
    "  # Solve the transient acoustics equations.\n",
    "  # The loop executes inside the \"let\" local scope\n",
    "  P1 = let\n",
    "    P0 = deepcopy(P)\n",
    "    P0.values .= 0.0 # initially all pressure is zero\n",
    "    vP0 = gathersysvec(P0)\n",
    "    vQ0 = zeros(eltype(vP0), size(vP0))\n",
    "    # The `P1` field will be the output of this computation:\n",
    "    # the final value of the pressure field\n",
    "    P1 = deepcopy(P0)\n",
    "    fi = ForceIntensity( # Initial load\n",
    "      FCplxFlt, 1, (dpdn, xyz, J, label) -> pointLoad(dpdn, xyz, J, label, t)\n",
    "    )\n",
    "    La0 = distribloads(dipfemm, geom, P1, fi, 2)\n",
    "    A = (2.0 / dt) * S + D + (dt / 2.0) * C\n",
    "    step = 0\n",
    "    while t <= tfinal\n",
    "      step += 1\n",
    "      t += dt\n",
    "      # Update load\n",
    "      fi = ForceIntensity( # Initial load\n",
    "        FCplxFlt, 1, (dpdn, xyz, J, label) -> pointLoad(dpdn, xyz, J, label, t)\n",
    "      )\n",
    "      La1 = distribloads(dipfemm, geom, P1, fi, 2)\n",
    "      # Solve for the rate of the pressure\n",
    "      vQ1 = A \\ ((2 / dt) * (S * vQ0) - D * vQ0 - C * (2 * vP0 + (dt / 2) * vQ0) + La0 + La1)\n",
    "      # Update the value of the pressure\n",
    "      vP1 = vP0 + (dt / 2) * (vQ0 + vQ1)\n",
    "      # Swap variables for next step  \n",
    "      vP0 = deepcopy(vP1); vQ0 = deepcopy(vQ1)\n",
    "      P1 = scattersysvec!(P1, vec(vP1))\n",
    "      P0 = deepcopy(P1); La0 = deepcopy(La1)\n",
    "      # find rows in data[\"solEvalPoints\"] that refer to current timestep\n",
    "      yRows = findall(k -> k[4] == step, eachrow(data[\"solEvalPoints\"]))\n",
    "      evalPoints += length(yRows)\n",
    "      # read pressure values in nodes of interest in current timestep, and\n",
    "      # use those values to populate the row of data[\"solsVals\"]\n",
    "      # referring to the current IC case\n",
    "      data[\"solsVals\"][count, yRows] .= (real.(P1.values) |> vec)[\n",
    "        Int.(data[\"solEvalPoints\"][yRows, 1])\n",
    "      ]\n",
    "    end\n",
    "    P1\n",
    "  end\n",
    "end"
   ]
  },
  {
   "attachments": {},
   "cell_type": "markdown",
   "id": "064cb910",
   "metadata": {},
   "source": [
    "# Data"
   ]
  },
  {
   "attachments": {},
   "cell_type": "markdown",
   "id": "7483899c",
   "metadata": {},
   "source": [
    "Normalize"
   ]
  },
  {
   "cell_type": "code",
   "execution_count": 17,
   "id": "94b3d2f1",
   "metadata": {},
   "outputs": [
    {
     "data": {
      "text/plain": [
       "1000×1000 Matrix{Float32}:\n",
       " 0.923835  0.925561  0.871387  0.925561  …  0.923087  0.925561  0.878096\n",
       " 0.915112  0.903553  0.925561  0.890351     0.908966  0.91292   0.925561\n",
       " 0.927692  0.925561  0.925562  0.925561     0.922434  0.925561  0.872682\n",
       " 0.906736  0.925867  0.925561  0.923449     0.916719  0.929066  0.925561\n",
       " 0.902041  0.890938  0.925561  0.925052     0.908786  0.904365  0.925561\n",
       " 0.921846  0.925561  0.851825  0.925561  …  0.922842  0.925561  0.89003\n",
       " 0.905627  0.904567  0.925561  0.907457     0.907542  0.917387  0.925561\n",
       " 0.902242  0.892817  0.925561  0.925712     0.900231  0.913861  0.925561\n",
       " 0.923642  0.925561  0.862561  0.925561     0.923428  0.925561  0.879939\n",
       " 0.923767  0.925561  0.862491  0.925561     0.923171  0.925561  0.893707\n",
       " ⋮                                       ⋱                      \n",
       " 0.911332  0.925561  0.925561  0.925564     0.920057  0.888938  0.925561\n",
       " 0.921631  0.925561  0.773514  0.925561     0.923173  0.925561  0.882361\n",
       " 0.90223   0.896031  0.925561  0.904906     0.909278  0.914342  0.925561\n",
       " 0.923257  0.925561  0.881877  0.925561     0.923662  0.925561  0.887557\n",
       " 0.915562  0.893266  0.925561  0.926461  …  0.912311  0.88026   0.925561\n",
       " 0.902376  0.899121  0.925561  0.924151     0.903512  0.914529  0.925561\n",
       " 0.920993  0.925561  0.925526  0.925561     0.922528  0.925561  0.931759\n",
       " 0.904595  0.894218  0.925561  0.898368     0.922535  0.914133  0.925561\n",
       " 0.921     0.925968  0.925561  0.877915     0.900749  0.91756   0.925561"
      ]
     },
     "metadata": {},
     "output_type": "display_data"
    }
   ],
   "source": [
    "standardData = copy(data)\n",
    "unitData = copy(data)\n",
    "# standardize\n",
    "standardData[\"solEvalPoints\"] = Float32.(deepcopy(data[\"solEvalPoints\"][:, 2:4]))\n",
    "standardData[\"solEvalPoints\"] = (\n",
    "  standardData[\"solEvalPoints\"] .- mean(standardData[\"solEvalPoints\"])\n",
    ") ./ std(standardData[\"solEvalPoints\"])\n",
    "standardData[\"solsVals\"] = (data[\"solsVals\"] .- mean(data[\"solsVals\"])) ./ std(data[\"solsVals\"])\n",
    "# unit normalization\n",
    "unitData[\"solEvalPoints\"] = Float32.(deepcopy(data[\"solEvalPoints\"][:, 2:4]))\n",
    "unitData[\"solEvalPoints\"] .-= minimum(unitData[\"solEvalPoints\"])\n",
    "unitData[\"solEvalPoints\"] ./= maximum(unitData[\"solEvalPoints\"])\n",
    "unitData[\"solsVals\"] = data[\"solsVals\"] .- minimum(data[\"solsVals\"])\n",
    "unitData[\"solsVals\"] ./= maximum(unitData[\"solsVals\"]);"
   ]
  },
  {
   "attachments": {},
   "cell_type": "markdown",
   "id": "b754a1c7",
   "metadata": {},
   "source": [
    "Save in HDF5"
   ]
  },
  {
   "cell_type": "code",
   "execution_count": 18,
   "id": "ceafa672",
   "metadata": {},
   "outputs": [],
   "source": [
    "h5open(\"./vtkFiles/DeepONetData.h5\", \"w\") do dataFile\n",
    "  dataFile[\"solEvalPoints\"] = data[\"solEvalPoints\"][:, 2:4]\n",
    "  dataFile[\"solsVals\"] = data[\"solsVals\"]\n",
    "  dataFile[\"standardSolEvalPoints\"] = standardData[\"solEvalPoints\"]\n",
    "  dataFile[\"standardSolsVals\"] = standardData[\"solsVals\"]\n",
    "  dataFile[\"unitSolEvalPoints\"] = unitData[\"solEvalPoints\"]\n",
    "  dataFile[\"unitSolsVals\"] = unitData[\"solsVals\"]\n",
    "  dataFile[\"nodeCoords\"] = Float32.(fens.xyz)\n",
    "  dataFile[\"nodeConnectivity\"] = Base.Iterators.flatten(fes.conn) |> collect\n",
    "  dataFile[\"loadNodeIDs\"] = loadID\n",
    "end;"
   ]
  },
  {
   "attachments": {},
   "cell_type": "markdown",
   "id": "b9bd59c3",
   "metadata": {},
   "source": [
    "Summary statistics of file"
   ]
  },
  {
   "cell_type": "code",
   "execution_count": 19,
   "id": "d88b0c98",
   "metadata": {},
   "outputs": [
    {
     "name": "stdout",
     "output_type": "stream",
     "text": [
      "\n",
      "loadNodeIDs\n",
      "size(d) = (1000,)\n",
      "Summary Stats:\n",
      "Length:         1000\n",
      "Missing Count:  0\n",
      "Mean:           1611.209000\n",
      "Minimum:        2.000000\n",
      "1st Quartile:   818.500000\n",
      "Median:         1603.500000\n",
      "3rd Quartile:   2413.250000\n",
      "Maximum:        3167.000000\n",
      "Standard deviation: 9.2142E2\n",
      "1000/1000 (100.0%) non-zero elements.\n",
      "\n",
      "\n",
      "nodeConnectivity\n",
      "size(d) = (12672,)\n",
      "Summary Stats:\n",
      "Length:         12672\n",
      "Missing Count:  0\n",
      "Mean:           1685.899858\n",
      "Minimum:        1.000000\n",
      "1st Quartile:   864.000000\n",
      "Median:         1681.500000\n",
      "3rd Quartile:   2516.250000\n",
      "Maximum:        3362.000000\n",
      "Standard deviation: 9.6353E2\n",
      "12672/12672 (100.0%) non-zero elements.\n",
      "\n",
      "\n",
      "nodeCoords\n",
      "size(d) = (3362, 2)\n",
      "Summary Stats:\n",
      "Length:         6724\n",
      "Missing Count:  0\n",
      "Mean:           3.136134\n",
      "Minimum:        0.000000\n",
      "1st Quartile:   1.733333\n",
      "Median:         3.075862\n",
      "3rd Quartile:   4.500000\n",
      "Maximum:        7.000000\n",
      "Standard deviation: 1.76E0\n",
      "6630/6724 (98.6%) non-zero elements.\n",
      "\n",
      "\n",
      "solEvalPoints\n",
      "size(d) = (1000, 3)\n",
      "Summary Stats:\n",
      "Length:         3000\n",
      "Missing Count:  0\n",
      "Mean:           25.585436\n",
      "Minimum:        0.000000\n",
      "1st Quartile:   2.452174\n",
      "Median:         4.350000\n",
      "3rd Quartile:   33.000000\n",
      "Maximum:        141.000000\n",
      "Standard deviation: 3.9544E1\n",
      "2976/3000 (99.2%) non-zero elements.\n",
      "\n",
      "\n",
      "solsVals\n",
      "size(d) = (1000, 1000)"
     ]
    },
    {
     "name": "stdout",
     "output_type": "stream",
     "text": [
      "\n",
      "Summary Stats:\n",
      "Length:         1000000\n",
      "Missing Count:  0\n",
      "Mean:           -0.000000\n",
      "Minimum:        -0.000012\n",
      "1st Quartile:   -0.000000\n",
      "Median:         -0.000000\n",
      "3rd Quartile:   0.000000\n",
      "Maximum:        0.000001\n",
      "Standard deviation: 3.0364E-7\n",
      "940712/1000000 (94.1%) non-zero elements.\n",
      "\n",
      "\n",
      "standardSolEvalPoints\n",
      "size(d) = (1000, 3)\n",
      "Summary Stats:\n",
      "Length:         3000\n",
      "Missing Count:  0\n",
      "Mean:           0.000000\n",
      "Minimum:        -0.647015\n",
      "1st Quartile:   -0.585003\n",
      "Median:         -0.537010\n",
      "3rd Quartile:   0.187502\n",
      "Maximum:        2.918649\n",
      "Standard deviation: 1.0E0\n",
      "3000/3000 (100.0%) non-zero elements.\n",
      "\n",
      "\n",
      "standardSolsVals\n",
      "size(d) = (1000, 1000)"
     ]
    },
    {
     "name": "stdout",
     "output_type": "stream",
     "text": [
      "\n",
      "Summary Stats:\n",
      "Length:         1000000\n",
      "Missing Count:  0\n",
      "Mean:           0.000000\n",
      "Minimum:        -37.797806\n",
      "1st Quartile:   -0.257113\n",
      "Median:         0.476192\n",
      "3rd Quartile:   0.476195\n",
      "Maximum:        3.554416\n",
      "Standard deviation: 10.0E-1\n",
      "1000000/1000000 (100.0%) non-zero elements.\n",
      "\n",
      "\n",
      "unitSolEvalPoints\n",
      "size(d) = (1000, 3)\n",
      "Summary Stats:\n",
      "Length:         3000\n",
      "Missing Count:  0\n",
      "Mean:           0.181457\n",
      "Minimum:        0.000000\n",
      "1st Quartile:   0.017391\n",
      "Median:         0.030851\n",
      "3rd Quartile:   0.234043\n",
      "Maximum:        1.000000\n",
      "Standard deviation: 2.8045E-1\n",
      "2976/3000 (99.2%) non-zero elements.\n",
      "\n",
      "\n",
      "unitSolsVals\n",
      "size(d) = (1000, 1000)"
     ]
    },
    {
     "name": "stdout",
     "output_type": "stream",
     "text": [
      "\n",
      "Summary Stats:\n",
      "Length:         1000000\n",
      "Missing Count:  0\n",
      "Mean:           0.914045\n",
      "Minimum:        0.000000\n",
      "1st Quartile:   0.907828\n",
      "Median:         0.925561\n",
      "3rd Quartile:   0.925561\n",
      "Maximum:        1.000000\n",
      "Standard deviation: 2.4182E-2\n",
      "999998/1000000 (100.0%) non-zero elements.\n",
      "\n"
     ]
    }
   ],
   "source": [
    "h5open(\"./vtkFiles/DeepONetData/DeepONetData.h5\", \"r\") do f\n",
    "  for field in HDF5.get_datasets(f)\n",
    "    println(\"\\n\", HDF5.name(field)[2 : end])\n",
    "    d = HDF5.read(field)\n",
    "    @show size(d)\n",
    "    statsum(d)\n",
    "  end\n",
    "end"
   ]
  }
 ],
 "metadata": {
  "kernelspec": {
   "display_name": "Julia 1.9.0",
   "language": "julia",
   "name": "julia-1.9"
  },
  "language_info": {
   "file_extension": ".jl",
   "mimetype": "application/julia",
   "name": "julia",
   "version": "1.9.0"
  }
 },
 "nbformat": 4,
 "nbformat_minor": 5
}
