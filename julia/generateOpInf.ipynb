{
 "cells": [
  {
   "attachments": {},
   "cell_type": "markdown",
   "id": "c778a125",
   "metadata": {},
   "source": [
    "# Packages"
   ]
  },
  {
   "cell_type": "code",
   "execution_count": 1,
   "id": "1b609df6",
   "metadata": {},
   "outputs": [],
   "source": [
    "using FinEtools, FinEtoolsAcoustics, LinearAlgebra, StatsBase, HDF5\n",
    "cd(desktopPath) # change directory"
   ]
  },
  {
   "attachments": {},
   "cell_type": "markdown",
   "id": "53410bdc",
   "metadata": {},
   "source": [
    "# Initial setup"
   ]
  },
  {
   "cell_type": "code",
   "execution_count": 2,
   "id": "9633257f",
   "metadata": {},
   "outputs": [
    {
     "name": "stdout",
     "output_type": "stream",
     "text": [
      "Step takes 2.5E-5 s\n",
      "Total of 1006 steps\n",
      "Final time: 2.512E-2 s\n"
     ]
    }
   ],
   "source": [
    "rho = 1.21 * phun(\"kg/m^3\") # mass density\n",
    "c  = 343.0 * phun(\"m/s\") # sound speed\n",
    "bulk =  c ^ 2 * rho\n",
    "frequency = 500.0 # frequency of the incident wave, Hz\n",
    "omega = 2 * pi * frequency\n",
    "dt = 1.0 / frequency / 80\n",
    "tfinal = 1005 * dt\n",
    "nsteps = round(Int, tfinal / dt) + 1\n",
    "println(\"Step takes $(sciNotation(dt, 3)) s\")\n",
    "println(\"Total of $(round(Int, nsteps)) steps\")\n",
    "println(\"Final time: $(sciNotation(tfinal, 3)) s\")"
   ]
  },
  {
   "attachments": {},
   "cell_type": "markdown",
   "id": "cc2a4d2c",
   "metadata": {},
   "source": [
    "# Mesh"
   ]
  },
  {
   "attachments": {},
   "cell_type": "markdown",
   "id": "297db6e9",
   "metadata": {},
   "source": [
    "Geometry"
   ]
  },
  {
   "cell_type": "code",
   "execution_count": 3,
   "id": "7d148536",
   "metadata": {},
   "outputs": [
    {
     "name": "stdout",
     "output_type": "stream",
     "text": [
      "3362 nodes\n",
      "3168 elements\n",
      "3382172 dataset points (using Q4)\n"
     ]
    }
   ],
   "source": [
    "# list of meshes\n",
    "Meshes = Array{Tuple{FENodeSet, AbstractFESet}, 1}()\n",
    "# Q4 discretization of large rectangular domain divisions\n",
    "push!(Meshes, Q4quadrilateral([0.0 0.0; 1.2 2.6], 10, 26)) # 1\n",
    "push!(Meshes, Q4quadrilateral([0.0 2.6; 1.6 5.45], 13, 30)) # 2\n",
    "push!(Meshes, Q4quadrilateral([1.35 0.0; 4.05 2.6], 25, 24)) # 3\n",
    "push!(Meshes, Q4quadrilateral([1.6 2.6; 4.05 5.8], 23, 34)) # 4\n",
    "push!(Meshes, Q4quadrilateral([4.25 1.2; 5.25 4.5], 10, 35)) # 5\n",
    "push!(Meshes, Q4quadrilateral([4.05 4.5; 5.25 5.3], 12, 9)) # 6\n",
    "push!(Meshes, Q4quadrilateral([4.25 5.3; 5.25 5.85], 10, 4)) # 7\n",
    "push!(Meshes, Q4quadrilateral([5.25 1.2; 7.0 3.92], 22, 29)) # 8\n",
    "# merge meshes\n",
    "fens, outputfes = mergenmeshes(Meshes, 0.05)\n",
    "# concatenate connectivities\n",
    "fes = cat(outputfes[5], cat(outputfes[6], cat(outputfes[7], outputfes[8])))\n",
    "fes = cat(outputfes[1], cat(outputfes[2], cat(outputfes[3], cat(outputfes[4], fes))))\n",
    "println(\"$(size(fens.xyz, 1)) nodes\")\n",
    "println(\"$(size(fes.conn, 1)) elements\")\n",
    "println(\"$(round(Int, size(fens.xyz, 1) * nsteps)) dataset points (using Q4)\")"
   ]
  },
  {
   "attachments": {},
   "cell_type": "markdown",
   "id": "499a3362",
   "metadata": {},
   "source": [
    "Subdomain selection"
   ]
  },
  {
   "cell_type": "code",
   "execution_count": 4,
   "id": "e08e8db4",
   "metadata": {},
   "outputs": [],
   "source": [
    "# Identify boundary finite element set\n",
    "bfes = meshboundary(fes)\n",
    "# In case there are any unconnected nodes, remove them, and renumber the elements.\n",
    "connected = findunconnnodes(fens, fes)\n",
    "fens, new_numbering = compactnodes(fens, connected)\n",
    "fess = renumberconn!(fes, new_numbering)\n",
    "# The geometry and the solution (pressure) fields\n",
    "geom = NodalField(fens.xyz)\n",
    "P = NodalField(zeros(FCplxFlt, size(fens.xyz, 1), 1));"
   ]
  },
  {
   "attachments": {},
   "cell_type": "markdown",
   "id": "7966fc2a",
   "metadata": {},
   "source": [
    "Visualize domain"
   ]
  },
  {
   "cell_type": "code",
   "execution_count": 5,
   "id": "b150eafb",
   "metadata": {},
   "outputs": [],
   "source": [
    "# Export three VTK files: one for the interior of the fluid, and one for the boundary\n",
    "vtkexportmesh(\"interior.vtk\", fes.conn, fens.xyz, FinEtools.MeshExportModule.VTK.Q4);"
   ]
  },
  {
   "attachments": {},
   "cell_type": "markdown",
   "id": "6ea3ad22",
   "metadata": {},
   "source": [
    "# Discrete model"
   ]
  },
  {
   "attachments": {},
   "cell_type": "markdown",
   "id": "093ebb7b",
   "metadata": {},
   "source": [
    "Setup"
   ]
  },
  {
   "cell_type": "code",
   "execution_count": 6,
   "id": "c694eac4",
   "metadata": {},
   "outputs": [],
   "source": [
    "# Number the degrees of freedom in the pressure field.\n",
    "numberdofs!(P)\n",
    "# Create the finite element machine for the fluid.\n",
    "material = MatAcoustFluid(bulk, rho)\n",
    "femm = FEMMAcoust(IntegDomain(fes, GaussRule(3, 2)), material)\n",
    "# Use the machine calculate the acoustic stiffness and mass matrices.\n",
    "S = acousticstiffness(femm, geom, P)\n",
    "C = acousticmass(femm, geom, P)\n",
    "# \"damping\" matrix for the absorbing boundary conditions (ABCs)\n",
    "D = acousticABC(\n",
    "  FEMMAcoustSurf(IntegDomain(bfes, GaussRule(2, 2)), material), geom, P\n",
    ")\n",
    "loadEle = subset(fes, selectelem(fens, fes, withnodes = [1984, 1985, 1961, 1962]))\n",
    "dipfemm = FEMMAcoustSurf(IntegDomain(loadEle, GaussRule(2, 2)), material)\n",
    "# initial condition as load in nodes of an element\n",
    "function pointLoad(dpdn, xyz, J, label, t)::Float64\n",
    "  dpdn[1] = t == dt ? -rho * 0.02 : 0.0\n",
    "end;"
   ]
  },
  {
   "attachments": {},
   "cell_type": "markdown",
   "id": "a7a05806",
   "metadata": {},
   "source": [
    "Solution"
   ]
  },
  {
   "cell_type": "code",
   "execution_count": 7,
   "id": "fb1bcdb2",
   "metadata": {},
   "outputs": [],
   "source": [
    "# Solve the transient acoustics equations.\n",
    "# The loop executes inside this local scope\n",
    "# initialize variable for dataset.\n",
    "# dataset is matrix with pressures value. It has (number of nodes)\n",
    "# rows and (number of timesteps) columns\n",
    "pressureMat = zeros(Float32, (nnodes(P), nsteps))\n",
    "P1 = let\n",
    "  t = 0.0 # Initial time\n",
    "  P0 = deepcopy(P)\n",
    "  P0.values .= 0.0 # initially all pressure is zero\n",
    "  vP0 = gathersysvec(P0)\n",
    "  vQ0 = zeros(eltype(vP0), size(vP0))\n",
    "  # The `P1` field will be the output of this computation:\n",
    "  # the final value of the pressure field\n",
    "  P1 = deepcopy(P0)\n",
    "  fi = ForceIntensity( # Initial load\n",
    "    FCplxFlt, 1, (dpdn, xyz, J, label) -> pointLoad(dpdn, xyz, J, label, t)\n",
    "  )\n",
    "  La0 = distribloads(dipfemm, geom, P1, fi, 2)\n",
    "  A = (2.0 / dt) * S + D + (dt / 2.0) * C\n",
    "  step = 0\n",
    "  while t <= tfinal\n",
    "    step += 1\n",
    "    t += dt\n",
    "    # Update load\n",
    "    fi = ForceIntensity( # Initial load\n",
    "      FCplxFlt, 1, (dpdn, xyz, J, label) -> pointLoad(dpdn, xyz, J, label, t)\n",
    "    )\n",
    "    La1 = distribloads(dipfemm, geom, P1, fi, 2)\n",
    "    # Solve for the rate of the pressure\n",
    "    vQ1 = A \\ ((2 / dt) * (S * vQ0) - D * vQ0 - C * (2 * vP0 + (dt / 2) * vQ0) + La0 + La1)\n",
    "    # Update pressure field\n",
    "    vP1 = vP0 + (dt / 2) * (vQ0 + vQ1)\n",
    "    # Swap variables for next step  \n",
    "    vP0 = deepcopy(vP1)\n",
    "    vQ0 = deepcopy(vQ1)\n",
    "    P1 = scattersysvec!(P1, vec(vP1))\n",
    "    P0 = deepcopy(P1)\n",
    "    La0 = deepcopy(La1)\n",
    "    # include current pressure field in dataset.\n",
    "    global pressureMat[:, step] .= real.(P1.values)\n",
    "  end\n",
    "  P1 # Return the final pressure\n",
    "end;"
   ]
  },
  {
   "attachments": {},
   "cell_type": "markdown",
   "id": "051c6849",
   "metadata": {},
   "source": [
    "Export pressure fields"
   ]
  },
  {
   "cell_type": "code",
   "execution_count": 8,
   "id": "46717ee3",
   "metadata": {},
   "outputs": [],
   "source": [
    "# create folder and save vtk files with\n",
    "# pressure fields in all steps\n",
    "randomFolderName = rand(0:9999999)\n",
    "mkpath(\"./vtkFiles/$randomFolderName\")\n",
    "for fileID in axes(pressureMat, 2)\n",
    "  vtkexportmesh(\n",
    "    \"./vtkFiles/$randomFolderName/$randomFolderName-$fileID.vtk\",\n",
    "    fes.conn, geom.values, FinEtools.MeshExportModule.VTK.Q4;\n",
    "    scalars = [( \"pressure\", pressureMat[:, fileID] |> vec)]\n",
    "  )\n",
    "end;"
   ]
  },
  {
   "attachments": {},
   "cell_type": "markdown",
   "id": "064cb910",
   "metadata": {},
   "source": [
    "# Data"
   ]
  },
  {
   "attachments": {},
   "cell_type": "markdown",
   "id": "534e2516",
   "metadata": {},
   "source": [
    "Summary statistics"
   ]
  },
  {
   "cell_type": "code",
   "execution_count": 9,
   "id": "cc7f9a58",
   "metadata": {},
   "outputs": [
    {
     "name": "stdout",
     "output_type": "stream",
     "text": [
      "Summary Stats:\n",
      "Length:         3382172\n",
      "Missing Count:  0\n",
      "Mean:           -0.000000\n",
      "Minimum:        -0.000002\n",
      "1st Quartile:   -0.000000\n",
      "Median:         -0.000000\n",
      "3rd Quartile:   -0.000000\n",
      "Maximum:        0.000000\n",
      "Standard deviation: 4.8653E-8\n",
      "3374790/3382172 (99.8%) non-zero elements.\n",
      "\n"
     ]
    }
   ],
   "source": [
    "statsum(pressureMat)"
   ]
  },
  {
   "attachments": {},
   "cell_type": "markdown",
   "id": "7483899c",
   "metadata": {},
   "source": [
    "Normalize"
   ]
  },
  {
   "cell_type": "code",
   "execution_count": 10,
   "id": "94b3d2f1",
   "metadata": {},
   "outputs": [],
   "source": [
    "# standardize\n",
    "standardData = (pressureMat .- mean(pressureMat)) ./ std(pressureMat)\n",
    "# unit normalization\n",
    "unitData = pressureMat .- minimum(pressureMat)\n",
    "unitData = unitData ./ maximum(unitData);"
   ]
  },
  {
   "attachments": {},
   "cell_type": "markdown",
   "id": "f65d5907",
   "metadata": {},
   "source": [
    "Check normalizations with summary statistics"
   ]
  },
  {
   "cell_type": "code",
   "execution_count": 11,
   "id": "03ed8d26",
   "metadata": {},
   "outputs": [
    {
     "name": "stdout",
     "output_type": "stream",
     "text": [
      "Standardization\n"
     ]
    },
    {
     "name": "stdout",
     "output_type": "stream",
     "text": [
      "\n",
      "Summary Stats:\n",
      "Length:         3382172\n",
      "Missing Count:  0\n",
      "Mean:           0.000000\n",
      "Minimum:        -42.340023\n",
      "1st Quartile:   -0.225567\n",
      "Median:         0.132616\n",
      "3rd Quartile:   0.564643\n",
      "Maximum:        6.775985\n",
      "Standard deviation: 1.0E0\n",
      "3382172/3382172 (100.0%) non-zero elements.\n",
      "\n",
      "Unit normalization\n"
     ]
    },
    {
     "name": "stdout",
     "output_type": "stream",
     "text": [
      "\n",
      "Summary Stats:\n",
      "Length:         3382172\n",
      "Missing Count:  0\n",
      "Mean:           0.862041\n",
      "Minimum:        0.000000\n",
      "1st Quartile:   0.857449\n",
      "Median:         0.864741\n",
      "3rd Quartile:   0.873537\n",
      "Maximum:        1.000000\n",
      "Standard deviation: 2.036E-2\n",
      "3382171/3382172 (100.0%) non-zero elements.\n",
      "\n"
     ]
    }
   ],
   "source": [
    "println(\"Standardization\\n\")\n",
    "statsum(standardData)\n",
    "println(\"Unit normalization\\n\")\n",
    "statsum(unitData)"
   ]
  },
  {
   "attachments": {},
   "cell_type": "markdown",
   "id": "b754a1c7",
   "metadata": {},
   "source": [
    "Save in HDF5"
   ]
  },
  {
   "cell_type": "code",
   "execution_count": 14,
   "id": "492c7c6b",
   "metadata": {},
   "outputs": [
    {
     "ename": "ArgumentError",
     "evalue": "ArgumentError: Package Iterators not found in current path, maybe you meant `import/using .Iterators`.\n- Otherwise, run `import Pkg; Pkg.add(\"Iterators\")` to install the Iterators package.",
     "output_type": "error",
     "traceback": [
      "ArgumentError: Package Iterators not found in current path, maybe you meant `import/using .Iterators`.\n",
      "- Otherwise, run `import Pkg; Pkg.add(\"Iterators\")` to install the Iterators package.\n",
      "\n",
      "Stacktrace:\n",
      "  [1] macro expansion\n",
      "    @ .\\loading.jl:1595 [inlined]\n",
      "  [2] macro expansion\n",
      "    @ .\\lock.jl:267 [inlined]\n",
      "  [3] require(into::Module, mod::Symbol)\n",
      "    @ Base .\\loading.jl:1576\n",
      "  [4] eval\n",
      "    @ .\\boot.jl:370 [inlined]\n",
      "  [5] include_string(mapexpr::typeof(REPL.softscope), mod::Module, code::String, filename::String)\n",
      "    @ Base .\\loading.jl:1864\n",
      "  [6] #invokelatest#2\n",
      "    @ .\\essentials.jl:816 [inlined]\n",
      "  [7] invokelatest\n",
      "    @ .\\essentials.jl:813 [inlined]\n",
      "  [8] (::VSCodeServer.var\"#198#199\"{VSCodeServer.NotebookRunCellArguments, String})()\n",
      "    @ VSCodeServer c:\\Users\\kaoid\\.vscode\\extensions\\julialang.language-julia-1.47.2\\scripts\\packages\\VSCodeServer\\src\\serve_notebook.jl:19\n",
      "  [9] withpath(f::VSCodeServer.var\"#198#199\"{VSCodeServer.NotebookRunCellArguments, String}, path::String)\n",
      "    @ VSCodeServer c:\\Users\\kaoid\\.vscode\\extensions\\julialang.language-julia-1.47.2\\scripts\\packages\\VSCodeServer\\src\\repl.jl:249\n",
      " [10] notebook_runcell_request(conn::VSCodeServer.JSONRPC.JSONRPCEndpoint{Base.PipeEndpoint, Base.PipeEndpoint}, params::VSCodeServer.NotebookRunCellArguments)\n",
      "    @ VSCodeServer c:\\Users\\kaoid\\.vscode\\extensions\\julialang.language-julia-1.47.2\\scripts\\packages\\VSCodeServer\\src\\serve_notebook.jl:13\n",
      " [11] dispatch_msg(x::VSCodeServer.JSONRPC.JSONRPCEndpoint{Base.PipeEndpoint, Base.PipeEndpoint}, dispatcher::VSCodeServer.JSONRPC.MsgDispatcher, msg::Dict{String, Any})\n",
      "    @ VSCodeServer.JSONRPC c:\\Users\\kaoid\\.vscode\\extensions\\julialang.language-julia-1.47.2\\scripts\\packages\\JSONRPC\\src\\typed.jl:67\n",
      " [12] serve_notebook(pipename::String, outputchannel_logger::Base.CoreLogging.SimpleLogger; crashreporting_pipename::String)\n",
      "    @ VSCodeServer c:\\Users\\kaoid\\.vscode\\extensions\\julialang.language-julia-1.47.2\\scripts\\packages\\VSCodeServer\\src\\serve_notebook.jl:139\n",
      " [13] top-level scope\n",
      "    @ c:\\Users\\kaoid\\.vscode\\extensions\\julialang.language-julia-1.47.2\\scripts\\notebook\\notebook.jl:32"
     ]
    }
   ],
   "source": [
    "using Iterators\n",
    "Iterators.flatten(fes.conn)"
   ]
  },
  {
   "cell_type": "code",
   "execution_count": 12,
   "id": "ceafa672",
   "metadata": {},
   "outputs": [
    {
     "ename": "MethodError",
     "evalue": "MethodError: no method matching datatype(::Vector{NTuple{4, Int64}})\n\nClosest candidates are:\n  datatype(!Matched::Union{Bool, Float32, Float64, Int16, Int32, Int64, Int8, UInt16, UInt32, UInt64, UInt8, HDF5.Reference})\n   @ HDF5 C:\\Users\\kaoid\\.julia\\packages\\HDF5\\pIJra\\src\\HDF5.jl:995\n  datatype(!Matched::Type{T}) where T<:Union{Bool, Float32, Float64, Int16, Int32, Int64, Int8, UInt16, UInt32, UInt64, UInt8, HDF5.Reference}\n   @ HDF5 C:\\Users\\kaoid\\.julia\\packages\\HDF5\\pIJra\\src\\HDF5.jl:996\n  datatype(!Matched::Type{Complex{T}}) where T<:Union{Bool, Float32, Float64, Int16, Int32, Int64, Int8, UInt16, UInt32, UInt64, UInt8, HDF5.Reference}\n   @ HDF5 C:\\Users\\kaoid\\.julia\\packages\\HDF5\\pIJra\\src\\HDF5.jl:998\n  ...\n",
     "output_type": "error",
     "traceback": [
      "MethodError: no method matching datatype(::Vector{NTuple{4, Int64}})\n",
      "\n",
      "Closest candidates are:\n",
      "  datatype(!Matched::Union{Bool, Float32, Float64, Int16, Int32, Int64, Int8, UInt16, UInt32, UInt64, UInt8, HDF5.Reference})\n",
      "   @ HDF5 C:\\Users\\kaoid\\.julia\\packages\\HDF5\\pIJra\\src\\HDF5.jl:995\n",
      "  datatype(!Matched::Type{T}) where T<:Union{Bool, Float32, Float64, Int16, Int32, Int64, Int8, UInt16, UInt32, UInt64, UInt8, HDF5.Reference}\n",
      "   @ HDF5 C:\\Users\\kaoid\\.julia\\packages\\HDF5\\pIJra\\src\\HDF5.jl:996\n",
      "  datatype(!Matched::Type{Complex{T}}) where T<:Union{Bool, Float32, Float64, Int16, Int32, Int64, Int8, UInt16, UInt32, UInt64, UInt8, HDF5.Reference}\n",
      "   @ HDF5 C:\\Users\\kaoid\\.julia\\packages\\HDF5\\pIJra\\src\\HDF5.jl:998\n",
      "  ...\n",
      "\n",
      "\n",
      "Stacktrace:\n",
      "  [1] create_dataset(parent::HDF5.File, name::String, data::Vector{NTuple{4, Int64}}; pv::Base.Pairs{Symbol, Union{}, Tuple{}, NamedTuple{(), Tuple{}}})\n",
      "    @ HDF5 C:\\Users\\kaoid\\.julia\\packages\\HDF5\\pIJra\\src\\HDF5.jl:1527\n",
      "  [2] create_dataset(parent::HDF5.File, name::String, data::Vector{NTuple{4, Int64}})\n",
      "    @ HDF5 C:\\Users\\kaoid\\.julia\\packages\\HDF5\\pIJra\\src\\HDF5.jl:1526\n",
      "  [3] write_dataset(parent::HDF5.File, name::String, data::Vector{NTuple{4, Int64}}; pv::Base.Pairs{Symbol, Union{}, Tuple{}, NamedTuple{(), Tuple{}}})\n",
      "    @ HDF5 C:\\Users\\kaoid\\.julia\\packages\\HDF5\\pIJra\\src\\HDF5.jl:1549\n",
      "  [4] write_dataset(parent::HDF5.File, name::String, data::Vector{NTuple{4, Int64}})\n",
      "    @ HDF5 C:\\Users\\kaoid\\.julia\\packages\\HDF5\\pIJra\\src\\HDF5.jl:1548\n",
      "  [5] write(parent::HDF5.File, name::String, data::Vector{NTuple{4, Int64}}; pv::Base.Pairs{Symbol, Union{}, Tuple{}, NamedTuple{(), Tuple{}}})\n",
      "    @ HDF5 C:\\Users\\kaoid\\.julia\\packages\\HDF5\\pIJra\\src\\HDF5.jl:1594\n",
      "  [6] write(parent::HDF5.File, name::String, data::Vector{NTuple{4, Int64}})\n",
      "    @ HDF5 C:\\Users\\kaoid\\.julia\\packages\\HDF5\\pIJra\\src\\HDF5.jl:1594\n",
      "  [7] setindex!(parent::HDF5.File, val::Vector{NTuple{4, Int64}}, path::String; pv::Base.Pairs{Symbol, Union{}, Tuple{}, NamedTuple{(), Tuple{}}})\n",
      "    @ HDF5 C:\\Users\\kaoid\\.julia\\packages\\HDF5\\pIJra\\src\\HDF5.jl:906\n",
      "  [8] setindex!(parent::HDF5.File, val::Vector{NTuple{4, Int64}}, path::String)\n",
      "    @ HDF5 C:\\Users\\kaoid\\.julia\\packages\\HDF5\\pIJra\\src\\HDF5.jl:891\n",
      "  [9] (::var\"#22#23\")(dataFile::HDF5.File)\n",
      "    @ Main c:\\Users\\kaoid\\My Drive\\Estudo\\Poli\\Disciplinas\\PINNs\\acousticPINNs\\julia\\generateOpInf.ipynb:7\n",
      " [10] h5open(::var\"#22#23\", ::String, ::Vararg{String}; swmr::Bool, pv::Base.Pairs{Symbol, Union{}, Tuple{}, NamedTuple{(), Tuple{}}})\n",
      "    @ HDF5 C:\\Users\\kaoid\\.julia\\packages\\HDF5\\pIJra\\src\\HDF5.jl:458\n",
      " [11] h5open(::Function, ::String, ::String)\n",
      "    @ HDF5 C:\\Users\\kaoid\\.julia\\packages\\HDF5\\pIJra\\src\\HDF5.jl:455\n",
      " [12] top-level scope\n",
      "    @ c:\\Users\\kaoid\\My Drive\\Estudo\\Poli\\Disciplinas\\PINNs\\acousticPINNs\\julia\\generateOpInf.ipynb:2"
     ]
    }
   ],
   "source": [
    "# create dataset file\n",
    "h5open(\"./vtkFiles/OpInfData/OpInfData.h5\", \"w\") do dataFile\n",
    "  dataFile[\"OpInfData\"] = pressureMat\n",
    "  dataFile[\"standardData\"] = standardData\n",
    "  dataFile[\"unitData\"] = unitData\n",
    "  dataFile[\"nodeCoords\"] = fens.xyz\n",
    "  dataFile[\"nodeConnectivity\"] = fes.conn\n",
    "end;"
   ]
  },
  {
   "attachments": {},
   "cell_type": "markdown",
   "id": "b9bd59c3",
   "metadata": {},
   "source": [
    "Summary statistics to check data file"
   ]
  },
  {
   "cell_type": "code",
   "execution_count": 13,
   "id": "d88b0c98",
   "metadata": {},
   "outputs": [
    {
     "name": "stdout",
     "output_type": "stream",
     "text": [
      "(HDF5.name(field))[2:end] = \"OpInfData\""
     ]
    },
    {
     "name": "stdout",
     "output_type": "stream",
     "text": [
      "\n",
      "size (3362, 1006)"
     ]
    },
    {
     "name": "stdout",
     "output_type": "stream",
     "text": [
      "\n",
      "Summary Stats:\n",
      "Length:         3382172\n",
      "Missing Count:  0\n",
      "Mean:           -0.000000\n",
      "Minimum:        -0.000002\n",
      "1st Quartile:   -0.000000\n",
      "Median:         -0.000000\n",
      "3rd Quartile:   -0.000000\n",
      "Maximum:        0.000000\n",
      "Standard deviation: 4.8653E-8\n",
      "3374790/3382172 (99.8%) non-zero elements.\n",
      "\n",
      "(HDF5.name(field))[2:end] = \"nodeCoords\"\n",
      "size (3362, 2)\n"
     ]
    },
    {
     "name": "stdout",
     "output_type": "stream",
     "text": [
      "Summary Stats:\n",
      "Length:         6724\n",
      "Missing Count:  0\n",
      "Mean:           3.136134\n",
      "Minimum:        0.000000\n",
      "1st Quartile:   1.733333\n",
      "Median:         3.075862\n",
      "3rd Quartile:   4.500000\n",
      "Maximum:        7.000000\n",
      "Standard deviation: 1.76E0\n",
      "6630/6724 (98.6%) non-zero elements.\n",
      "\n",
      "(HDF5.name(field))[2:end] = \"standardData\"\n",
      "size (3362, 1006)\n"
     ]
    },
    {
     "name": "stdout",
     "output_type": "stream",
     "text": [
      "Summary Stats:\n",
      "Length:         3382172\n",
      "Missing Count:  0\n",
      "Mean:           0.000000\n",
      "Minimum:        -42.340023\n",
      "1st Quartile:   -0.225567\n",
      "Median:         0.132616\n",
      "3rd Quartile:   0.564643\n",
      "Maximum:        6.775985\n",
      "Standard deviation: 1.0E0\n",
      "3382172/3382172 (100.0%) non-zero elements.\n",
      "\n",
      "(HDF5.name(field))[2:end] = \"unitData\"\n",
      "size (3362, 1006)\n"
     ]
    },
    {
     "name": "stdout",
     "output_type": "stream",
     "text": [
      "Summary Stats:\n",
      "Length:         3382172\n",
      "Missing Count:  0\n",
      "Mean:           0.862041\n",
      "Minimum:        0.000000\n",
      "1st Quartile:   0.857449\n",
      "Median:         0.864741\n",
      "3rd Quartile:   0.873537\n",
      "Maximum:        1.000000\n",
      "Standard deviation: 2.036E-2\n",
      "3382171/3382172 (100.0%) non-zero elements.\n",
      "\n"
     ]
    }
   ],
   "source": [
    "h5open(\"./vtkFiles/OpInfData/OpInfData.h5\", \"r\") do f\n",
    "  for field in HDF5.get_datasets(f)\n",
    "    @show HDF5.name(field)[2 : end]\n",
    "    d = HDF5.read(field)\n",
    "    println(\"size $(size(d))\")\n",
    "    statsum(d)\n",
    "  end\n",
    "end"
   ]
  }
 ],
 "metadata": {
  "kernelspec": {
   "display_name": "Julia 1.9.0",
   "language": "julia",
   "name": "julia-1.9"
  },
  "language_info": {
   "file_extension": ".jl",
   "mimetype": "application/julia",
   "name": "julia",
   "version": "1.9.0"
  }
 },
 "nbformat": 4,
 "nbformat_minor": 5
}
