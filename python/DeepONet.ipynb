{
 "cells": [
  {
   "attachments": {},
   "cell_type": "markdown",
   "metadata": {},
   "source": [
    "### Packages"
   ]
  },
  {
   "cell_type": "code",
   "execution_count": 18,
   "metadata": {},
   "outputs": [],
   "source": [
    "import torch\n",
    "from torch import nn\n",
    "import torch.nn.functional as F\n",
    "import numpy as np\n",
    "import h5py\n",
    "import vtk\n",
    "from datetime import datetime\n",
    "import warnings\n",
    "import matplotlib.pyplot as plt\n",
    "import os\n",
    "if os.path.split(os.getcwd())[-1] == \"python\":\n",
    "    os.chdir(os.path.split(os.getcwd())[0]) # change directory"
   ]
  },
  {
   "attachments": {},
   "cell_type": "markdown",
   "metadata": {},
   "source": [
    "### Read data"
   ]
  },
  {
   "cell_type": "code",
   "execution_count": 19,
   "metadata": {},
   "outputs": [
    {
     "name": "stdout",
     "output_type": "stream",
     "text": [
      "(3, 1000)\n",
      "torch.Size([1000, 3])\n",
      "torch.Size([1000, 1000])\n",
      "(2, 3362)\n",
      "(12672,)\n"
     ]
    }
   ],
   "source": [
    "with h5py.File(\".\\\\dataset\\\\DeepONet\\\\DeepONetData.h5\", 'r') as f:\n",
    "  sep = np.array(f[\"solEvalPoints\"], dtype = np.float32)\n",
    "  # IDs of nodes used for initial condition loading\n",
    "  loadNodeID = np.array(f[\"loadNodeIDs\"], dtype = np.int32)\n",
    "  with warnings.catch_warnings():\n",
    "    warnings.filterwarnings('ignore')\n",
    "    # [x y t] of y points (trunk inputs).\n",
    "    # matrix with columns [x y t]\n",
    "    solEvalPoint = torch.tensor(f[\"unitSolEvalPoints\"]).T\n",
    "    # DeepONet output targets (G(u)(y)) for all initial conditions\n",
    "    # matrix with 'initial condition' rows and 'y point' columns\n",
    "    solutionValue = torch.tensor(f[\"unitSolsVals\"]).T\n",
    "  # node coordinates. 2 x 'number of nodes' matrix.\n",
    "  # first row is x; second, y\n",
    "  nodeCoord = np.array(f[\"nodeCoords\"], dtype = np.float32)\n",
    "  # mesh connectivity of nodes\n",
    "  nodeConn = np.array(f[\"nodeConnectivity\"], dtype = np.int32) - 1\n",
    "print(sep.shape)\n",
    "print(solEvalPoint.shape)\n",
    "print(solutionValue.shape)\n",
    "print(nodeCoord.shape)\n",
    "print(nodeConn.shape)"
   ]
  },
  {
   "attachments": {},
   "cell_type": "markdown",
   "metadata": {},
   "source": [
    "### Data parameters"
   ]
  },
  {
   "cell_type": "code",
   "execution_count": 3,
   "metadata": {},
   "outputs": [
    {
     "name": "stdout",
     "output_type": "stream",
     "text": [
      "Dataset contains 1_000_000 samples.\n"
     ]
    }
   ],
   "source": [
    "# number of sensors is equal to number of cases\n",
    "nCase = solutionValue.shape[0]\n",
    "nSensor = solutionValue.shape[0]\n",
    "# value of concentrated load as initial condition\n",
    "load = torch.tensor(-1.21 * 0.02).to(torch.float32)\n",
    "evalAmount = solEvalPoint.shape[0] # number of y points (trunk inputs)\n",
    "nSample = torch.numel(solutionValue) # amount of samples in dataset\n",
    "print(\"Dataset contains {:_} samples.\".format(nSample))"
   ]
  },
  {
   "attachments": {},
   "cell_type": "markdown",
   "metadata": {},
   "source": [
    "### Organize data"
   ]
  },
  {
   "cell_type": "code",
   "execution_count": 4,
   "metadata": {},
   "outputs": [],
   "source": [
    "class acoustDataset(torch.utils.data.Dataset):\n",
    "    \"\"\"Dataset subclass to organize data\"\"\"\n",
    "    def __init__(self, evalPoint: torch.tensor, solVal: torch.tensor) -> None:\n",
    "        super(acoustDataset, self).__init__()\n",
    "        self.trunkInput = evalPoint\n",
    "        # target for model output\n",
    "        self.target = torch.flatten(solVal)\n",
    "    \n",
    "    def __getitem__(self, idx):\n",
    "        \"\"\"Overwrite method to fetch sample\"\"\"\n",
    "        # branch input load value at specific sensor. 0 everywhere else\n",
    "        branchInput = torch.zeros(nSensor, dtype = torch.float32)\n",
    "        branchInput[idx - (idx // nCase) * nCase] = load\n",
    "        # index to access tensor with coordinates of evaluation point (trunk inputs)\n",
    "        i = idx - (idx // evalAmount) * evalAmount\n",
    "        trunkIn = [\n",
    "            self.trunkInput[i, s].unsqueeze(0) for s in range(3)\n",
    "        ]\n",
    "        # sample has (case evaluation at sensors, x, y, t, G(u)(y))\n",
    "        return branchInput, *trunkIn, self.target[idx].unsqueeze(0)\n",
    "    \n",
    "    def __len__(self):\n",
    "        \"\"\"Overwrite method to return size of dataset\"\"\"\n",
    "        return torch.numel(self.target)"
   ]
  },
  {
   "cell_type": "code",
   "execution_count": 5,
   "metadata": {},
   "outputs": [
    {
     "name": "stdout",
     "output_type": "stream",
     "text": [
      "Batch shapes:\n",
      "  branch network inputs: torch.Size([256, 1000])\n",
      "  trunk network inputs:\n",
      "    x torch.Size([256, 1])\n",
      "    y torch.Size([256, 1])\n",
      "    t torch.Size([256, 1])\n",
      "  model output targets: torch.Size([256, 1])\n"
     ]
    }
   ],
   "source": [
    "dataloader = torch.utils.data.DataLoader(acoustDataset(solEvalPoint, solutionValue),\n",
    "    batch_size = 256, shuffle = True, num_workers = 0\n",
    ")\n",
    "branchBatch, xBatch, yBatch, tBatch, targetBatch = next(iter(dataloader))\n",
    "print(f\"\"\"Batch shapes:\n",
    "  branch network inputs: {branchBatch.shape}\n",
    "  trunk network inputs:\n",
    "    x {xBatch.shape}\n",
    "    y {yBatch.shape}\n",
    "    t {tBatch.shape}\n",
    "  model output targets: {targetBatch.shape}\"\"\")"
   ]
  },
  {
   "attachments": {},
   "cell_type": "markdown",
   "metadata": {},
   "source": [
    "### ML parameters"
   ]
  },
  {
   "cell_type": "code",
   "execution_count": 6,
   "metadata": {},
   "outputs": [],
   "source": [
    "branchDepth = 7 # number of layers in branch network (MLP architecture)\n",
    "branchWidth = 100 # number of neurons in layers of branch network (MLP architecture)\n",
    "trunkDepth = 7 # number of layers in trunk network (MLP architecture)\n",
    "trunkWidth = 100 # number of neurons in layers of trunk network (MLP architecture)\n",
    "networkOutputDim = 100 # dimension of outputs of networks"
   ]
  },
  {
   "attachments": {},
   "cell_type": "markdown",
   "metadata": {},
   "source": [
    "### Setup model"
   ]
  },
  {
   "cell_type": "code",
   "execution_count": 7,
   "metadata": {},
   "outputs": [
    {
     "name": "stdout",
     "output_type": "stream",
     "text": [
      "Branch - batched input torch.Size([256, 1000]) -> output: torch.Size([256, 100]).\n",
      "Trunk - batched input (torch.Size([256, 1]), torch.Size([256, 1]), torch.Size([256, 1])) -> output: torch.Size([256, 100]).\n",
      "Batch PI-DeepONet output shape: torch.Size([256, 1])\n"
     ]
    }
   ],
   "source": [
    "class branchNet(nn.Module):\n",
    "    \"\"\"Branch network definition\"\"\"\n",
    "    def __init__(self, inDim: int, nnDepth: int, nnWidth: int):\n",
    "        super().__init__()\n",
    "        # Input layer. Resizes input to desired network width\n",
    "        self.inputLayer = nn.Linear(inDim, nnWidth)\n",
    "        # intermediate dense layers. constant dimension\n",
    "        self.MLPstack = nn.ModuleList([nn.Linear(nnWidth, nnWidth) for _ in range(nnDepth - 2)])\n",
    "        # output layer. resizes network intermediate representation to networkOutputDim\n",
    "        self.outputLayer = nn.Linear(nnWidth, networkOutputDim)\n",
    "\n",
    "    def forward(self, x): # forward pass\n",
    "        x = F.leaky_relu(self.inputLayer(x))\n",
    "        for l in self.MLPstack:\n",
    "            x = F.leaky_relu(l(x))\n",
    "        return self.outputLayer(x)\n",
    "    \n",
    "class trunkNet(nn.Module):\n",
    "    \"\"\"Trunk network definition\"\"\"\n",
    "    def __init__(self, nnDepth: int, nnWidth: int):\n",
    "        super().__init__()\n",
    "        # Input layer. Resizes input to desired network width.\n",
    "        # Consider trunk network as receiving individual inputs\n",
    "        # for each dimension (x, y, t)\n",
    "        self.xCoord = nn.Linear(1, nnWidth)\n",
    "        self.yCoord = nn.Linear(1, nnWidth)\n",
    "        self.tCoord = nn.Linear(1, nnWidth)\n",
    "        # intermediate dense layers. constant dimension\n",
    "        self.MLPstack = nn.ModuleList([nn.Linear(nnWidth, nnWidth) for _ in range(nnDepth - 2)])\n",
    "        # output layer. resizes network intermediate representation to networkOutputDim\n",
    "        self.outputLayer = nn.Linear(nnWidth, networkOutputDim)\n",
    "\n",
    "    def forward(self, x, y, t): # forward pass\n",
    "        x = F.leaky_relu(self.xCoord(x))\n",
    "        y = F.leaky_relu(self.yCoord(y))\n",
    "        t = F.leaky_relu(self.tCoord(t))\n",
    "        o = x + y + t\n",
    "        for l in self.MLPstack:\n",
    "            o = F.leaky_relu(l(o))\n",
    "        return self.outputLayer(o)\n",
    "    \n",
    "# Branch network. Embeds evaluations of the input functions 'u' at sensors\n",
    "branchNetwork = branchNet(nSensor, branchDepth, branchWidth)\n",
    "branchOut = branchNetwork(branchBatch)\n",
    "# Trunk network. Embeds spatiotemporal coordinates (x, y, t) of\n",
    "# point y, in which the PDE solution (G(u)(y)) is evaluated\n",
    "trunkNetwork = trunkNet(trunkDepth, trunkWidth)\n",
    "trunkOut = trunkNetwork(xBatch, yBatch, tBatch)\n",
    "# Shapes of outputs of networks\n",
    "print(f\"\"\"Branch - batched input {branchBatch.shape} -> output: {branchOut.shape}.\n",
    "Trunk - batched input ({xBatch.shape}, {yBatch.shape}, {tBatch.shape}) -> output: {trunkOut.shape}.\"\"\")\n",
    "\n",
    "class PI_deepONet(nn.Module):\n",
    "    \"\"\"Class for physics-informed DeepONet\"\"\"\n",
    "    def __init__(self, branch: nn.Module, trunk: nn.Module):\n",
    "        super().__init__()\n",
    "        self.branch = branch\n",
    "        self.trunk = trunk\n",
    "\n",
    "    def forward(self, case: torch.tensor, x: torch.tensor, y: torch.tensor, t: torch.tensor):\n",
    "        # transpose trunk output and multiply both for\n",
    "        # sample-by-sample dot product in diagonal of result\n",
    "        return F.leaky_relu(\n",
    "            torch.diagonal(\n",
    "                torch.matmul(self.branch(case),\n",
    "                self.trunk(x, y, t).T)\n",
    "            ).unsqueeze(1)\n",
    "        )\n",
    "    \n",
    "model = PI_deepONet(branchNetwork, trunkNetwork)\n",
    "modelOut = model(branchBatch, xBatch, yBatch, tBatch)\n",
    "print(f\"Batch PI-DeepONet output shape: {modelOut.shape}\")"
   ]
  },
  {
   "attachments": {},
   "cell_type": "markdown",
   "metadata": {},
   "source": [
    "### Train"
   ]
  },
  {
   "cell_type": "code",
   "execution_count": 11,
   "metadata": {},
   "outputs": [
    {
     "name": "stdout",
     "output_type": "stream",
     "text": [
      "EPOCH   1\n",
      "\n",
      "loss: 8.2670e-01  [0/3907]\n",
      "loss: 7.2822e-04  [1000/3907]\n",
      "loss: 5.4055e-04  [2000/3907]\n",
      "loss: 3.8448e-04  [3000/3907]\n"
     ]
    },
    {
     "data": {
      "image/png": "[encoded data removed]",
      "text/plain": [
       "<Figure size 640x480 with 1 Axes>"
      ]
     },
     "metadata": {},
     "output_type": "display_data"
    }
   ],
   "source": [
    "plt.rcParams['font.size'] = 13\n",
    "def train_loop(dataloader, deepONet, loss_fn, optimizer, epochAmount):\n",
    "    lossHist = []\n",
    "    # Set the model to training mode. Added for best practices\n",
    "    deepONet.train()\n",
    "    for epoch in range(epochAmount): # epochs\n",
    "        print(f\"EPOCH   {epoch + 1}\\n\")\n",
    "        # iterate in batches\n",
    "        for (batch, (sampleCase, sampleX, sampleY, sampleT, sampleG_uy)) in enumerate(dataloader):\n",
    "            # Compute prediction and loss\n",
    "            modelOut = deepONet(sampleCase, sampleX, sampleY, sampleT)\n",
    "            loss = loss_fn(modelOut, sampleG_uy)\n",
    "            # Backpropagation\n",
    "            loss.backward()\n",
    "            optimizer.step()\n",
    "            optimizer.zero_grad()\n",
    "            if batch % 250 == 0: # log value\n",
    "                currentLoss = loss.item()\n",
    "                lossHist.append(currentLoss)\n",
    "                if batch % 1000 == 0: # occasional print\n",
    "                    print(\"loss: {:.4e}  [{:n}/{:n}]\".format(currentLoss, batch, len(dataloader)))\n",
    "        plt.plot(lossHist)\n",
    "        plt.xlabel('Batches')\n",
    "        plt.ylabel('MSE Loss')\n",
    "        plt.show()\n",
    "\n",
    "del model\n",
    "\n",
    "model = PI_deepONet(\n",
    "    branchNet(nSensor, branchDepth, branchWidth),\n",
    "    trunkNet(trunkDepth, trunkWidth)\n",
    ")\n",
    "opt = torch.optim.SGD(model.parameters(), lr = 1e-3)\n",
    "train_loop(\n",
    "    torch.utils.data.DataLoader(acoustDataset(solEvalPoint, solutionValue),\n",
    "        batch_size = 256, shuffle = True, num_workers = 0\n",
    "    ),\n",
    "    model,\n",
    "    torch.nn.functional.mse_loss,\n",
    "    opt, 1\n",
    ");"
   ]
  },
  {
   "attachments": {},
   "cell_type": "markdown",
   "metadata": {},
   "source": [
    "### Animation"
   ]
  },
  {
   "cell_type": "code",
   "execution_count": 26,
   "metadata": {},
   "outputs": [
    {
     "name": "stdout",
     "output_type": "stream",
     "text": [
      "torch.Size([2, 3362])\n"
     ]
    },
    {
     "data": {
      "text/plain": [
       "torch.Size([3362, 1])"
      ]
     },
     "execution_count": 26,
     "metadata": {},
     "output_type": "execute_result"
    }
   ],
   "source": [
    "# create folder for vtu files\n",
    "folderName = datetime.now().strftime(\"%d-%H-%M-%S\")\n",
    "os.mkdir(os.environ[\"desktopPath\"] + f\"\\\\vtkFiles\\\\animation\\\\DeepONetAnimation\\\\{folderName}\")\n",
    "# standardization\n",
    "# m = sep.mean()\n",
    "# std = sep.std()\n",
    "# timesteps = torch.tensor(np.divide(np.linspace(1, 141, num = 141) - m, std))[:, None]\n",
    "# normNodeCoord = torch.tensor(np.divide(nodeCoord - m, std))[:, None]\n",
    "# unit normalization\n",
    "minimum = sep.min()\n",
    "newSep = sep - minimum\n",
    "maximum = newSep.max()\n",
    "timesteps = torch.tensor(np.divide(\n",
    "  np.linspace(1, 141, num = 141) - minimum, maximum\n",
    "))\n",
    "normNodeCoord = torch.tensor(np.divide(nodeCoord - minimum, maximum))\n",
    "meshSize = nodeCoord.shape[1] # number of nodes in mesh\n",
    "# (x, y) distances of all points to desired load location\n",
    "distToLoad = nodeCoord - np.tile(nodeCoord[:, 1984][:, None], (1, nodeCoord.shape[1]))\n",
    "# norms of distances of sensors to desired load location\n",
    "distToLoad = torch.norm(torch.tensor(distToLoad), 2, dim = 0)[loadNodeID]\n",
    "# sensor closest to desired load location\n",
    "closestSensor = torch.min(distToLoad, 0)[1].item()\n",
    "# branch network always receives the same initial condition\n",
    "# case as input. all batches have the size of the mesh, to draw\n",
    "# the entire pressure distribution in each timestep\n",
    "sampleCase = torch.zeros((meshSize, nSensor), dtype = torch.float32)\n",
    "sampleCase[:, closestSensor] = load"
   ]
  },
  {
   "cell_type": "code",
   "execution_count": 34,
   "metadata": {},
   "outputs": [
    {
     "name": "stdout",
     "output_type": "stream",
     "text": [
      "snapshot  19\n",
      "  mean: 9.1303e-01  std: 1.6949e-04\n",
      "  max: 9.1337e-01  min: 9.1271e-01\n",
      "snapshot  21\n",
      "  mean: 9.1299e-01  std: 1.6469e-04\n",
      "  max: 9.1331e-01  min: 9.1268e-01\n",
      "snapshot  40\n",
      "  mean: 9.1288e-01  std: 1.4966e-04\n",
      "  max: 9.1315e-01  min: 9.1257e-01\n",
      "snapshot  59\n",
      "  mean: 9.1305e-01  std: 1.0283e-04\n",
      "  max: 9.1326e-01  min: 9.1285e-01\n",
      "snapshot  91\n",
      "  mean: 9.1400e-01  std: 5.9901e-05\n",
      "  max: 9.1413e-01  min: 9.1388e-01\n",
      "snapshot 100\n",
      "  mean: 9.1470e-01  std: 5.4979e-05\n",
      "  max: 9.1481e-01  min: 9.1457e-01\n",
      "snapshot 118\n",
      "  mean: 9.1621e-01  std: 5.3788e-05\n",
      "  max: 9.1631e-01  min: 9.1608e-01\n",
      "snapshot 123\n",
      "  mean: 9.1660e-01  std: 5.2607e-05\n",
      "  max: 9.1670e-01  min: 9.1648e-01\n"
     ]
    }
   ],
   "source": [
    "# iterate in time steps\n",
    "for (stepNum, step) in enumerate(timesteps):\n",
    "    # current prediction of pressure distribution on entire domain\n",
    "    with torch.no_grad():\n",
    "        currentSnapshot = model(sampleCase,\n",
    "            normNodeCoord[0, :][:, None], normNodeCoord[1, :][:, None],\n",
    "            torch.tensor(np.tile(step, (meshSize, 1)), dtype = torch.float32)\n",
    "        )\n",
    "    if np.random.rand() > 0.95:\n",
    "        print(\"snapshot {:>3}\\n  mean: {:.4e}  std: {:.4e}\\n  max: {:.4e}  min: {:.4e}\".format(\n",
    "            stepNum, currentSnapshot.mean(), currentSnapshot.std(),\n",
    "            currentSnapshot.max().item(), currentSnapshot.min().item()\n",
    "        ))\n",
    "    # create vtk object\n",
    "    my_vtk_dataset = vtk.vtkUnstructuredGrid()\n",
    "    # create points by defining coordinates\n",
    "    points = vtk.vtkPoints()\n",
    "    for id in range(meshSize):\n",
    "        points.InsertPoint(id, [nodeCoord[0, id], nodeCoord[1, id], 0])\n",
    "    my_vtk_dataset.SetPoints(points)\n",
    "    # create elements by establishing connectivity\n",
    "    numberOfElements = 3168\n",
    "    my_vtk_dataset.Allocate(numberOfElements)\n",
    "    for eleID in range(numberOfElements):\n",
    "        my_vtk_dataset.InsertNextCell(\n",
    "            vtk.VTK_QUAD, 4,\n",
    "            np.array(nodeConn[4 * eleID : 4 * (eleID + 1)])\n",
    "        )\n",
    "    # create data arrays\n",
    "    array = vtk.vtkDoubleArray()\n",
    "    array.SetNumberOfComponents(1)\n",
    "    array.SetNumberOfTuples(meshSize)\n",
    "    array.SetName('pressure')\n",
    "    # set values in all nodes for current time step\n",
    "    for id in range(meshSize):\n",
    "        array.SetTuple(id, [currentSnapshot[id, 0]])\n",
    "    my_vtk_dataset.GetPointData().AddArray(array)\n",
    "    # save data to disk\n",
    "    writer = vtk.vtkXMLUnstructuredGridWriter()\n",
    "    writer.SetFileName(\n",
    "        os.environ[\"desktopPath\"] + f\"\\\\vtkFiles\\\\animation\\\\DeepONetAnimation\\\\{folderName}\\\\output-{stepNum}.vtu\"\n",
    "    )\n",
    "    writer.SetInputData(my_vtk_dataset)\n",
    "    writer.Write()"
   ]
  }
 ],
 "metadata": {
  "kernelspec": {
   "display_name": "acousticPINNs-v9ZJkn9d",
   "language": "python",
   "name": "python3"
  },
  "language_info": {
   "codemirror_mode": {
    "name": "ipython",
    "version": 3
   },
   "file_extension": ".py",
   "mimetype": "text/x-python",
   "name": "python",
   "nbconvert_exporter": "python",
   "pygments_lexer": "ipython3",
   "version": "3.9.13"
  },
  "orig_nbformat": 4
 },
 "nbformat": 4,
 "nbformat_minor": 2
}
