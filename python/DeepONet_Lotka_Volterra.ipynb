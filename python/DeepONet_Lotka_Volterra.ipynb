{
    "cells": [
        {
            "cell_type": "code",
            "metadata": {},
            "source": [
                "# (C) Copyright IBM Corp. 2019, 2020, 2021, 2022.\n",
                "\n",
                "#    Licensed under the Apache License, Version 2.0 (the \"License\");\n",
                "#    you may not use this file except in compliance with the License.\n",
                "#    You may obtain a copy of the License at\n",
                "\n",
                "#           http://www.apache.org/licenses/LICENSE-2.0\n",
                "\n",
                "#     Unless required by applicable law or agreed to in writing, software\n",
                "#     distributed under the License is distributed on an \"AS IS\" BASIS,\n",
                "#     WITHOUT WARRANTIES OR CONDITIONS OF ANY KIND, either express or implied.\n",
                "#     See the License for the specific language governing permissions and\n",
                "#     limitations under the License.\n"
            ]
        },
        {
            "cell_type": "code",
            "execution_count": null,
            "id": "d2422554-cb16-49d8-88e3-6bc2bd8e4e37",
            "metadata": {},
            "outputs": [],
            "source": [
                "import os, sys\n",
                "import numpy as np\n",
                "import torch\n",
                "import matplotlib.pyplot as plt\n",
                "from simulai.regression import DenseNetwork\n",
                "from simulai.models import DeepONet\n",
                "from simulai.optimization import Optimizer"
            ]
        },
        {
            "cell_type": "code",
            "execution_count": null,
            "id": "6a1e5559-98cb-49e8-bfc5-b10b25515740",
            "metadata": {},
            "outputs": [],
            "source": [
                "data_path = os.environ['DATASET_PATH']\n",
                "data_path"
            ]
        },
        {
            "cell_type": "code",
            "execution_count": null,
            "id": "8917f1d8-8689-473f-ab00-d3324295f25a",
            "metadata": {},
            "outputs": [],
            "source": [
                "datasets = np.load(data_path)"
            ]
        },
        {
            "cell_type": "code",
            "execution_count": null,
            "id": "9625ab65-0688-4250-a636-05d8e57a93f7",
            "metadata": {},
            "outputs": [],
            "source": [
                "input_dataset_raw = datasets['input_dataset']\n",
                "output_dataset_raw = datasets['output_dataset']\n",
                "time_raw = datasets['time']"
            ]
        },
        {
            "cell_type": "code",
            "execution_count": null,
            "id": "ab9ded2b-2e2b-4ce2-939a-888419b1e31d",
            "metadata": {},
            "outputs": [],
            "source": [
                "time_interval = [0, 120]\n",
                "n_cases = 200\n",
                "n_cases_test = 20\n",
                "n_sensors = 100\n",
                "n_time_samples = 50\n",
                "latent_dim = 500\n",
                "n_vars = 2\n",
                "activation = \"relu\"\n",
                "trunk_layers_units = [50, 50, 50]\n",
                "branch_layers_units = [50, 50, 50]\n",
                "n_inputs = 1\n",
                "lr = 1e-3\n",
                "lambda_1 = 0.0\n",
                "lambda_2 = 1e-5\n",
                "n_epochs = 10000"
            ]
        },
        {
            "cell_type": "code",
            "execution_count": null,
            "id": "1e5e0aae-0477-426d-b7f0-4f747b76227b",
            "metadata": {},
            "outputs": [],
            "source": [
                "time_ = time_raw[time_raw <= time_interval[-1]]\n",
                "time_indices = sorted(np.random.choice(time_.shape[0], n_time_samples))\n",
                "sensors_indices = np.linspace(0, time_.shape[0], n_sensors).astype(int)"
            ]
        },
        {
            "cell_type": "code",
            "execution_count": null,
            "id": "c4651a6e-a8b6-4563-9f36-0faa306f7a36",
            "metadata": {},
            "outputs": [],
            "source": [
                "time = time_[time_indices]"
            ]
        },
        {
            "cell_type": "code",
            "execution_count": null,
            "id": "4132b6e0-1f90-4a66-bedf-a3c72c762f2a",
            "metadata": {},
            "outputs": [],
            "source": [
                "output_dataset_train = output_dataset_raw[:,:, :n_cases]\n",
                "output_dataset_test = output_dataset_raw[:,:,n_cases:]\n",
                "\n",
                "input_dataset_train = input_dataset_raw[:, :n_cases]\n",
                "input_dataset_test = input_dataset_raw[:,n_cases:]"
            ]
        },
        {
            "cell_type": "code",
            "execution_count": null,
            "id": "f926bccd-2c84-4ca7-9276-a1ddd9bc2bcd",
            "metadata": {},
            "outputs": [],
            "source": [
                "output_dataset_time_sampled = output_dataset_train[time_indices, ...]\n",
                "input_dataset_sensor_sampled = input_dataset_train[sensors_indices, ...][:,None,:]\n",
                "verify_case_index = 100"
            ]
        },
        {
            "cell_type": "code",
            "execution_count": null,
            "id": "8569dbe7-8066-4870-93c7-46b7a79be871",
            "metadata": {},
            "outputs": [],
            "source": [
                "plt.plot(time_raw, output_dataset_train[:, 0, verify_case_index])\n",
                "plt.plot(time_raw, output_dataset_train[:, 1, verify_case_index])\n",
                "plt.scatter(time, output_dataset_time_sampled[:, 0, verify_case_index], s=4, marker='x')\n",
                "plt.scatter(time, output_dataset_time_sampled[:, 1, verify_case_index], s=4, marker='x')\n",
                "plt.show()"
            ]
        },
        {
            "cell_type": "code",
            "execution_count": null,
            "id": "cb3009d1-7686-4fbd-9b76-95c23021c433",
            "metadata": {},
            "outputs": [],
            "source": [
                "plt.plot(time_raw, input_dataset_train[:, verify_case_index])\n",
                "plt.scatter(time_raw[sensors_indices], input_dataset_sensor_sampled[:, 0, verify_case_index])\n",
                "plt.show()"
            ]
        },
        {
            "cell_type": "code",
            "execution_count": null,
            "id": "1daa8c3d-0dff-4a4b-9449-28d9228b88e2",
            "metadata": {},
            "outputs": [],
            "source": [
                "output_target = output_dataset_time_sampled.transpose(2, 0, 1).reshape(n_cases*n_time_samples, -1)"
            ]
        },
        {
            "cell_type": "code",
            "execution_count": null,
            "id": "a02a69f0-8a20-4600-8061-c20b264fd1ab",
            "metadata": {},
            "outputs": [],
            "source": [
                "input_branch = np.tile(input_dataset_sensor_sampled.transpose(2, 1, 0), (1, n_time_samples, 1)).reshape(n_cases*n_time_samples, -1)"
            ]
        },
        {
            "cell_type": "code",
            "execution_count": null,
            "id": "25e95bd6-f433-41b3-bfd6-f2ed5f9fcd4c",
            "metadata": {},
            "outputs": [],
            "source": [
                "input_trunk = np.tile(time[:,None], (n_cases, 1))"
            ]
        },
        {
            "cell_type": "code",
            "execution_count": null,
            "id": "58198c77-4318-4eb9-9ee8-a465ee4dcca2",
            "metadata": {},
            "outputs": [],
            "source": [
                "print(output_target.shape)\n",
                "print(input_branch.shape)\n",
                "print(input_trunk.shape)"
            ]
        },
        {
            "cell_type": "code",
            "execution_count": null,
            "id": "6da66465-9c11-429f-b2a5-dc55eb8fbaf5",
            "metadata": {},
            "outputs": [],
            "source": [
                "# Configuration for the fully-connected network\n",
                "config_trunk = {\n",
                "                'layers_units': trunk_layers_units,  # Hidden layers\n",
                "                'activations': activation,\n",
                "                'input_size': n_inputs,\n",
                "                'output_size': latent_dim,\n",
                "                'name': 'trunk_net'\n",
                "               }\n",
                "\n",
                " # Configuration for the fully-connected network\n",
                "config_branch = {\n",
                "                'layers_units': branch_layers_units,  # Hidden layers\n",
                "                'activations': activation,\n",
                "                'input_size': n_sensors,\n",
                "                'output_size': latent_dim,\n",
                "                'name': 'branch_net'\n",
                "                }\n",
                "\n",
                "# Instantiating and training the surrogate model\n",
                "trunk_net = DenseNetwork(**config_trunk)\n",
                "\n",
                "# Instantiating and training the surrogate model\n",
                "branch_net = DenseNetwork(**config_branch)\n",
                "\n",
                "trunk_net.summary()\n",
                "branch_net.summary()\n",
                "\n",
                "optimizer_config = {'lr': lr}\n",
                "\n",
                "# Maximum derivative magnitudes to be used as loss weights\n",
                "maximum_values = (1/np.linalg.norm(output_target, 2, axis=0)).tolist()\n",
                "\n",
                "params = {'lambda_1': lambda_1, 'lambda_2': lambda_2, 'weights': maximum_values}\n",
                "\n",
                "input_data = {'input_branch': input_branch, 'input_trunk': input_trunk}\n",
                "\n",
                "# The DeepONet receives the two instances in order to construct \n",
                "# the trunk and the branch components\n",
                "op_net = DeepONet(trunk_network=trunk_net, branch_network=branch_net, var_dim=2, model_id=\"LotkaVolterra\")"
            ]
        },
        {
            "cell_type": "code",
            "execution_count": null,
            "id": "cb9cb1e3-d92b-40b5-a47b-c647d4a6f0ba",
            "metadata": {},
            "outputs": [],
            "source": [
                "optimizer = Optimizer('adam', params=optimizer_config)\n",
                "optimizer.fit(op_net, input_data=input_data, target_data=output_target,\n",
                "                      n_epochs=n_epochs, loss=\"wrmse\", params=params)"
            ]
        },
        {
            "cell_type": "code",
            "execution_count": null,
            "id": "1b656176-4c34-4b05-9282-40c6da6135c3",
            "metadata": {},
            "outputs": [],
            "source": [
                "n_tests_choices = 100\n",
                "test_indices = np.random.choice(n_cases_test, n_tests_choices)\n",
                "time_test = np.linspace(0, time_interval[-1], 2000)[:,None]\n",
                "\n",
                "for index in test_indices[::10]:\n",
                "    \n",
                "    target_test = output_dataset_test[:, :, index]\n",
                "    input_test_ = input_dataset_test[None, sensors_indices, index]\n",
                "    input_test = np.tile(input_test_, (2000, 1))\n",
                "    evaluation = op_net.eval(trunk_data=time_test, branch_data=input_test)\n",
                "    \n",
                "    plt.plot(time_raw, target_test[:,0], label=\"Exact\")\n",
                "    plt.plot(time_test, evaluation[:,0], label=\"Approximated\")\n",
                "    plt.legend()\n",
                "    plt.xlim(0, 120)\n",
                "    plt.show()"
            ]
        }
    ],
    "metadata": {
        "kernelspec": {
            "display_name": "Python 3",
            "language": "python",
            "name": "python3"
        },
        "language_info": {
            "codemirror_mode": {
                "name": "ipython",
                "version": 3
            },
            "file_extension": ".py",
            "mimetype": "text/x-python",
            "name": "python",
            "nbconvert_exporter": "python",
            "pygments_lexer": "ipython3",
            "version": "3.7.7"
        }
    },
    "nbformat": 4,
    "nbformat_minor": 5
}