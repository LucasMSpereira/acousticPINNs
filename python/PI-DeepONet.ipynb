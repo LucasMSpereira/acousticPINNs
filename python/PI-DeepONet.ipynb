{
 "cells": [
  {
   "attachments": {},
   "cell_type": "markdown",
   "metadata": {},
   "source": [
    "Packages"
   ]
  },
  {
   "cell_type": "code",
   "execution_count": 2,
   "metadata": {},
   "outputs": [
    {
     "ename": "ModuleNotFoundError",
     "evalue": "No module named 'dotenv'",
     "output_type": "error",
     "traceback": [
      "\u001b[1;31m---------------------------------------------------------------------------\u001b[0m",
      "\u001b[1;31mModuleNotFoundError\u001b[0m                       Traceback (most recent call last)",
      "Cell \u001b[1;32mIn[2], line 4\u001b[0m\n\u001b[0;32m      2\u001b[0m \u001b[39mimport\u001b[39;00m \u001b[39mnumpy\u001b[39;00m \u001b[39mas\u001b[39;00m \u001b[39mnp\u001b[39;00m\n\u001b[0;32m      3\u001b[0m \u001b[39mimport\u001b[39;00m \u001b[39mh5py\u001b[39;00m\n\u001b[1;32m----> 4\u001b[0m \u001b[39mimport\u001b[39;00m \u001b[39mdotenv\u001b[39;00m\n\u001b[0;32m      5\u001b[0m \u001b[39mfrom\u001b[39;00m \u001b[39mdotenv\u001b[39;00m \u001b[39mimport\u001b[39;00m load_dotenv\n\u001b[0;32m      6\u001b[0m \u001b[39mimport\u001b[39;00m \u001b[39mos\u001b[39;00m\n",
      "\u001b[1;31mModuleNotFoundError\u001b[0m: No module named 'dotenv'"
     ]
    }
   ],
   "source": [
    "import torch\n",
    "import numpy as np\n",
    "import h5py\n",
    "import dotenv\n",
    "from dotenv import load_dotenv\n",
    "import os\n",
    "import random\n",
    "print(os.getcwd())\n",
    "os.chdir(os.path.split(os.getcwd())[0])\n",
    "print(os.getcwd())\n",
    "load_dotenv()"
   ]
  },
  {
   "attachments": {},
   "cell_type": "markdown",
   "metadata": {},
   "source": [
    "Read data"
   ]
  },
  {
   "cell_type": "code",
   "execution_count": 2,
   "metadata": {},
   "outputs": [
    {
     "name": "stdout",
     "output_type": "stream",
     "text": [
      "Dataset shape: (391036, 4)\n"
     ]
    }
   ],
   "source": [
    "with h5py.File(\".\\\\dataset.h5\", 'r') as f:\n",
    "  data = list(f[\"standardData\"]) # read standardized data\n",
    "  # data = list(f[\"unitData\"]) # read unit normalized data\n",
    "\n",
    "# dataset organized as list of 4 numpy.ndarray elements:\n",
    "# x coordinates, y coordinates, time steps, pressure values.\n",
    "# reorganize data in [nodeQuantity * time steps, 4] matrix with\n",
    "# one information per column\n",
    "dataMatrix = np.concatenate(([data[i][:, None] for i in range(4)]), axis = 1)\n",
    "print(f\"Dataset shape: {dataMatrix.shape}\")"
   ]
  },
  {
   "attachments": {},
   "cell_type": "markdown",
   "metadata": {},
   "source": [
    "Organize data"
   ]
  },
  {
   "cell_type": "code",
   "execution_count": null,
   "metadata": {},
   "outputs": [],
   "source": [
    "# choose n_sensors random points in physical domain (which has 3371 nodes)\n",
    "randNodeIDs = random.sample(range(3372), k = n_sensors)\n",
    "# [sensor, case] matrix for input_dataset. Each line contains\n",
    "# the pressure history of a specific \"sensor\" for the FIRST n_cases time steps.\n",
    "input_dataset = np.concatenate(\n",
    "    ([dataMatrix[randNodeIDs + np.tile(3371 * step, 1), 2][:, None] for step in range(n_cases)]),\n",
    "    axis = 1\n",
    ")\n",
    "print(f\"Input dataset shape: {input_dataset.shape}\")\n",
    "\n",
    "timeStepAmount = int(dataMatrix.shape[0] / 3371) # number of time steps\n",
    "# same as input_dataset, but for the LAST n_cases time steps\n",
    "output_dataset = np.concatenate(\n",
    "    ([dataMatrix[\n",
    "        randNodeIDs + np.tile(3371 * step, 1), 2\n",
    "    ][:, None] for step in range(timeStepAmount - n_cases, timeStepAmount)]),\n",
    "    axis = 1\n",
    ")\n",
    "print(f\"Output dataset shape: {output_dataset.shape}\")"
   ]
  },
  {
   "attachments": {},
   "cell_type": "markdown",
   "metadata": {},
   "source": [
    "General parameters"
   ]
  },
  {
   "cell_type": "code",
   "execution_count": null,
   "metadata": {},
   "outputs": [],
   "source": [
    "n_cases = 30\n",
    "n_sensors = 1000\n",
    "branchDepth = 7 # number of layers in branch network (MLP architecture)\n",
    "branchWidth = 100 # number of neurons in layers of branch network (MLP architecture)\n",
    "trunkDepth = 7 # number of layers in trunk network (MLP architecture)\n",
    "trunkWidth = 100 # number of neurons in layers of trunk network (MLP architecture)\n",
    "load = -1.21 * 0.02"
   ]
  },
  {
   "attachments": {},
   "cell_type": "markdown",
   "metadata": {},
   "source": [
    "Setup model"
   ]
  },
  {
   "cell_type": "code",
   "execution_count": null,
   "metadata": {},
   "outputs": [],
   "source": []
  },
  {
   "attachments": {},
   "cell_type": "markdown",
   "metadata": {},
   "source": [
    "Loss and optimizer"
   ]
  },
  {
   "cell_type": "code",
   "execution_count": null,
   "metadata": {},
   "outputs": [],
   "source": []
  },
  {
   "attachments": {},
   "cell_type": "markdown",
   "metadata": {},
   "source": [
    "Train"
   ]
  },
  {
   "cell_type": "code",
   "execution_count": null,
   "metadata": {},
   "outputs": [],
   "source": []
  }
 ],
 "metadata": {
  "kernelspec": {
   "display_name": "acousticPINNs-v9ZJkn9d",
   "language": "python",
   "name": "python3"
  },
  "language_info": {
   "codemirror_mode": {
    "name": "ipython",
    "version": 3
   },
   "file_extension": ".py",
   "mimetype": "text/x-python",
   "name": "python",
   "nbconvert_exporter": "python",
   "pygments_lexer": "ipython3",
   "version": "3.8.10"
  },
  "orig_nbformat": 4
 },
 "nbformat": 4,
 "nbformat_minor": 2
}
