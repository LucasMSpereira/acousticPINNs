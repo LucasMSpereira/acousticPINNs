{
 "cells": [
  {
   "attachments": {},
   "cell_type": "markdown",
   "metadata": {},
   "source": [
    "Packages"
   ]
  },
  {
   "cell_type": "code",
   "execution_count": 1,
   "metadata": {},
   "outputs": [],
   "source": [
    "import torch\n",
    "import numpy as np\n",
    "import h5py\n",
    "import os\n",
    "import random\n",
    "os.chdir(os.path.split(os.getcwd())[0])"
   ]
  },
  {
   "attachments": {},
   "cell_type": "markdown",
   "metadata": {},
   "source": [
    "Read data"
   ]
  },
  {
   "cell_type": "code",
   "execution_count": 2,
   "metadata": {},
   "outputs": [
    {
     "name": "stdout",
     "output_type": "stream",
     "text": [
      "1000\n",
      "torch.Size([1000, 3])\n",
      "torch.Size([1000, 1000])\n"
     ]
    },
    {
     "name": "stderr",
     "output_type": "stream",
     "text": [
      "C:\\Users\\kaoid\\AppData\\Local\\Temp\\ipykernel_2012\\665812767.py:10: UserWarning: Creating a tensor from a list of numpy.ndarrays is extremely slow. Please consider converting the list to a single numpy.ndarray with numpy.array() before converting to a tensor. (Triggered internally at C:\\actions-runner\\_work\\pytorch\\pytorch\\builder\\windows\\pytorch\\torch\\csrc\\utils\\tensor_new.cpp:248.)\n",
      "  solutionValue = torch.tensor(f[\"solutionValues\"]).T\n"
     ]
    }
   ],
   "source": [
    "with h5py.File(\".\\\\dataset\\\\unitData.h5\", 'r') as f:\n",
    "  d = list(f[\"solEvalPoints\"])\n",
    "  # IDs of nodes used as trunk network inputs\n",
    "  nodeID = list(map(int, d[0]))\n",
    "  # [x y t] of y points (trunk inputs).\n",
    "  # matrix with rows [x y t]\n",
    "  solEvalPoint = torch.tensor(np.concatenate([d[1][:, None], d[2][:, None], d[3][:, None]], axis = 1))\n",
    "  # DeepONet output targets (G(u)(y)) for all initial conditions\n",
    "  # matrix with 'initial condition' rows and 'y point' columns\n",
    "  solutionValue = torch.tensor(f[\"solutionValues\"]).T\n",
    "del d\n",
    "print(len(nodeID))\n",
    "print(solEvalPoint.shape)\n",
    "print(solutionValue.shape)"
   ]
  },
  {
   "attachments": {},
   "cell_type": "markdown",
   "metadata": {},
   "source": [
    "Data parameters"
   ]
  },
  {
   "cell_type": "code",
   "execution_count": 3,
   "metadata": {},
   "outputs": [
    {
     "name": "stdout",
     "output_type": "stream",
     "text": [
      "Dataset contains 1000000 samples.\n"
     ]
    }
   ],
   "source": [
    "# number of sensors is equal to number of cases\n",
    "nCase = solutionValue.shape[0]\n",
    "nSensor = solutionValue.shape[0]\n",
    "# value of concentrated load as initial condition\n",
    "load = torch.tensor(-1.21 * 0.02).to(torch.float32)\n",
    "evalAmount = solEvalPoint.shape[0] # number of y points (trunk inputs)\n",
    "nSample = torch.numel(solutionValue) # amount of samples in dataset\n",
    "print(f\"Dataset contains {nSample} samples.\")"
   ]
  },
  {
   "attachments": {},
   "cell_type": "markdown",
   "metadata": {},
   "source": [
    "Organize data"
   ]
  },
  {
   "cell_type": "code",
   "execution_count": 4,
   "metadata": {},
   "outputs": [],
   "source": [
    "class acoustDataset(torch.utils.data.Dataset):\n",
    "    \"\"\"Dataset subclass to organize data\"\"\"\n",
    "    def __init__(self, evalPoint: torch.tensor, solVal: torch.tensor) -> None:\n",
    "        super(acoustDataset, self).__init__()\n",
    "        # repeat y coordinates for trunk input\n",
    "        # self.trunkInput = torch.tile(evalPoint, (nSample // nCase, 1))\n",
    "        self.trunkInput = evalPoint\n",
    "        # target for model output\n",
    "        self.target = torch.flatten(solVal)\n",
    "        # load value at specific sensor. 0 everywhere else\n",
    "        self.branchInput = torch.zeros((nSample, nSensor), dtype = torch.float32)\n",
    "    \n",
    "    def __getitem__(self, idx):\n",
    "        \"\"\"Overwrite method to fetch sample\"\"\"\n",
    "        branchInput = torch.zeros(nSensor, dtype = torch.float32)\n",
    "        branchInput[idx - (idx // nCase) * nCase] = load\n",
    "        return branchInput, self.trunkInput[idx - (idx // evalAmount) * nCase, :], self.target[idx]\n",
    "    \n",
    "    def __len__(self):\n",
    "        \"\"\"Overwrite method to return size of dataset\"\"\"\n",
    "        return torch.numel(self.target)\n",
    "\n",
    "dataloader = torch.utils.data.DataLoader(acoustDataset(solEvalPoint, solutionValue),\n",
    "    batch_size = 64, shuffle = True, num_workers = 0\n",
    ")"
   ]
  },
  {
   "cell_type": "code",
   "execution_count": 54,
   "metadata": {},
   "outputs": [
    {
     "name": "stdout",
     "output_type": "stream",
     "text": [
      "Batch shapes:\n",
      "  branch network inputs: torch.Size([64, 1000])\n",
      "  trunk network inputs: torch.Size([64, 3])\n",
      "  model output targets: torch.Size([64])\n",
      "0 64\n"
     ]
    }
   ],
   "source": [
    "branchBatch, trunkBatch, targetBatch = next(iter(dataloader))\n",
    "print(f\"\"\"Batch shapes:\n",
    "  branch network inputs: {branchBatch.shape}\n",
    "  trunk network inputs: {trunkBatch.shape}\n",
    "  model output targets: {targetBatch.shape}\"\"\")"
   ]
  },
  {
   "attachments": {},
   "cell_type": "markdown",
   "metadata": {},
   "source": [
    "ML parameters"
   ]
  },
  {
   "cell_type": "code",
   "execution_count": null,
   "metadata": {},
   "outputs": [],
   "source": [
    "branchDepth = 7 # number of layers in branch network (MLP architecture)\n",
    "branchWidth = 100 # number of neurons in layers of branch network (MLP architecture)\n",
    "trunkDepth = 7 # number of layers in trunk network (MLP architecture)\n",
    "trunkWidth = 100 # number of neurons in layers of trunk network (MLP architecture)"
   ]
  },
  {
   "attachments": {},
   "cell_type": "markdown",
   "metadata": {},
   "source": [
    "Setup model"
   ]
  },
  {
   "cell_type": "code",
   "execution_count": null,
   "metadata": {},
   "outputs": [],
   "source": []
  },
  {
   "attachments": {},
   "cell_type": "markdown",
   "metadata": {},
   "source": [
    "Loss and optimizer"
   ]
  },
  {
   "cell_type": "code",
   "execution_count": null,
   "metadata": {},
   "outputs": [],
   "source": []
  },
  {
   "attachments": {},
   "cell_type": "markdown",
   "metadata": {},
   "source": [
    "Train"
   ]
  },
  {
   "cell_type": "code",
   "execution_count": null,
   "metadata": {},
   "outputs": [],
   "source": []
  }
 ],
 "metadata": {
  "kernelspec": {
   "display_name": "acousticPINNs-v9ZJkn9d",
   "language": "python",
   "name": "python3"
  },
  "language_info": {
   "codemirror_mode": {
    "name": "ipython",
    "version": 3
   },
   "file_extension": ".py",
   "mimetype": "text/x-python",
   "name": "python",
   "nbconvert_exporter": "python",
   "pygments_lexer": "ipython3",
   "version": "3.8.10"
  },
  "orig_nbformat": 4
 },
 "nbformat": 4,
 "nbformat_minor": 2
}
