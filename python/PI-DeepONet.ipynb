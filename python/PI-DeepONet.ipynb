{
 "cells": [
  {
   "attachments": {},
   "cell_type": "markdown",
   "metadata": {},
   "source": [
    "Packages"
   ]
  },
  {
   "cell_type": "code",
   "execution_count": 10,
   "metadata": {},
   "outputs": [],
   "source": [
    "import torch\n",
    "from torch.autograd import grad\n",
    "from torch import nn\n",
    "from torch.nn import functional as F\n",
    "import numpy as np\n",
    "import h5py\n",
    "import matplotlib.pyplot as plt\n",
    "import os\n",
    "import random\n",
    "os.chdir(os.path.split(os.getcwd())[0])"
   ]
  },
  {
   "attachments": {},
   "cell_type": "markdown",
   "metadata": {},
   "source": [
    "Read data"
   ]
  },
  {
   "cell_type": "code",
   "execution_count": 11,
   "metadata": {},
   "outputs": [
    {
     "ename": "FileNotFoundError",
     "evalue": "[Errno 2] Unable to open file (unable to open file: name = '.\\dataset\\unitData.h5', errno = 2, error message = 'No such file or directory', flags = 0, o_flags = 0)",
     "output_type": "error",
     "traceback": [
      "\u001b[1;31m---------------------------------------------------------------------------\u001b[0m",
      "\u001b[1;31mFileNotFoundError\u001b[0m                         Traceback (most recent call last)",
      "Cell \u001b[1;32mIn[11], line 1\u001b[0m\n\u001b[1;32m----> 1\u001b[0m \u001b[39mwith\u001b[39;00m h5py\u001b[39m.\u001b[39;49mFile(\u001b[39m\"\u001b[39;49m\u001b[39m.\u001b[39;49m\u001b[39m\\\\\u001b[39;49;00m\u001b[39mdataset\u001b[39;49m\u001b[39m\\\\\u001b[39;49;00m\u001b[39munitData.h5\u001b[39;49m\u001b[39m\"\u001b[39;49m, \u001b[39m'\u001b[39;49m\u001b[39mr\u001b[39;49m\u001b[39m'\u001b[39;49m) \u001b[39mas\u001b[39;00m f:\n\u001b[0;32m      2\u001b[0m   d \u001b[39m=\u001b[39m \u001b[39mlist\u001b[39m(f[\u001b[39m\"\u001b[39m\u001b[39msolEvalPoints\u001b[39m\u001b[39m\"\u001b[39m])\n\u001b[0;32m      3\u001b[0m   \u001b[39m# IDs of nodes used as trunk network inputs\u001b[39;00m\n",
      "File \u001b[1;32mc:\\Users\\kaoid\\.virtualenvs\\acousticPINNs-v9ZJkn9d\\lib\\site-packages\\h5py\\_hl\\files.py:567\u001b[0m, in \u001b[0;36mFile.__init__\u001b[1;34m(self, name, mode, driver, libver, userblock_size, swmr, rdcc_nslots, rdcc_nbytes, rdcc_w0, track_order, fs_strategy, fs_persist, fs_threshold, fs_page_size, page_buf_size, min_meta_keep, min_raw_keep, locking, alignment_threshold, alignment_interval, meta_block_size, **kwds)\u001b[0m\n\u001b[0;32m    558\u001b[0m     fapl \u001b[39m=\u001b[39m make_fapl(driver, libver, rdcc_nslots, rdcc_nbytes, rdcc_w0,\n\u001b[0;32m    559\u001b[0m                      locking, page_buf_size, min_meta_keep, min_raw_keep,\n\u001b[0;32m    560\u001b[0m                      alignment_threshold\u001b[39m=\u001b[39malignment_threshold,\n\u001b[0;32m    561\u001b[0m                      alignment_interval\u001b[39m=\u001b[39malignment_interval,\n\u001b[0;32m    562\u001b[0m                      meta_block_size\u001b[39m=\u001b[39mmeta_block_size,\n\u001b[0;32m    563\u001b[0m                      \u001b[39m*\u001b[39m\u001b[39m*\u001b[39mkwds)\n\u001b[0;32m    564\u001b[0m     fcpl \u001b[39m=\u001b[39m make_fcpl(track_order\u001b[39m=\u001b[39mtrack_order, fs_strategy\u001b[39m=\u001b[39mfs_strategy,\n\u001b[0;32m    565\u001b[0m                      fs_persist\u001b[39m=\u001b[39mfs_persist, fs_threshold\u001b[39m=\u001b[39mfs_threshold,\n\u001b[0;32m    566\u001b[0m                      fs_page_size\u001b[39m=\u001b[39mfs_page_size)\n\u001b[1;32m--> 567\u001b[0m     fid \u001b[39m=\u001b[39m make_fid(name, mode, userblock_size, fapl, fcpl, swmr\u001b[39m=\u001b[39;49mswmr)\n\u001b[0;32m    569\u001b[0m \u001b[39mif\u001b[39;00m \u001b[39misinstance\u001b[39m(libver, \u001b[39mtuple\u001b[39m):\n\u001b[0;32m    570\u001b[0m     \u001b[39mself\u001b[39m\u001b[39m.\u001b[39m_libver \u001b[39m=\u001b[39m libver\n",
      "File \u001b[1;32mc:\\Users\\kaoid\\.virtualenvs\\acousticPINNs-v9ZJkn9d\\lib\\site-packages\\h5py\\_hl\\files.py:231\u001b[0m, in \u001b[0;36mmake_fid\u001b[1;34m(name, mode, userblock_size, fapl, fcpl, swmr)\u001b[0m\n\u001b[0;32m    229\u001b[0m     \u001b[39mif\u001b[39;00m swmr \u001b[39mand\u001b[39;00m swmr_support:\n\u001b[0;32m    230\u001b[0m         flags \u001b[39m|\u001b[39m\u001b[39m=\u001b[39m h5f\u001b[39m.\u001b[39mACC_SWMR_READ\n\u001b[1;32m--> 231\u001b[0m     fid \u001b[39m=\u001b[39m h5f\u001b[39m.\u001b[39;49mopen(name, flags, fapl\u001b[39m=\u001b[39;49mfapl)\n\u001b[0;32m    232\u001b[0m \u001b[39melif\u001b[39;00m mode \u001b[39m==\u001b[39m \u001b[39m'\u001b[39m\u001b[39mr+\u001b[39m\u001b[39m'\u001b[39m:\n\u001b[0;32m    233\u001b[0m     fid \u001b[39m=\u001b[39m h5f\u001b[39m.\u001b[39mopen(name, h5f\u001b[39m.\u001b[39mACC_RDWR, fapl\u001b[39m=\u001b[39mfapl)\n",
      "File \u001b[1;32mh5py\\_objects.pyx:54\u001b[0m, in \u001b[0;36mh5py._objects.with_phil.wrapper\u001b[1;34m()\u001b[0m\n",
      "File \u001b[1;32mh5py\\_objects.pyx:55\u001b[0m, in \u001b[0;36mh5py._objects.with_phil.wrapper\u001b[1;34m()\u001b[0m\n",
      "File \u001b[1;32mh5py\\h5f.pyx:106\u001b[0m, in \u001b[0;36mh5py.h5f.open\u001b[1;34m()\u001b[0m\n",
      "\u001b[1;31mFileNotFoundError\u001b[0m: [Errno 2] Unable to open file (unable to open file: name = '.\\dataset\\unitData.h5', errno = 2, error message = 'No such file or directory', flags = 0, o_flags = 0)"
     ]
    }
   ],
   "source": [
    "with h5py.File(\".\\\\dataset\\\\unitData.h5\", 'r') as f:\n",
    "  d = list(f[\"solEvalPoints\"])\n",
    "  # IDs of nodes used as trunk network inputs\n",
    "  nodeID = list(map(int, d[0]))\n",
    "  # [x y t] of y points (trunk inputs).\n",
    "  # matrix with rows [x y t]\n",
    "  solEvalPoint = torch.tensor(np.concatenate([d[1][:, None], d[2][:, None], d[3][:, None]], axis = 1))\n",
    "  # DeepONet output targets (G(u)(y)) for all initial conditions\n",
    "  # matrix with 'initial condition' rows and 'y point' columns\n",
    "  solutionValue = torch.tensor(f[\"solutionValues\"]).T\n",
    "del d\n",
    "print(len(nodeID))\n",
    "print(solEvalPoint.shape)\n",
    "print(solutionValue.shape)"
   ]
  },
  {
   "attachments": {},
   "cell_type": "markdown",
   "metadata": {},
   "source": [
    "Data parameters"
   ]
  },
  {
   "cell_type": "code",
   "execution_count": null,
   "metadata": {},
   "outputs": [
    {
     "name": "stdout",
     "output_type": "stream",
     "text": [
      "Dataset contains 1_000_000 samples.\n"
     ]
    }
   ],
   "source": [
    "# number of sensors is equal to number of cases\n",
    "nCase = solutionValue.shape[0]\n",
    "nSensor = solutionValue.shape[0]\n",
    "# value of concentrated load as initial condition\n",
    "load = torch.tensor(-1.21 * 0.02).to(torch.float32)\n",
    "evalAmount = solEvalPoint.shape[0] # number of y points (trunk inputs)\n",
    "nSample = torch.numel(solutionValue) # amount of samples in dataset\n",
    "print(\"Dataset contains {:_} samples.\".format(nSample))"
   ]
  },
  {
   "attachments": {},
   "cell_type": "markdown",
   "metadata": {},
   "source": [
    "Organize data"
   ]
  },
  {
   "cell_type": "code",
   "execution_count": null,
   "metadata": {},
   "outputs": [],
   "source": [
    "class acoustDataset(torch.utils.data.Dataset):\n",
    "    \"\"\"Dataset subclass to organize data\"\"\"\n",
    "    def __init__(self, evalPoint: torch.tensor, solVal: torch.tensor) -> None:\n",
    "        super(acoustDataset, self).__init__()\n",
    "        self.trunkInput = evalPoint\n",
    "        # target for model output\n",
    "        self.target = torch.flatten(solVal)\n",
    "    \n",
    "    def __getitem__(self, idx):\n",
    "        \"\"\"Overwrite method to fetch sample\"\"\"\n",
    "        # branch input load value at specific sensor. 0 everywhere else\n",
    "        branchInput = torch.zeros(nSensor, dtype = torch.float32)\n",
    "        branchInput[idx - (idx // nCase) * nCase] = load\n",
    "        branchInput.requires_grad_(True)\n",
    "        # index to access tensor with coordinates of evaluation point (trunk inputs)\n",
    "        i = idx - (idx // evalAmount) * evalAmount\n",
    "        trunkIn = [self.trunkInput[i, s].unsqueeze(0).requires_grad_(True) for s in range(3)]\n",
    "        # sample has (case evaluation at sensors, x, y, t, G(u)(y))\n",
    "        return branchInput, *trunkIn, self.target[idx].unsqueeze(0).requires_grad_(True)\n",
    "        # return (branchInput, self.trunkInput[i, 0].unsqueeze(0), self.trunkInput[i, 1].unsqueeze(0), self.trunkInput[i, 2].unsqueeze(0), self.target[idx].unsqueeze(0))\n",
    "    \n",
    "    def __len__(self):\n",
    "        \"\"\"Overwrite method to return size of dataset\"\"\"\n",
    "        return torch.numel(self.target)"
   ]
  },
  {
   "cell_type": "code",
   "execution_count": null,
   "metadata": {},
   "outputs": [
    {
     "name": "stdout",
     "output_type": "stream",
     "text": [
      "Batch shapes:\n",
      "  branch network inputs: torch.Size([256, 1000])\n",
      "  trunk network inputs:\n",
      "    x torch.Size([256, 1])\n",
      "    y torch.Size([256, 1])\n",
      "    t torch.Size([256, 1])\n",
      "  model output targets: torch.Size([256, 1])\n"
     ]
    }
   ],
   "source": [
    "dataloader = torch.utils.data.DataLoader(acoustDataset(solEvalPoint, solutionValue),\n",
    "    batch_size = 256, shuffle = True, num_workers = 0\n",
    ")\n",
    "branchBatch, xBatch, yBatch, tBatch, targetBatch = next(iter(dataloader))\n",
    "print(f\"\"\"Batch shapes:\n",
    "  branch network inputs: {branchBatch.shape}\n",
    "  trunk network inputs:\n",
    "    x {xBatch.shape}\n",
    "    y {yBatch.shape}\n",
    "    t {tBatch.shape}\n",
    "  model output targets: {targetBatch.shape}\"\"\")"
   ]
  },
  {
   "attachments": {},
   "cell_type": "markdown",
   "metadata": {},
   "source": [
    "ML parameters"
   ]
  },
  {
   "cell_type": "code",
   "execution_count": null,
   "metadata": {},
   "outputs": [],
   "source": [
    "branchDepth = 7 # number of layers in branch network (MLP architecture)\n",
    "branchWidth = 100 # number of neurons in layers of branch network (MLP architecture)\n",
    "trunkDepth = 7 # number of layers in trunk network (MLP architecture)\n",
    "trunkWidth = 100 # number of neurons in layers of trunk network (MLP architecture)\n",
    "networkOutputDim = 100 # dimension of outputs of networks"
   ]
  },
  {
   "attachments": {},
   "cell_type": "markdown",
   "metadata": {},
   "source": [
    "Setup model"
   ]
  },
  {
   "cell_type": "code",
   "execution_count": null,
   "metadata": {},
   "outputs": [
    {
     "name": "stdout",
     "output_type": "stream",
     "text": [
      "Branch - batched input torch.Size([256, 1000]) -> output: torch.Size([256, 100]).\n",
      "Trunk - batched input (torch.Size([256, 1]), torch.Size([256, 1]), torch.Size([256, 1])) -> output: torch.Size([256, 100]).\n",
      "Batch PI-DeepONet output shape: torch.Size([256])\n"
     ]
    }
   ],
   "source": [
    "class branchNet(nn.Module):\n",
    "    \"\"\"Branch network definition\"\"\"\n",
    "    def __init__(self, inDim: int, nnDepth: int, nnWidth: int):\n",
    "        super().__init__()\n",
    "        # Input layer. Resizes input to desired network width\n",
    "        self.inputLayer = nn.Linear(inDim, nnWidth)\n",
    "        # intermediate dense layers. constant dimension\n",
    "        self.MLPstack = nn.ModuleList([nn.Linear(nnWidth, nnWidth) for _ in range(nnDepth - 2)])\n",
    "        # output layer. resizes network intermediate representation to networkOutputDim\n",
    "        self.outputLayer = nn.Linear(nnWidth, networkOutputDim)\n",
    "\n",
    "    def forward(self, x): # forward pass\n",
    "        x = F.relu(self.inputLayer(x))\n",
    "        for l in self.MLPstack:\n",
    "            x = F.relu(l(x))\n",
    "        return self.outputLayer(x)\n",
    "    \n",
    "class trunkNet(nn.Module):\n",
    "    \"\"\"Trunk network definition\"\"\"\n",
    "    def __init__(self, nnDepth: int, nnWidth: int):\n",
    "        super().__init__()\n",
    "        # Input layer. Resizes input to desired network width.\n",
    "        # consider trunk network as receiving individual inputs\n",
    "        # for each dimension (x, y, t)\n",
    "        self.xCoord = nn.Linear(1, nnWidth)\n",
    "        self.yCoord = nn.Linear(1, nnWidth)\n",
    "        self.tCoord = nn.Linear(1, nnWidth)\n",
    "        # intermediate dense layers. constant dimension\n",
    "        self.MLPstack = nn.ModuleList([nn.Linear(nnWidth, nnWidth) for _ in range(nnDepth - 2)])\n",
    "        # output layer. resizes network intermediate representation to networkOutputDim\n",
    "        self.outputLayer = nn.Linear(nnWidth, networkOutputDim)\n",
    "\n",
    "    def forward(self, x, y, t): # forward pass\n",
    "        x = F.relu(self.xCoord(x))\n",
    "        y = F.relu(self.yCoord(y))\n",
    "        t = F.relu(self.tCoord(t))\n",
    "        o = x + y + t\n",
    "        for l in self.MLPstack:\n",
    "            o = F.relu(l(o))\n",
    "        return self.outputLayer(o)\n",
    "    \n",
    "# Branch network. Embeds evaluations of the input functions 'u' at sensors\n",
    "branchNetwork = branchNet(nSensor, branchDepth, branchWidth)\n",
    "branchOut = branchNetwork(branchBatch)\n",
    "# Trunk network. Embeds spatiotemporal coordinates (x, y, t) of\n",
    "# point y, in which the PDE solution (G(u)(y)) is evaluated\n",
    "trunkNetwork = trunkNet(trunkDepth, trunkWidth)\n",
    "trunkOut = trunkNetwork(xBatch, yBatch, tBatch)\n",
    "# Shapes of outputs of networks\n",
    "print(f\"\"\"Branch - batched input {branchBatch.shape} -> output: {branchOut.shape}.\n",
    "Trunk - batched input ({xBatch.shape}, {yBatch.shape}, {tBatch.shape}) -> output: {trunkOut.shape}.\"\"\")\n",
    "\n",
    "class PI_deepONet(nn.Module):\n",
    "    \"\"\"Class for physics-informed DeepONet\"\"\"\n",
    "    def __init__(self, branch: nn.Module, trunk: nn.Module):\n",
    "        super().__init__()\n",
    "        self.branch = branch\n",
    "        self.trunk = trunk\n",
    "\n",
    "    def forward(self, case: torch.tensor, x: torch.tensor, y: torch.tensor, t: torch.tensor):\n",
    "        # transpose trunk output and multiply both for\n",
    "        # sample-by-sample dot product in diagonal of result\n",
    "        return F.relu(torch.diagonal(torch.matmul(self.branch(case), self.trunk(x, y, t).T)))\n",
    "    \n",
    "model = PI_deepONet(branchNetwork, trunkNetwork)\n",
    "modelOut = model(branchBatch, xBatch, yBatch, tBatch)\n",
    "print(f\"Batch PI-DeepONet output shape: {modelOut.shape}\")"
   ]
  },
  {
   "attachments": {},
   "cell_type": "markdown",
   "metadata": {},
   "source": [
    "Loss"
   ]
  },
  {
   "cell_type": "code",
   "execution_count": null,
   "metadata": {},
   "outputs": [],
   "source": [
    "# outM = model(branchBatch, xBatch, yBatch, tBatch)\n",
    "# p_x = grad(outM.sum(), xBatch, create_graph = True)[0]\n",
    "# p_xx = grad(p_x.sum(), xBatch)[0]\n",
    "# print(p_x.shape)\n",
    "# print(p_xx.shape)\n",
    "\n",
    "# def sf(bb, xb, yb, tb):\n",
    "#     return torch.sum(model(bb, xb, yb, tb))\n",
    "# torch.autograd.functional.hessian(sf, (branchBatch, xBatch, yBatch, tBatch), create_graph = False, strict = False)\n",
    "\n",
    "def PDEresidual(case: torch.tensor, evalPoint: torch.tensor, m: torch.nn.Module) -> torch.tensor:\n",
    "    \"\"\"PDE residual through AD for physics-informed loss term\"\"\"\n",
    "    p = model(case, evalPoint)\n",
    "    # p_x = torch.autograd.grad(p, , create_graph=True)[0]"
   ]
  },
  {
   "attachments": {},
   "cell_type": "markdown",
   "metadata": {},
   "source": [
    "Optimizer"
   ]
  },
  {
   "cell_type": "code",
   "execution_count": 15,
   "metadata": {},
   "outputs": [],
   "source": [
    "opt = torch.optim.SGD(model.parameters(), lr = 1e-3)"
   ]
  },
  {
   "attachments": {},
   "cell_type": "markdown",
   "metadata": {},
   "source": [
    "Train"
   ]
  },
  {
   "cell_type": "code",
   "execution_count": 16,
   "metadata": {},
   "outputs": [
    {
     "name": "stdout",
     "output_type": "stream",
     "text": [
      "EPOCH   0\n",
      "\n",
      "loss: 6.6781e-01  [0/3907]\n"
     ]
    },
    {
     "name": "stderr",
     "output_type": "stream",
     "text": [
      "C:\\Users\\kaoid\\AppData\\Local\\Temp\\ipykernel_4508\\456043529.py:11: UserWarning: Using a target size (torch.Size([256, 1])) that is different to the input size (torch.Size([256])). This will likely lead to incorrect results due to broadcasting. Please ensure they have the same size.\n",
      "  loss = loss_fn(modelOut, sampleG_uy)\n"
     ]
    },
    {
     "name": "stdout",
     "output_type": "stream",
     "text": [
      "loss: 8.6681e-03  [1000/3907]\n",
      "loss: 1.3041e-02  [2000/3907]\n",
      "loss: 1.5249e-02  [3000/3907]\n"
     ]
    },
    {
     "name": "stderr",
     "output_type": "stream",
     "text": [
      "C:\\Users\\kaoid\\AppData\\Local\\Temp\\ipykernel_4508\\456043529.py:11: UserWarning: Using a target size (torch.Size([64, 1])) that is different to the input size (torch.Size([64])). This will likely lead to incorrect results due to broadcasting. Please ensure they have the same size.\n",
      "  loss = loss_fn(modelOut, sampleG_uy)\n"
     ]
    },
    {
     "data": {
      "image/png": "[encoded data removed]",
      "text/plain": [
       "<Figure size 640x480 with 1 Axes>"
      ]
     },
     "metadata": {},
     "output_type": "display_data"
    },
    {
     "name": "stdout",
     "output_type": "stream",
     "text": [
      "EPOCH   1\n",
      "\n",
      "loss: 8.2950e-03  [0/3907]\n",
      "loss: 1.2831e-02  [1000/3907]\n",
      "loss: 6.8533e-03  [2000/3907]\n",
      "loss: 6.5738e-03  [3000/3907]\n"
     ]
    },
    {
     "data": {
      "image/png": "[encoded data removed]",
      "text/plain": [
       "<Figure size 640x480 with 1 Axes>"
      ]
     },
     "metadata": {},
     "output_type": "display_data"
    },
    {
     "name": "stdout",
     "output_type": "stream",
     "text": [
      "EPOCH   2\n",
      "\n",
      "loss: 1.1440e-02  [0/3907]\n",
      "loss: 1.0187e-02  [1000/3907]\n",
      "loss: 1.0570e-02  [2000/3907]\n",
      "loss: 1.4643e-02  [3000/3907]\n"
     ]
    },
    {
     "data": {
      "image/png": "[encoded data removed]",
      "text/plain": [
       "<Figure size 640x480 with 1 Axes>"
      ]
     },
     "metadata": {},
     "output_type": "display_data"
    }
   ],
   "source": [
    "def train_loop(dataloader, deepONet, loss_fn, optimizer, epochAmount):\n",
    "    lossHist = []\n",
    "    # Set the model to training mode. Added for best practices\n",
    "    deepONet.train()\n",
    "    # iterate in batches\n",
    "    for epoch in range(epochAmount):\n",
    "        print(f\"EPOCH   {epoch}\\n\")\n",
    "        for (batch, (sampleCase, sampleX, sampleY, sampleT, sampleG_uy)) in enumerate(dataloader):\n",
    "            # Compute prediction and loss\n",
    "            modelOut = deepONet(sampleCase, sampleX, sampleY, sampleT)\n",
    "            loss = loss_fn(modelOut, sampleG_uy)\n",
    "            # Backpropagation\n",
    "            loss.backward()\n",
    "            optimizer.step()\n",
    "            optimizer.zero_grad()\n",
    "\n",
    "            if batch % 1000 == 0:\n",
    "                currentLoss = loss.item()\n",
    "                print(\"loss: {:.4e}  [{:n}/{:n}]\".format(currentLoss, batch, len(dataloader)))\n",
    "                lossHist.append(currentLoss)\n",
    "        plt.plot(lossHist)\n",
    "        plt.show()\n",
    "\n",
    "train_loop(dataloader, model, torch.nn.functional.mse_loss, opt, 3);"
   ]
  }
 ],
 "metadata": {
  "kernelspec": {
   "display_name": "acousticPINNs-v9ZJkn9d",
   "language": "python",
   "name": "python3"
  },
  "language_info": {
   "codemirror_mode": {
    "name": "ipython",
    "version": 3
   },
   "file_extension": ".py",
   "mimetype": "text/x-python",
   "name": "python",
   "nbconvert_exporter": "python",
   "pygments_lexer": "ipython3",
   "version": "3.8.10"
  },
  "orig_nbformat": 4
 },
 "nbformat": 4,
 "nbformat_minor": 2
}
